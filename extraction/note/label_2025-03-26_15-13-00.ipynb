{
 "cells": [
  {
   "cell_type": "code",
   "id": "initial_id",
   "metadata": {
    "collapsed": true,
    "ExecuteTime": {
     "end_time": "2025-04-09T07:38:27.066575Z",
     "start_time": "2025-04-09T07:38:27.048555Z"
    }
   },
   "source": [
    "duration = 1.5\n",
    "pkl_path_left = \"../pd/2025-03-26_15-13-39_left.pkl\"\n",
    "pkl_path_right = '../pd/2025-03-26_15-13-31_right.pkl'\n",
    "t = \"2025-03-26 \"\n",
    "start_timestamp = \"2025-03-26 15:05:35.000\"\n",
    "end_timestamp = '2025-03-26 15:13:31.000'\n",
    "calibration_time_left = 1.5\n",
    "calibration_time_right = 2.0\n",
    "merge_name = 'combined_numpy_1_merge.pkl'"
   ],
   "outputs": [],
   "execution_count": 1
  },
  {
   "metadata": {
    "ExecuteTime": {
     "end_time": "2025-04-09T07:38:36.560618Z",
     "start_time": "2025-04-09T07:38:35.525424Z"
    }
   },
   "cell_type": "code",
   "source": [
    "import numpy as np\n",
    "import pandas as pd"
   ],
   "id": "aeb95e46ec1c29d7",
   "outputs": [],
   "execution_count": 2
  },
  {
   "metadata": {
    "ExecuteTime": {
     "end_time": "2025-04-09T07:38:37.308147Z",
     "start_time": "2025-04-09T07:38:37.105658Z"
    }
   },
   "cell_type": "code",
   "source": [
    "pd_pickle_left = pd.read_pickle(pkl_path_left)\n",
    "# round the timestamp to the nearest 5ms\n",
    "pd_pickle_left.loc[:, 'timestamp'] = pd_pickle_left['timestamp'].dt.round('5ms')\n",
    "# keep the data between the start_timestamp and the end_timestamp of the pd_pickle_left\n",
    "pd_pickle_left = pd_pickle_left[(pd_pickle_left['timestamp'] > start_timestamp) & (pd_pickle_left['timestamp'] <= end_timestamp)]"
   ],
   "id": "ae233e434298a82f",
   "outputs": [],
   "execution_count": 3
  },
  {
   "metadata": {
    "ExecuteTime": {
     "end_time": "2025-04-09T07:38:38.906283Z",
     "start_time": "2025-04-09T07:38:38.792366Z"
    }
   },
   "cell_type": "code",
   "source": [
    "pd_pickle_right = pd.read_pickle(pkl_path_right)\n",
    "pd_pickle_right.loc[:, 'timestamp'] = pd_pickle_right['timestamp'].dt.round('5ms')\n",
    "# keep the data between the start_timestamp and the end_timestamp of the pd_pickle_right\n",
    "pd_pickle_right = pd_pickle_right[(pd_pickle_right['timestamp'] > start_timestamp) & (pd_pickle_right['timestamp'] <= end_timestamp)]"
   ],
   "id": "da4ace29c08bfcc9",
   "outputs": [],
   "execution_count": 4
  },
  {
   "metadata": {
    "ExecuteTime": {
     "end_time": "2025-04-09T07:38:45.037743Z",
     "start_time": "2025-04-09T07:38:45.026249Z"
    }
   },
   "cell_type": "code",
   "source": "pd_pickle_left.shape",
   "id": "d85080025555e42e",
   "outputs": [
    {
     "data": {
      "text/plain": [
       "(95200, 10)"
      ]
     },
     "execution_count": 5,
     "metadata": {},
     "output_type": "execute_result"
    }
   ],
   "execution_count": 5
  },
  {
   "metadata": {
    "ExecuteTime": {
     "end_time": "2025-04-09T07:38:45.902374Z",
     "start_time": "2025-04-09T07:38:45.890451Z"
    }
   },
   "cell_type": "code",
   "source": "pd_pickle_right.shape",
   "id": "e32d1a0dd86dd394",
   "outputs": [
    {
     "data": {
      "text/plain": [
       "(95200, 10)"
      ]
     },
     "execution_count": 6,
     "metadata": {},
     "output_type": "execute_result"
    }
   ],
   "execution_count": 6
  },
  {
   "metadata": {
    "ExecuteTime": {
     "end_time": "2025-04-09T07:38:48.418402Z",
     "start_time": "2025-04-09T07:38:47.350084Z"
    }
   },
   "cell_type": "code",
   "source": [
    "import matplotlib.pyplot as plt\n",
    "\n",
    "def show_column(data, column_name, time_range):\n",
    "    \"\"\"\n",
    "    Plots the specified column data interactively within a given time range.\n",
    "\n",
    "    Parameters:\n",
    "        data (pd.DataFrame): The DataFrame containing the data.\n",
    "        column_name (str): The column to be plotted.\n",
    "        time_range (tuple): A tuple containing the start and end timestamps as strings.\n",
    "    \"\"\"\n",
    "    start_time, end_time = time_range\n",
    "    filtered_data = data[(data['timestamp'] >= start_time) & (data['timestamp'] <= end_time)]\n",
    "\n",
    "    %matplotlib notebook\n",
    "    plt.figure(figsize=(10, 6))\n",
    "    plt.plot(filtered_data['timestamp'], filtered_data[column_name], label=column_name, color='blue')\n",
    "    plt.title(f'{column_name} over Time')\n",
    "    plt.xlabel('Timestamp')\n",
    "    plt.ylabel(column_name)\n",
    "    plt.legend()\n",
    "    plt.grid(True)\n",
    "    plt.show()"
   ],
   "id": "973cf60b108f6c3d",
   "outputs": [],
   "execution_count": 7
  },
  {
   "metadata": {
    "ExecuteTime": {
     "end_time": "2025-04-09T07:38:48.437766Z",
     "start_time": "2025-04-09T07:38:48.426866Z"
    }
   },
   "cell_type": "code",
   "source": [
    "def sure_frequency(data: pd.DataFrame):\n",
    "    i = 0\n",
    "    # create an empty list\n",
    "    frequencies = []\n",
    "    while True:\n",
    "        # Calculate the time span in seconds\n",
    "        time_span = (data['timestamp'].iloc[-(1 + i * 200)] - data['timestamp'].iloc[-(201 + i * 200)]).total_seconds()\n",
    "\n",
    "        # get the number of records\n",
    "        number_of_records = 200\n",
    "\n",
    "        # Calculate the frequency\n",
    "        frequency = number_of_records / time_span\n",
    "\n",
    "        # print time span and frequency\n",
    "        # print(f\"Time Span: {time_span} seconds\")\n",
    "        # print(f\"Frequency: {frequency} Hz\")\n",
    "        frequencies.append(frequency)\n",
    "        i += 1\n",
    "        if 201 + i * 200 >= len(data):\n",
    "            break\n",
    "    # list all different value and corresponding number in frequencies\n",
    "    from collections import Counter\n",
    "    print(Counter(frequencies))"
   ],
   "id": "659812523ba2bf73",
   "outputs": [],
   "execution_count": 8
  },
  {
   "metadata": {
    "ExecuteTime": {
     "end_time": "2025-04-09T07:38:49.757833Z",
     "start_time": "2025-04-09T07:38:49.598468Z"
    }
   },
   "cell_type": "code",
   "source": [
    "show_column(pd_pickle_left, 'AccX', (start_timestamp, end_timestamp))\n",
    "pd_pickle_left['timestamp'] = pd_pickle_left['timestamp'] + pd.Timedelta(seconds=calibration_time_left)"
   ],
   "id": "9ef3f4c471ef429f",
   "outputs": [
    {
     "data": {
      "text/plain": [
       "<IPython.core.display.Javascript object>"
      ],
      "application/javascript": "/* Put everything inside the global mpl namespace */\n/* global mpl */\nwindow.mpl = {};\n\nmpl.get_websocket_type = function () {\n    if (typeof WebSocket !== 'undefined') {\n        return WebSocket;\n    } else if (typeof MozWebSocket !== 'undefined') {\n        return MozWebSocket;\n    } else {\n        alert(\n            'Your browser does not have WebSocket support. ' +\n                'Please try Chrome, Safari or Firefox ≥ 6. ' +\n                'Firefox 4 and 5 are also supported but you ' +\n                'have to enable WebSockets in about:config.'\n        );\n    }\n};\n\nmpl.figure = function (figure_id, websocket, ondownload, parent_element) {\n    this.id = figure_id;\n\n    this.ws = websocket;\n\n    this.supports_binary = this.ws.binaryType !== undefined;\n\n    if (!this.supports_binary) {\n        var warnings = document.getElementById('mpl-warnings');\n        if (warnings) {\n            warnings.style.display = 'block';\n            warnings.textContent =\n                'This browser does not support binary websocket messages. ' +\n                'Performance may be slow.';\n        }\n    }\n\n    this.imageObj = new Image();\n\n    this.context = undefined;\n    this.message = undefined;\n    this.canvas = undefined;\n    this.rubberband_canvas = undefined;\n    this.rubberband_context = undefined;\n    this.format_dropdown = undefined;\n\n    this.image_mode = 'full';\n\n    this.root = document.createElement('div');\n    this.root.setAttribute('style', 'display: inline-block');\n    this._root_extra_style(this.root);\n\n    parent_element.appendChild(this.root);\n\n    this._init_header(this);\n    this._init_canvas(this);\n    this._init_toolbar(this);\n\n    var fig = this;\n\n    this.waiting = false;\n\n    this.ws.onopen = function () {\n        fig.send_message('supports_binary', { value: fig.supports_binary });\n        fig.send_message('send_image_mode', {});\n        if (fig.ratio !== 1) {\n            fig.send_message('set_device_pixel_ratio', {\n                device_pixel_ratio: fig.ratio,\n            });\n        }\n        fig.send_message('refresh', {});\n    };\n\n    this.imageObj.onload = function () {\n        if (fig.image_mode === 'full') {\n            // Full images could contain transparency (where diff images\n            // almost always do), so we need to clear the canvas so that\n            // there is no ghosting.\n            fig.context.clearRect(0, 0, fig.canvas.width, fig.canvas.height);\n        }\n        fig.context.drawImage(fig.imageObj, 0, 0);\n    };\n\n    this.imageObj.onunload = function () {\n        fig.ws.close();\n    };\n\n    this.ws.onmessage = this._make_on_message_function(this);\n\n    this.ondownload = ondownload;\n};\n\nmpl.figure.prototype._init_header = function () {\n    var titlebar = document.createElement('div');\n    titlebar.classList =\n        'ui-dialog-titlebar ui-widget-header ui-corner-all ui-helper-clearfix';\n    var titletext = document.createElement('div');\n    titletext.classList = 'ui-dialog-title';\n    titletext.setAttribute(\n        'style',\n        'width: 100%; text-align: center; padding: 3px;'\n    );\n    titlebar.appendChild(titletext);\n    this.root.appendChild(titlebar);\n    this.header = titletext;\n};\n\nmpl.figure.prototype._canvas_extra_style = function (_canvas_div) {};\n\nmpl.figure.prototype._root_extra_style = function (_canvas_div) {};\n\nmpl.figure.prototype._init_canvas = function () {\n    var fig = this;\n\n    var canvas_div = (this.canvas_div = document.createElement('div'));\n    canvas_div.setAttribute('tabindex', '0');\n    canvas_div.setAttribute(\n        'style',\n        'border: 1px solid #ddd;' +\n            'box-sizing: content-box;' +\n            'clear: both;' +\n            'min-height: 1px;' +\n            'min-width: 1px;' +\n            'outline: 0;' +\n            'overflow: hidden;' +\n            'position: relative;' +\n            'resize: both;' +\n            'z-index: 2;'\n    );\n\n    function on_keyboard_event_closure(name) {\n        return function (event) {\n            return fig.key_event(event, name);\n        };\n    }\n\n    canvas_div.addEventListener(\n        'keydown',\n        on_keyboard_event_closure('key_press')\n    );\n    canvas_div.addEventListener(\n        'keyup',\n        on_keyboard_event_closure('key_release')\n    );\n\n    this._canvas_extra_style(canvas_div);\n    this.root.appendChild(canvas_div);\n\n    var canvas = (this.canvas = document.createElement('canvas'));\n    canvas.classList.add('mpl-canvas');\n    canvas.setAttribute(\n        'style',\n        'box-sizing: content-box;' +\n            'pointer-events: none;' +\n            'position: relative;' +\n            'z-index: 0;'\n    );\n\n    this.context = canvas.getContext('2d');\n\n    var backingStore =\n        this.context.backingStorePixelRatio ||\n        this.context.webkitBackingStorePixelRatio ||\n        this.context.mozBackingStorePixelRatio ||\n        this.context.msBackingStorePixelRatio ||\n        this.context.oBackingStorePixelRatio ||\n        this.context.backingStorePixelRatio ||\n        1;\n\n    this.ratio = (window.devicePixelRatio || 1) / backingStore;\n\n    var rubberband_canvas = (this.rubberband_canvas = document.createElement(\n        'canvas'\n    ));\n    rubberband_canvas.setAttribute(\n        'style',\n        'box-sizing: content-box;' +\n            'left: 0;' +\n            'pointer-events: none;' +\n            'position: absolute;' +\n            'top: 0;' +\n            'z-index: 1;'\n    );\n\n    // Apply a ponyfill if ResizeObserver is not implemented by browser.\n    if (this.ResizeObserver === undefined) {\n        if (window.ResizeObserver !== undefined) {\n            this.ResizeObserver = window.ResizeObserver;\n        } else {\n            var obs = _JSXTOOLS_RESIZE_OBSERVER({});\n            this.ResizeObserver = obs.ResizeObserver;\n        }\n    }\n\n    this.resizeObserverInstance = new this.ResizeObserver(function (entries) {\n        // There's no need to resize if the WebSocket is not connected:\n        // - If it is still connecting, then we will get an initial resize from\n        //   Python once it connects.\n        // - If it has disconnected, then resizing will clear the canvas and\n        //   never get anything back to refill it, so better to not resize and\n        //   keep something visible.\n        if (fig.ws.readyState != 1) {\n            return;\n        }\n        var nentries = entries.length;\n        for (var i = 0; i < nentries; i++) {\n            var entry = entries[i];\n            var width, height;\n            if (entry.contentBoxSize) {\n                if (entry.contentBoxSize instanceof Array) {\n                    // Chrome 84 implements new version of spec.\n                    width = entry.contentBoxSize[0].inlineSize;\n                    height = entry.contentBoxSize[0].blockSize;\n                } else {\n                    // Firefox implements old version of spec.\n                    width = entry.contentBoxSize.inlineSize;\n                    height = entry.contentBoxSize.blockSize;\n                }\n            } else {\n                // Chrome <84 implements even older version of spec.\n                width = entry.contentRect.width;\n                height = entry.contentRect.height;\n            }\n\n            // Keep the size of the canvas and rubber band canvas in sync with\n            // the canvas container.\n            if (entry.devicePixelContentBoxSize) {\n                // Chrome 84 implements new version of spec.\n                canvas.setAttribute(\n                    'width',\n                    entry.devicePixelContentBoxSize[0].inlineSize\n                );\n                canvas.setAttribute(\n                    'height',\n                    entry.devicePixelContentBoxSize[0].blockSize\n                );\n            } else {\n                canvas.setAttribute('width', width * fig.ratio);\n                canvas.setAttribute('height', height * fig.ratio);\n            }\n            /* This rescales the canvas back to display pixels, so that it\n             * appears correct on HiDPI screens. */\n            canvas.style.width = width + 'px';\n            canvas.style.height = height + 'px';\n\n            rubberband_canvas.setAttribute('width', width);\n            rubberband_canvas.setAttribute('height', height);\n\n            // And update the size in Python. We ignore the initial 0/0 size\n            // that occurs as the element is placed into the DOM, which should\n            // otherwise not happen due to the minimum size styling.\n            if (width != 0 && height != 0) {\n                fig.request_resize(width, height);\n            }\n        }\n    });\n    this.resizeObserverInstance.observe(canvas_div);\n\n    function on_mouse_event_closure(name) {\n        /* User Agent sniffing is bad, but WebKit is busted:\n         * https://bugs.webkit.org/show_bug.cgi?id=144526\n         * https://bugs.webkit.org/show_bug.cgi?id=181818\n         * The worst that happens here is that they get an extra browser\n         * selection when dragging, if this check fails to catch them.\n         */\n        var UA = navigator.userAgent;\n        var isWebKit = /AppleWebKit/.test(UA) && !/Chrome/.test(UA);\n        if(isWebKit) {\n            return function (event) {\n                /* This prevents the web browser from automatically changing to\n                 * the text insertion cursor when the button is pressed. We\n                 * want to control all of the cursor setting manually through\n                 * the 'cursor' event from matplotlib */\n                event.preventDefault()\n                return fig.mouse_event(event, name);\n            };\n        } else {\n            return function (event) {\n                return fig.mouse_event(event, name);\n            };\n        }\n    }\n\n    canvas_div.addEventListener(\n        'mousedown',\n        on_mouse_event_closure('button_press')\n    );\n    canvas_div.addEventListener(\n        'mouseup',\n        on_mouse_event_closure('button_release')\n    );\n    canvas_div.addEventListener(\n        'dblclick',\n        on_mouse_event_closure('dblclick')\n    );\n    // Throttle sequential mouse events to 1 every 20ms.\n    canvas_div.addEventListener(\n        'mousemove',\n        on_mouse_event_closure('motion_notify')\n    );\n\n    canvas_div.addEventListener(\n        'mouseenter',\n        on_mouse_event_closure('figure_enter')\n    );\n    canvas_div.addEventListener(\n        'mouseleave',\n        on_mouse_event_closure('figure_leave')\n    );\n\n    canvas_div.addEventListener('wheel', function (event) {\n        if (event.deltaY < 0) {\n            event.step = 1;\n        } else {\n            event.step = -1;\n        }\n        on_mouse_event_closure('scroll')(event);\n    });\n\n    canvas_div.appendChild(canvas);\n    canvas_div.appendChild(rubberband_canvas);\n\n    this.rubberband_context = rubberband_canvas.getContext('2d');\n    this.rubberband_context.strokeStyle = '#000000';\n\n    this._resize_canvas = function (width, height, forward) {\n        if (forward) {\n            canvas_div.style.width = width + 'px';\n            canvas_div.style.height = height + 'px';\n        }\n    };\n\n    // Disable right mouse context menu.\n    canvas_div.addEventListener('contextmenu', function (_e) {\n        event.preventDefault();\n        return false;\n    });\n\n    function set_focus() {\n        canvas.focus();\n        canvas_div.focus();\n    }\n\n    window.setTimeout(set_focus, 100);\n};\n\nmpl.figure.prototype._init_toolbar = function () {\n    var fig = this;\n\n    var toolbar = document.createElement('div');\n    toolbar.classList = 'mpl-toolbar';\n    this.root.appendChild(toolbar);\n\n    function on_click_closure(name) {\n        return function (_event) {\n            return fig.toolbar_button_onclick(name);\n        };\n    }\n\n    function on_mouseover_closure(tooltip) {\n        return function (event) {\n            if (!event.currentTarget.disabled) {\n                return fig.toolbar_button_onmouseover(tooltip);\n            }\n        };\n    }\n\n    fig.buttons = {};\n    var buttonGroup = document.createElement('div');\n    buttonGroup.classList = 'mpl-button-group';\n    for (var toolbar_ind in mpl.toolbar_items) {\n        var name = mpl.toolbar_items[toolbar_ind][0];\n        var tooltip = mpl.toolbar_items[toolbar_ind][1];\n        var image = mpl.toolbar_items[toolbar_ind][2];\n        var method_name = mpl.toolbar_items[toolbar_ind][3];\n\n        if (!name) {\n            /* Instead of a spacer, we start a new button group. */\n            if (buttonGroup.hasChildNodes()) {\n                toolbar.appendChild(buttonGroup);\n            }\n            buttonGroup = document.createElement('div');\n            buttonGroup.classList = 'mpl-button-group';\n            continue;\n        }\n\n        var button = (fig.buttons[name] = document.createElement('button'));\n        button.classList = 'mpl-widget';\n        button.setAttribute('role', 'button');\n        button.setAttribute('aria-disabled', 'false');\n        button.addEventListener('click', on_click_closure(method_name));\n        button.addEventListener('mouseover', on_mouseover_closure(tooltip));\n\n        var icon_img = document.createElement('img');\n        icon_img.src = '_images/' + image + '.png';\n        icon_img.srcset = '_images/' + image + '_large.png 2x';\n        icon_img.alt = tooltip;\n        button.appendChild(icon_img);\n\n        buttonGroup.appendChild(button);\n    }\n\n    if (buttonGroup.hasChildNodes()) {\n        toolbar.appendChild(buttonGroup);\n    }\n\n    var fmt_picker = document.createElement('select');\n    fmt_picker.classList = 'mpl-widget';\n    toolbar.appendChild(fmt_picker);\n    this.format_dropdown = fmt_picker;\n\n    for (var ind in mpl.extensions) {\n        var fmt = mpl.extensions[ind];\n        var option = document.createElement('option');\n        option.selected = fmt === mpl.default_extension;\n        option.innerHTML = fmt;\n        fmt_picker.appendChild(option);\n    }\n\n    var status_bar = document.createElement('span');\n    status_bar.classList = 'mpl-message';\n    toolbar.appendChild(status_bar);\n    this.message = status_bar;\n};\n\nmpl.figure.prototype.request_resize = function (x_pixels, y_pixels) {\n    // Request matplotlib to resize the figure. Matplotlib will then trigger a resize in the client,\n    // which will in turn request a refresh of the image.\n    this.send_message('resize', { width: x_pixels, height: y_pixels });\n};\n\nmpl.figure.prototype.send_message = function (type, properties) {\n    properties['type'] = type;\n    properties['figure_id'] = this.id;\n    this.ws.send(JSON.stringify(properties));\n};\n\nmpl.figure.prototype.send_draw_message = function () {\n    if (!this.waiting) {\n        this.waiting = true;\n        this.ws.send(JSON.stringify({ type: 'draw', figure_id: this.id }));\n    }\n};\n\nmpl.figure.prototype.handle_save = function (fig, _msg) {\n    var format_dropdown = fig.format_dropdown;\n    var format = format_dropdown.options[format_dropdown.selectedIndex].value;\n    fig.ondownload(fig, format);\n};\n\nmpl.figure.prototype.handle_resize = function (fig, msg) {\n    var size = msg['size'];\n    if (size[0] !== fig.canvas.width || size[1] !== fig.canvas.height) {\n        fig._resize_canvas(size[0], size[1], msg['forward']);\n        fig.send_message('refresh', {});\n    }\n};\n\nmpl.figure.prototype.handle_rubberband = function (fig, msg) {\n    var x0 = msg['x0'] / fig.ratio;\n    var y0 = (fig.canvas.height - msg['y0']) / fig.ratio;\n    var x1 = msg['x1'] / fig.ratio;\n    var y1 = (fig.canvas.height - msg['y1']) / fig.ratio;\n    x0 = Math.floor(x0) + 0.5;\n    y0 = Math.floor(y0) + 0.5;\n    x1 = Math.floor(x1) + 0.5;\n    y1 = Math.floor(y1) + 0.5;\n    var min_x = Math.min(x0, x1);\n    var min_y = Math.min(y0, y1);\n    var width = Math.abs(x1 - x0);\n    var height = Math.abs(y1 - y0);\n\n    fig.rubberband_context.clearRect(\n        0,\n        0,\n        fig.canvas.width / fig.ratio,\n        fig.canvas.height / fig.ratio\n    );\n\n    fig.rubberband_context.strokeRect(min_x, min_y, width, height);\n};\n\nmpl.figure.prototype.handle_figure_label = function (fig, msg) {\n    // Updates the figure title.\n    fig.header.textContent = msg['label'];\n};\n\nmpl.figure.prototype.handle_cursor = function (fig, msg) {\n    fig.canvas_div.style.cursor = msg['cursor'];\n};\n\nmpl.figure.prototype.handle_message = function (fig, msg) {\n    fig.message.textContent = msg['message'];\n};\n\nmpl.figure.prototype.handle_draw = function (fig, _msg) {\n    // Request the server to send over a new figure.\n    fig.send_draw_message();\n};\n\nmpl.figure.prototype.handle_image_mode = function (fig, msg) {\n    fig.image_mode = msg['mode'];\n};\n\nmpl.figure.prototype.handle_history_buttons = function (fig, msg) {\n    for (var key in msg) {\n        if (!(key in fig.buttons)) {\n            continue;\n        }\n        fig.buttons[key].disabled = !msg[key];\n        fig.buttons[key].setAttribute('aria-disabled', !msg[key]);\n    }\n};\n\nmpl.figure.prototype.handle_navigate_mode = function (fig, msg) {\n    if (msg['mode'] === 'PAN') {\n        fig.buttons['Pan'].classList.add('active');\n        fig.buttons['Zoom'].classList.remove('active');\n    } else if (msg['mode'] === 'ZOOM') {\n        fig.buttons['Pan'].classList.remove('active');\n        fig.buttons['Zoom'].classList.add('active');\n    } else {\n        fig.buttons['Pan'].classList.remove('active');\n        fig.buttons['Zoom'].classList.remove('active');\n    }\n};\n\nmpl.figure.prototype.updated_canvas_event = function () {\n    // Called whenever the canvas gets updated.\n    this.send_message('ack', {});\n};\n\n// A function to construct a web socket function for onmessage handling.\n// Called in the figure constructor.\nmpl.figure.prototype._make_on_message_function = function (fig) {\n    return function socket_on_message(evt) {\n        if (evt.data instanceof Blob) {\n            var img = evt.data;\n            if (img.type !== 'image/png') {\n                /* FIXME: We get \"Resource interpreted as Image but\n                 * transferred with MIME type text/plain:\" errors on\n                 * Chrome.  But how to set the MIME type?  It doesn't seem\n                 * to be part of the websocket stream */\n                img.type = 'image/png';\n            }\n\n            /* Free the memory for the previous frames */\n            if (fig.imageObj.src) {\n                (window.URL || window.webkitURL).revokeObjectURL(\n                    fig.imageObj.src\n                );\n            }\n\n            fig.imageObj.src = (window.URL || window.webkitURL).createObjectURL(\n                img\n            );\n            fig.updated_canvas_event();\n            fig.waiting = false;\n            return;\n        } else if (\n            typeof evt.data === 'string' &&\n            evt.data.slice(0, 21) === 'data:image/png;base64'\n        ) {\n            fig.imageObj.src = evt.data;\n            fig.updated_canvas_event();\n            fig.waiting = false;\n            return;\n        }\n\n        var msg = JSON.parse(evt.data);\n        var msg_type = msg['type'];\n\n        // Call the  \"handle_{type}\" callback, which takes\n        // the figure and JSON message as its only arguments.\n        try {\n            var callback = fig['handle_' + msg_type];\n        } catch (e) {\n            console.log(\n                \"No handler for the '\" + msg_type + \"' message type: \",\n                msg\n            );\n            return;\n        }\n\n        if (callback) {\n            try {\n                // console.log(\"Handling '\" + msg_type + \"' message: \", msg);\n                callback(fig, msg);\n            } catch (e) {\n                console.log(\n                    \"Exception inside the 'handler_\" + msg_type + \"' callback:\",\n                    e,\n                    e.stack,\n                    msg\n                );\n            }\n        }\n    };\n};\n\nfunction getModifiers(event) {\n    var mods = [];\n    if (event.ctrlKey) {\n        mods.push('ctrl');\n    }\n    if (event.altKey) {\n        mods.push('alt');\n    }\n    if (event.shiftKey) {\n        mods.push('shift');\n    }\n    if (event.metaKey) {\n        mods.push('meta');\n    }\n    return mods;\n}\n\n/*\n * return a copy of an object with only non-object keys\n * we need this to avoid circular references\n * https://stackoverflow.com/a/24161582/3208463\n */\nfunction simpleKeys(original) {\n    return Object.keys(original).reduce(function (obj, key) {\n        if (typeof original[key] !== 'object') {\n            obj[key] = original[key];\n        }\n        return obj;\n    }, {});\n}\n\nmpl.figure.prototype.mouse_event = function (event, name) {\n    if (name === 'button_press') {\n        this.canvas.focus();\n        this.canvas_div.focus();\n    }\n\n    // from https://stackoverflow.com/q/1114465\n    var boundingRect = this.canvas.getBoundingClientRect();\n    var x = (event.clientX - boundingRect.left) * this.ratio;\n    var y = (event.clientY - boundingRect.top) * this.ratio;\n\n    this.send_message(name, {\n        x: x,\n        y: y,\n        button: event.button,\n        step: event.step,\n        modifiers: getModifiers(event),\n        guiEvent: simpleKeys(event),\n    });\n\n    return false;\n};\n\nmpl.figure.prototype._key_event_extra = function (_event, _name) {\n    // Handle any extra behaviour associated with a key event\n};\n\nmpl.figure.prototype.key_event = function (event, name) {\n    // Prevent repeat events\n    if (name === 'key_press') {\n        if (event.key === this._key) {\n            return;\n        } else {\n            this._key = event.key;\n        }\n    }\n    if (name === 'key_release') {\n        this._key = null;\n    }\n\n    var value = '';\n    if (event.ctrlKey && event.key !== 'Control') {\n        value += 'ctrl+';\n    }\n    else if (event.altKey && event.key !== 'Alt') {\n        value += 'alt+';\n    }\n    else if (event.shiftKey && event.key !== 'Shift') {\n        value += 'shift+';\n    }\n\n    value += 'k' + event.key;\n\n    this._key_event_extra(event, name);\n\n    this.send_message(name, { key: value, guiEvent: simpleKeys(event) });\n    return false;\n};\n\nmpl.figure.prototype.toolbar_button_onclick = function (name) {\n    if (name === 'download') {\n        this.handle_save(this, null);\n    } else {\n        this.send_message('toolbar_button', { name: name });\n    }\n};\n\nmpl.figure.prototype.toolbar_button_onmouseover = function (tooltip) {\n    this.message.textContent = tooltip;\n};\n\n///////////////// REMAINING CONTENT GENERATED BY embed_js.py /////////////////\n// prettier-ignore\nvar _JSXTOOLS_RESIZE_OBSERVER=function(A){var t,i=new WeakMap,n=new WeakMap,a=new WeakMap,r=new WeakMap,o=new Set;function s(e){if(!(this instanceof s))throw new TypeError(\"Constructor requires 'new' operator\");i.set(this,e)}function h(){throw new TypeError(\"Function is not a constructor\")}function c(e,t,i,n){e=0 in arguments?Number(arguments[0]):0,t=1 in arguments?Number(arguments[1]):0,i=2 in arguments?Number(arguments[2]):0,n=3 in arguments?Number(arguments[3]):0,this.right=(this.x=this.left=e)+(this.width=i),this.bottom=(this.y=this.top=t)+(this.height=n),Object.freeze(this)}function d(){t=requestAnimationFrame(d);var s=new WeakMap,p=new Set;o.forEach((function(t){r.get(t).forEach((function(i){var r=t instanceof window.SVGElement,o=a.get(t),d=r?0:parseFloat(o.paddingTop),f=r?0:parseFloat(o.paddingRight),l=r?0:parseFloat(o.paddingBottom),u=r?0:parseFloat(o.paddingLeft),g=r?0:parseFloat(o.borderTopWidth),m=r?0:parseFloat(o.borderRightWidth),w=r?0:parseFloat(o.borderBottomWidth),b=u+f,F=d+l,v=(r?0:parseFloat(o.borderLeftWidth))+m,W=g+w,y=r?0:t.offsetHeight-W-t.clientHeight,E=r?0:t.offsetWidth-v-t.clientWidth,R=b+v,z=F+W,M=r?t.width:parseFloat(o.width)-R-E,O=r?t.height:parseFloat(o.height)-z-y;if(n.has(t)){var k=n.get(t);if(k[0]===M&&k[1]===O)return}n.set(t,[M,O]);var S=Object.create(h.prototype);S.target=t,S.contentRect=new c(u,d,M,O),s.has(i)||(s.set(i,[]),p.add(i)),s.get(i).push(S)}))})),p.forEach((function(e){i.get(e).call(e,s.get(e),e)}))}return s.prototype.observe=function(i){if(i instanceof window.Element){r.has(i)||(r.set(i,new Set),o.add(i),a.set(i,window.getComputedStyle(i)));var n=r.get(i);n.has(this)||n.add(this),cancelAnimationFrame(t),t=requestAnimationFrame(d)}},s.prototype.unobserve=function(i){if(i instanceof window.Element&&r.has(i)){var n=r.get(i);n.has(this)&&(n.delete(this),n.size||(r.delete(i),o.delete(i))),n.size||r.delete(i),o.size||cancelAnimationFrame(t)}},A.DOMRectReadOnly=c,A.ResizeObserver=s,A.ResizeObserverEntry=h,A}; // eslint-disable-line\nmpl.toolbar_items = [[\"Home\", \"Reset original view\", \"fa fa-home\", \"home\"], [\"Back\", \"Back to previous view\", \"fa fa-arrow-left\", \"back\"], [\"Forward\", \"Forward to next view\", \"fa fa-arrow-right\", \"forward\"], [\"\", \"\", \"\", \"\"], [\"Pan\", \"Left button pans, Right button zooms\\nx/y fixes axis, CTRL fixes aspect\", \"fa fa-arrows\", \"pan\"], [\"Zoom\", \"Zoom to rectangle\\nx/y fixes axis\", \"fa fa-square-o\", \"zoom\"], [\"\", \"\", \"\", \"\"], [\"Download\", \"Download plot\", \"fa fa-floppy-o\", \"download\"]];\n\nmpl.extensions = [\"eps\", \"jpeg\", \"pgf\", \"pdf\", \"png\", \"ps\", \"raw\", \"svg\", \"tif\", \"webp\"];\n\nmpl.default_extension = \"png\";/* global mpl */\n\nvar comm_websocket_adapter = function (comm) {\n    // Create a \"websocket\"-like object which calls the given IPython comm\n    // object with the appropriate methods. Currently this is a non binary\n    // socket, so there is still some room for performance tuning.\n    var ws = {};\n\n    ws.binaryType = comm.kernel.ws.binaryType;\n    ws.readyState = comm.kernel.ws.readyState;\n    function updateReadyState(_event) {\n        if (comm.kernel.ws) {\n            ws.readyState = comm.kernel.ws.readyState;\n        } else {\n            ws.readyState = 3; // Closed state.\n        }\n    }\n    comm.kernel.ws.addEventListener('open', updateReadyState);\n    comm.kernel.ws.addEventListener('close', updateReadyState);\n    comm.kernel.ws.addEventListener('error', updateReadyState);\n\n    ws.close = function () {\n        comm.close();\n    };\n    ws.send = function (m) {\n        //console.log('sending', m);\n        comm.send(m);\n    };\n    // Register the callback with on_msg.\n    comm.on_msg(function (msg) {\n        //console.log('receiving', msg['content']['data'], msg);\n        var data = msg['content']['data'];\n        if (data['blob'] !== undefined) {\n            data = {\n                data: new Blob(msg['buffers'], { type: data['blob'] }),\n            };\n        }\n        // Pass the mpl event to the overridden (by mpl) onmessage function.\n        ws.onmessage(data);\n    });\n    return ws;\n};\n\nmpl.mpl_figure_comm = function (comm, msg) {\n    // This is the function which gets called when the mpl process\n    // starts-up an IPython Comm through the \"matplotlib\" channel.\n\n    var id = msg.content.data.id;\n    // Get hold of the div created by the display call when the Comm\n    // socket was opened in Python.\n    var element = document.getElementById(id);\n    var ws_proxy = comm_websocket_adapter(comm);\n\n    function ondownload(figure, _format) {\n        window.open(figure.canvas.toDataURL());\n    }\n\n    var fig = new mpl.figure(id, ws_proxy, ondownload, element);\n\n    // Call onopen now - mpl needs it, as it is assuming we've passed it a real\n    // web socket which is closed, not our websocket->open comm proxy.\n    ws_proxy.onopen();\n\n    fig.parent_element = element;\n    fig.cell_info = mpl.find_output_cell(\"<div id='\" + id + \"'></div>\");\n    if (!fig.cell_info) {\n        console.error('Failed to find cell for figure', id, fig);\n        return;\n    }\n    fig.cell_info[0].output_area.element.on(\n        'cleared',\n        { fig: fig },\n        fig._remove_fig_handler\n    );\n};\n\nmpl.figure.prototype.handle_close = function (fig, msg) {\n    var width = fig.canvas.width / fig.ratio;\n    fig.cell_info[0].output_area.element.off(\n        'cleared',\n        fig._remove_fig_handler\n    );\n    fig.resizeObserverInstance.unobserve(fig.canvas_div);\n\n    // Update the output cell to use the data from the current canvas.\n    fig.push_to_output();\n    var dataURL = fig.canvas.toDataURL();\n    // Re-enable the keyboard manager in IPython - without this line, in FF,\n    // the notebook keyboard shortcuts fail.\n    IPython.keyboard_manager.enable();\n    fig.parent_element.innerHTML =\n        '<img src=\"' + dataURL + '\" width=\"' + width + '\">';\n    fig.close_ws(fig, msg);\n};\n\nmpl.figure.prototype.close_ws = function (fig, msg) {\n    fig.send_message('closing', msg);\n    // fig.ws.close()\n};\n\nmpl.figure.prototype.push_to_output = function (_remove_interactive) {\n    // Turn the data on the canvas into data in the output cell.\n    var width = this.canvas.width / this.ratio;\n    var dataURL = this.canvas.toDataURL();\n    this.cell_info[1]['text/html'] =\n        '<img src=\"' + dataURL + '\" width=\"' + width + '\">';\n};\n\nmpl.figure.prototype.updated_canvas_event = function () {\n    // Tell IPython that the notebook contents must change.\n    IPython.notebook.set_dirty(true);\n    this.send_message('ack', {});\n    var fig = this;\n    // Wait a second, then push the new image to the DOM so\n    // that it is saved nicely (might be nice to debounce this).\n    setTimeout(function () {\n        fig.push_to_output();\n    }, 1000);\n};\n\nmpl.figure.prototype._init_toolbar = function () {\n    var fig = this;\n\n    var toolbar = document.createElement('div');\n    toolbar.classList = 'btn-toolbar';\n    this.root.appendChild(toolbar);\n\n    function on_click_closure(name) {\n        return function (_event) {\n            return fig.toolbar_button_onclick(name);\n        };\n    }\n\n    function on_mouseover_closure(tooltip) {\n        return function (event) {\n            if (!event.currentTarget.disabled) {\n                return fig.toolbar_button_onmouseover(tooltip);\n            }\n        };\n    }\n\n    fig.buttons = {};\n    var buttonGroup = document.createElement('div');\n    buttonGroup.classList = 'btn-group';\n    var button;\n    for (var toolbar_ind in mpl.toolbar_items) {\n        var name = mpl.toolbar_items[toolbar_ind][0];\n        var tooltip = mpl.toolbar_items[toolbar_ind][1];\n        var image = mpl.toolbar_items[toolbar_ind][2];\n        var method_name = mpl.toolbar_items[toolbar_ind][3];\n\n        if (!name) {\n            /* Instead of a spacer, we start a new button group. */\n            if (buttonGroup.hasChildNodes()) {\n                toolbar.appendChild(buttonGroup);\n            }\n            buttonGroup = document.createElement('div');\n            buttonGroup.classList = 'btn-group';\n            continue;\n        }\n\n        button = fig.buttons[name] = document.createElement('button');\n        button.classList = 'btn btn-default';\n        button.href = '#';\n        button.title = name;\n        button.innerHTML = '<i class=\"fa ' + image + ' fa-lg\"></i>';\n        button.addEventListener('click', on_click_closure(method_name));\n        button.addEventListener('mouseover', on_mouseover_closure(tooltip));\n        buttonGroup.appendChild(button);\n    }\n\n    if (buttonGroup.hasChildNodes()) {\n        toolbar.appendChild(buttonGroup);\n    }\n\n    // Add the status bar.\n    var status_bar = document.createElement('span');\n    status_bar.classList = 'mpl-message pull-right';\n    toolbar.appendChild(status_bar);\n    this.message = status_bar;\n\n    // Add the close button to the window.\n    var buttongrp = document.createElement('div');\n    buttongrp.classList = 'btn-group inline pull-right';\n    button = document.createElement('button');\n    button.classList = 'btn btn-mini btn-primary';\n    button.href = '#';\n    button.title = 'Stop Interaction';\n    button.innerHTML = '<i class=\"fa fa-power-off icon-remove icon-large\"></i>';\n    button.addEventListener('click', function (_evt) {\n        fig.handle_close(fig, {});\n    });\n    button.addEventListener(\n        'mouseover',\n        on_mouseover_closure('Stop Interaction')\n    );\n    buttongrp.appendChild(button);\n    var titlebar = this.root.querySelector('.ui-dialog-titlebar');\n    titlebar.insertBefore(buttongrp, titlebar.firstChild);\n};\n\nmpl.figure.prototype._remove_fig_handler = function (event) {\n    var fig = event.data.fig;\n    if (event.target !== this) {\n        // Ignore bubbled events from children.\n        return;\n    }\n    fig.close_ws(fig, {});\n};\n\nmpl.figure.prototype._root_extra_style = function (el) {\n    el.style.boxSizing = 'content-box'; // override notebook setting of border-box.\n};\n\nmpl.figure.prototype._canvas_extra_style = function (el) {\n    // this is important to make the div 'focusable\n    el.setAttribute('tabindex', 0);\n    // reach out to IPython and tell the keyboard manager to turn it's self\n    // off when our div gets focus\n\n    // location in version 3\n    if (IPython.notebook.keyboard_manager) {\n        IPython.notebook.keyboard_manager.register_events(el);\n    } else {\n        // location in version 2\n        IPython.keyboard_manager.register_events(el);\n    }\n};\n\nmpl.figure.prototype._key_event_extra = function (event, _name) {\n    // Check for shift+enter\n    if (event.shiftKey && event.which === 13) {\n        this.canvas_div.blur();\n        // select the cell after this one\n        var index = IPython.notebook.find_cell_index(this.cell_info[0]);\n        IPython.notebook.select(index + 1);\n    }\n};\n\nmpl.figure.prototype.handle_save = function (fig, _msg) {\n    fig.ondownload(fig, null);\n};\n\nmpl.find_output_cell = function (html_output) {\n    // Return the cell and output element which can be found *uniquely* in the notebook.\n    // Note - this is a bit hacky, but it is done because the \"notebook_saving.Notebook\"\n    // IPython event is triggered only after the cells have been serialised, which for\n    // our purposes (turning an active figure into a static one), is too late.\n    var cells = IPython.notebook.get_cells();\n    var ncells = cells.length;\n    for (var i = 0; i < ncells; i++) {\n        var cell = cells[i];\n        if (cell.cell_type === 'code') {\n            for (var j = 0; j < cell.output_area.outputs.length; j++) {\n                var data = cell.output_area.outputs[j];\n                if (data.data) {\n                    // IPython >= 3 moved mimebundle to data attribute of output\n                    data = data.data;\n                }\n                if (data['text/html'] === html_output) {\n                    return [cell, data, j];\n                }\n            }\n        }\n    }\n};\n\n// Register the function which deals with the matplotlib target/channel.\n// The kernel may be null if the page has been refreshed.\nif (IPython.notebook.kernel !== null) {\n    IPython.notebook.kernel.comm_manager.register_target(\n        'matplotlib',\n        mpl.mpl_figure_comm\n    );\n}\n"
     },
     "metadata": {},
     "output_type": "display_data"
    },
    {
     "data": {
      "text/plain": [
       "<IPython.core.display.HTML object>"
      ],
      "text/html": [
       "<div id='e37557d8-85dd-4464-a3cb-959959cd78d9'></div>"
      ]
     },
     "metadata": {},
     "output_type": "display_data"
    }
   ],
   "execution_count": 9
  },
  {
   "metadata": {
    "ExecuteTime": {
     "end_time": "2025-04-09T07:38:54.867169Z",
     "start_time": "2025-04-09T07:38:54.769665Z"
    }
   },
   "cell_type": "code",
   "source": [
    "show_column(pd_pickle_right, 'AccX', (start_timestamp, end_timestamp))\n",
    "pd_pickle_right['timestamp'] = pd_pickle_right['timestamp'] + pd.Timedelta(seconds = calibration_time_right)"
   ],
   "id": "e097eee960f75a49",
   "outputs": [
    {
     "data": {
      "text/plain": [
       "<IPython.core.display.Javascript object>"
      ],
      "application/javascript": "/* Put everything inside the global mpl namespace */\n/* global mpl */\nwindow.mpl = {};\n\nmpl.get_websocket_type = function () {\n    if (typeof WebSocket !== 'undefined') {\n        return WebSocket;\n    } else if (typeof MozWebSocket !== 'undefined') {\n        return MozWebSocket;\n    } else {\n        alert(\n            'Your browser does not have WebSocket support. ' +\n                'Please try Chrome, Safari or Firefox ≥ 6. ' +\n                'Firefox 4 and 5 are also supported but you ' +\n                'have to enable WebSockets in about:config.'\n        );\n    }\n};\n\nmpl.figure = function (figure_id, websocket, ondownload, parent_element) {\n    this.id = figure_id;\n\n    this.ws = websocket;\n\n    this.supports_binary = this.ws.binaryType !== undefined;\n\n    if (!this.supports_binary) {\n        var warnings = document.getElementById('mpl-warnings');\n        if (warnings) {\n            warnings.style.display = 'block';\n            warnings.textContent =\n                'This browser does not support binary websocket messages. ' +\n                'Performance may be slow.';\n        }\n    }\n\n    this.imageObj = new Image();\n\n    this.context = undefined;\n    this.message = undefined;\n    this.canvas = undefined;\n    this.rubberband_canvas = undefined;\n    this.rubberband_context = undefined;\n    this.format_dropdown = undefined;\n\n    this.image_mode = 'full';\n\n    this.root = document.createElement('div');\n    this.root.setAttribute('style', 'display: inline-block');\n    this._root_extra_style(this.root);\n\n    parent_element.appendChild(this.root);\n\n    this._init_header(this);\n    this._init_canvas(this);\n    this._init_toolbar(this);\n\n    var fig = this;\n\n    this.waiting = false;\n\n    this.ws.onopen = function () {\n        fig.send_message('supports_binary', { value: fig.supports_binary });\n        fig.send_message('send_image_mode', {});\n        if (fig.ratio !== 1) {\n            fig.send_message('set_device_pixel_ratio', {\n                device_pixel_ratio: fig.ratio,\n            });\n        }\n        fig.send_message('refresh', {});\n    };\n\n    this.imageObj.onload = function () {\n        if (fig.image_mode === 'full') {\n            // Full images could contain transparency (where diff images\n            // almost always do), so we need to clear the canvas so that\n            // there is no ghosting.\n            fig.context.clearRect(0, 0, fig.canvas.width, fig.canvas.height);\n        }\n        fig.context.drawImage(fig.imageObj, 0, 0);\n    };\n\n    this.imageObj.onunload = function () {\n        fig.ws.close();\n    };\n\n    this.ws.onmessage = this._make_on_message_function(this);\n\n    this.ondownload = ondownload;\n};\n\nmpl.figure.prototype._init_header = function () {\n    var titlebar = document.createElement('div');\n    titlebar.classList =\n        'ui-dialog-titlebar ui-widget-header ui-corner-all ui-helper-clearfix';\n    var titletext = document.createElement('div');\n    titletext.classList = 'ui-dialog-title';\n    titletext.setAttribute(\n        'style',\n        'width: 100%; text-align: center; padding: 3px;'\n    );\n    titlebar.appendChild(titletext);\n    this.root.appendChild(titlebar);\n    this.header = titletext;\n};\n\nmpl.figure.prototype._canvas_extra_style = function (_canvas_div) {};\n\nmpl.figure.prototype._root_extra_style = function (_canvas_div) {};\n\nmpl.figure.prototype._init_canvas = function () {\n    var fig = this;\n\n    var canvas_div = (this.canvas_div = document.createElement('div'));\n    canvas_div.setAttribute('tabindex', '0');\n    canvas_div.setAttribute(\n        'style',\n        'border: 1px solid #ddd;' +\n            'box-sizing: content-box;' +\n            'clear: both;' +\n            'min-height: 1px;' +\n            'min-width: 1px;' +\n            'outline: 0;' +\n            'overflow: hidden;' +\n            'position: relative;' +\n            'resize: both;' +\n            'z-index: 2;'\n    );\n\n    function on_keyboard_event_closure(name) {\n        return function (event) {\n            return fig.key_event(event, name);\n        };\n    }\n\n    canvas_div.addEventListener(\n        'keydown',\n        on_keyboard_event_closure('key_press')\n    );\n    canvas_div.addEventListener(\n        'keyup',\n        on_keyboard_event_closure('key_release')\n    );\n\n    this._canvas_extra_style(canvas_div);\n    this.root.appendChild(canvas_div);\n\n    var canvas = (this.canvas = document.createElement('canvas'));\n    canvas.classList.add('mpl-canvas');\n    canvas.setAttribute(\n        'style',\n        'box-sizing: content-box;' +\n            'pointer-events: none;' +\n            'position: relative;' +\n            'z-index: 0;'\n    );\n\n    this.context = canvas.getContext('2d');\n\n    var backingStore =\n        this.context.backingStorePixelRatio ||\n        this.context.webkitBackingStorePixelRatio ||\n        this.context.mozBackingStorePixelRatio ||\n        this.context.msBackingStorePixelRatio ||\n        this.context.oBackingStorePixelRatio ||\n        this.context.backingStorePixelRatio ||\n        1;\n\n    this.ratio = (window.devicePixelRatio || 1) / backingStore;\n\n    var rubberband_canvas = (this.rubberband_canvas = document.createElement(\n        'canvas'\n    ));\n    rubberband_canvas.setAttribute(\n        'style',\n        'box-sizing: content-box;' +\n            'left: 0;' +\n            'pointer-events: none;' +\n            'position: absolute;' +\n            'top: 0;' +\n            'z-index: 1;'\n    );\n\n    // Apply a ponyfill if ResizeObserver is not implemented by browser.\n    if (this.ResizeObserver === undefined) {\n        if (window.ResizeObserver !== undefined) {\n            this.ResizeObserver = window.ResizeObserver;\n        } else {\n            var obs = _JSXTOOLS_RESIZE_OBSERVER({});\n            this.ResizeObserver = obs.ResizeObserver;\n        }\n    }\n\n    this.resizeObserverInstance = new this.ResizeObserver(function (entries) {\n        // There's no need to resize if the WebSocket is not connected:\n        // - If it is still connecting, then we will get an initial resize from\n        //   Python once it connects.\n        // - If it has disconnected, then resizing will clear the canvas and\n        //   never get anything back to refill it, so better to not resize and\n        //   keep something visible.\n        if (fig.ws.readyState != 1) {\n            return;\n        }\n        var nentries = entries.length;\n        for (var i = 0; i < nentries; i++) {\n            var entry = entries[i];\n            var width, height;\n            if (entry.contentBoxSize) {\n                if (entry.contentBoxSize instanceof Array) {\n                    // Chrome 84 implements new version of spec.\n                    width = entry.contentBoxSize[0].inlineSize;\n                    height = entry.contentBoxSize[0].blockSize;\n                } else {\n                    // Firefox implements old version of spec.\n                    width = entry.contentBoxSize.inlineSize;\n                    height = entry.contentBoxSize.blockSize;\n                }\n            } else {\n                // Chrome <84 implements even older version of spec.\n                width = entry.contentRect.width;\n                height = entry.contentRect.height;\n            }\n\n            // Keep the size of the canvas and rubber band canvas in sync with\n            // the canvas container.\n            if (entry.devicePixelContentBoxSize) {\n                // Chrome 84 implements new version of spec.\n                canvas.setAttribute(\n                    'width',\n                    entry.devicePixelContentBoxSize[0].inlineSize\n                );\n                canvas.setAttribute(\n                    'height',\n                    entry.devicePixelContentBoxSize[0].blockSize\n                );\n            } else {\n                canvas.setAttribute('width', width * fig.ratio);\n                canvas.setAttribute('height', height * fig.ratio);\n            }\n            /* This rescales the canvas back to display pixels, so that it\n             * appears correct on HiDPI screens. */\n            canvas.style.width = width + 'px';\n            canvas.style.height = height + 'px';\n\n            rubberband_canvas.setAttribute('width', width);\n            rubberband_canvas.setAttribute('height', height);\n\n            // And update the size in Python. We ignore the initial 0/0 size\n            // that occurs as the element is placed into the DOM, which should\n            // otherwise not happen due to the minimum size styling.\n            if (width != 0 && height != 0) {\n                fig.request_resize(width, height);\n            }\n        }\n    });\n    this.resizeObserverInstance.observe(canvas_div);\n\n    function on_mouse_event_closure(name) {\n        /* User Agent sniffing is bad, but WebKit is busted:\n         * https://bugs.webkit.org/show_bug.cgi?id=144526\n         * https://bugs.webkit.org/show_bug.cgi?id=181818\n         * The worst that happens here is that they get an extra browser\n         * selection when dragging, if this check fails to catch them.\n         */\n        var UA = navigator.userAgent;\n        var isWebKit = /AppleWebKit/.test(UA) && !/Chrome/.test(UA);\n        if(isWebKit) {\n            return function (event) {\n                /* This prevents the web browser from automatically changing to\n                 * the text insertion cursor when the button is pressed. We\n                 * want to control all of the cursor setting manually through\n                 * the 'cursor' event from matplotlib */\n                event.preventDefault()\n                return fig.mouse_event(event, name);\n            };\n        } else {\n            return function (event) {\n                return fig.mouse_event(event, name);\n            };\n        }\n    }\n\n    canvas_div.addEventListener(\n        'mousedown',\n        on_mouse_event_closure('button_press')\n    );\n    canvas_div.addEventListener(\n        'mouseup',\n        on_mouse_event_closure('button_release')\n    );\n    canvas_div.addEventListener(\n        'dblclick',\n        on_mouse_event_closure('dblclick')\n    );\n    // Throttle sequential mouse events to 1 every 20ms.\n    canvas_div.addEventListener(\n        'mousemove',\n        on_mouse_event_closure('motion_notify')\n    );\n\n    canvas_div.addEventListener(\n        'mouseenter',\n        on_mouse_event_closure('figure_enter')\n    );\n    canvas_div.addEventListener(\n        'mouseleave',\n        on_mouse_event_closure('figure_leave')\n    );\n\n    canvas_div.addEventListener('wheel', function (event) {\n        if (event.deltaY < 0) {\n            event.step = 1;\n        } else {\n            event.step = -1;\n        }\n        on_mouse_event_closure('scroll')(event);\n    });\n\n    canvas_div.appendChild(canvas);\n    canvas_div.appendChild(rubberband_canvas);\n\n    this.rubberband_context = rubberband_canvas.getContext('2d');\n    this.rubberband_context.strokeStyle = '#000000';\n\n    this._resize_canvas = function (width, height, forward) {\n        if (forward) {\n            canvas_div.style.width = width + 'px';\n            canvas_div.style.height = height + 'px';\n        }\n    };\n\n    // Disable right mouse context menu.\n    canvas_div.addEventListener('contextmenu', function (_e) {\n        event.preventDefault();\n        return false;\n    });\n\n    function set_focus() {\n        canvas.focus();\n        canvas_div.focus();\n    }\n\n    window.setTimeout(set_focus, 100);\n};\n\nmpl.figure.prototype._init_toolbar = function () {\n    var fig = this;\n\n    var toolbar = document.createElement('div');\n    toolbar.classList = 'mpl-toolbar';\n    this.root.appendChild(toolbar);\n\n    function on_click_closure(name) {\n        return function (_event) {\n            return fig.toolbar_button_onclick(name);\n        };\n    }\n\n    function on_mouseover_closure(tooltip) {\n        return function (event) {\n            if (!event.currentTarget.disabled) {\n                return fig.toolbar_button_onmouseover(tooltip);\n            }\n        };\n    }\n\n    fig.buttons = {};\n    var buttonGroup = document.createElement('div');\n    buttonGroup.classList = 'mpl-button-group';\n    for (var toolbar_ind in mpl.toolbar_items) {\n        var name = mpl.toolbar_items[toolbar_ind][0];\n        var tooltip = mpl.toolbar_items[toolbar_ind][1];\n        var image = mpl.toolbar_items[toolbar_ind][2];\n        var method_name = mpl.toolbar_items[toolbar_ind][3];\n\n        if (!name) {\n            /* Instead of a spacer, we start a new button group. */\n            if (buttonGroup.hasChildNodes()) {\n                toolbar.appendChild(buttonGroup);\n            }\n            buttonGroup = document.createElement('div');\n            buttonGroup.classList = 'mpl-button-group';\n            continue;\n        }\n\n        var button = (fig.buttons[name] = document.createElement('button'));\n        button.classList = 'mpl-widget';\n        button.setAttribute('role', 'button');\n        button.setAttribute('aria-disabled', 'false');\n        button.addEventListener('click', on_click_closure(method_name));\n        button.addEventListener('mouseover', on_mouseover_closure(tooltip));\n\n        var icon_img = document.createElement('img');\n        icon_img.src = '_images/' + image + '.png';\n        icon_img.srcset = '_images/' + image + '_large.png 2x';\n        icon_img.alt = tooltip;\n        button.appendChild(icon_img);\n\n        buttonGroup.appendChild(button);\n    }\n\n    if (buttonGroup.hasChildNodes()) {\n        toolbar.appendChild(buttonGroup);\n    }\n\n    var fmt_picker = document.createElement('select');\n    fmt_picker.classList = 'mpl-widget';\n    toolbar.appendChild(fmt_picker);\n    this.format_dropdown = fmt_picker;\n\n    for (var ind in mpl.extensions) {\n        var fmt = mpl.extensions[ind];\n        var option = document.createElement('option');\n        option.selected = fmt === mpl.default_extension;\n        option.innerHTML = fmt;\n        fmt_picker.appendChild(option);\n    }\n\n    var status_bar = document.createElement('span');\n    status_bar.classList = 'mpl-message';\n    toolbar.appendChild(status_bar);\n    this.message = status_bar;\n};\n\nmpl.figure.prototype.request_resize = function (x_pixels, y_pixels) {\n    // Request matplotlib to resize the figure. Matplotlib will then trigger a resize in the client,\n    // which will in turn request a refresh of the image.\n    this.send_message('resize', { width: x_pixels, height: y_pixels });\n};\n\nmpl.figure.prototype.send_message = function (type, properties) {\n    properties['type'] = type;\n    properties['figure_id'] = this.id;\n    this.ws.send(JSON.stringify(properties));\n};\n\nmpl.figure.prototype.send_draw_message = function () {\n    if (!this.waiting) {\n        this.waiting = true;\n        this.ws.send(JSON.stringify({ type: 'draw', figure_id: this.id }));\n    }\n};\n\nmpl.figure.prototype.handle_save = function (fig, _msg) {\n    var format_dropdown = fig.format_dropdown;\n    var format = format_dropdown.options[format_dropdown.selectedIndex].value;\n    fig.ondownload(fig, format);\n};\n\nmpl.figure.prototype.handle_resize = function (fig, msg) {\n    var size = msg['size'];\n    if (size[0] !== fig.canvas.width || size[1] !== fig.canvas.height) {\n        fig._resize_canvas(size[0], size[1], msg['forward']);\n        fig.send_message('refresh', {});\n    }\n};\n\nmpl.figure.prototype.handle_rubberband = function (fig, msg) {\n    var x0 = msg['x0'] / fig.ratio;\n    var y0 = (fig.canvas.height - msg['y0']) / fig.ratio;\n    var x1 = msg['x1'] / fig.ratio;\n    var y1 = (fig.canvas.height - msg['y1']) / fig.ratio;\n    x0 = Math.floor(x0) + 0.5;\n    y0 = Math.floor(y0) + 0.5;\n    x1 = Math.floor(x1) + 0.5;\n    y1 = Math.floor(y1) + 0.5;\n    var min_x = Math.min(x0, x1);\n    var min_y = Math.min(y0, y1);\n    var width = Math.abs(x1 - x0);\n    var height = Math.abs(y1 - y0);\n\n    fig.rubberband_context.clearRect(\n        0,\n        0,\n        fig.canvas.width / fig.ratio,\n        fig.canvas.height / fig.ratio\n    );\n\n    fig.rubberband_context.strokeRect(min_x, min_y, width, height);\n};\n\nmpl.figure.prototype.handle_figure_label = function (fig, msg) {\n    // Updates the figure title.\n    fig.header.textContent = msg['label'];\n};\n\nmpl.figure.prototype.handle_cursor = function (fig, msg) {\n    fig.canvas_div.style.cursor = msg['cursor'];\n};\n\nmpl.figure.prototype.handle_message = function (fig, msg) {\n    fig.message.textContent = msg['message'];\n};\n\nmpl.figure.prototype.handle_draw = function (fig, _msg) {\n    // Request the server to send over a new figure.\n    fig.send_draw_message();\n};\n\nmpl.figure.prototype.handle_image_mode = function (fig, msg) {\n    fig.image_mode = msg['mode'];\n};\n\nmpl.figure.prototype.handle_history_buttons = function (fig, msg) {\n    for (var key in msg) {\n        if (!(key in fig.buttons)) {\n            continue;\n        }\n        fig.buttons[key].disabled = !msg[key];\n        fig.buttons[key].setAttribute('aria-disabled', !msg[key]);\n    }\n};\n\nmpl.figure.prototype.handle_navigate_mode = function (fig, msg) {\n    if (msg['mode'] === 'PAN') {\n        fig.buttons['Pan'].classList.add('active');\n        fig.buttons['Zoom'].classList.remove('active');\n    } else if (msg['mode'] === 'ZOOM') {\n        fig.buttons['Pan'].classList.remove('active');\n        fig.buttons['Zoom'].classList.add('active');\n    } else {\n        fig.buttons['Pan'].classList.remove('active');\n        fig.buttons['Zoom'].classList.remove('active');\n    }\n};\n\nmpl.figure.prototype.updated_canvas_event = function () {\n    // Called whenever the canvas gets updated.\n    this.send_message('ack', {});\n};\n\n// A function to construct a web socket function for onmessage handling.\n// Called in the figure constructor.\nmpl.figure.prototype._make_on_message_function = function (fig) {\n    return function socket_on_message(evt) {\n        if (evt.data instanceof Blob) {\n            var img = evt.data;\n            if (img.type !== 'image/png') {\n                /* FIXME: We get \"Resource interpreted as Image but\n                 * transferred with MIME type text/plain:\" errors on\n                 * Chrome.  But how to set the MIME type?  It doesn't seem\n                 * to be part of the websocket stream */\n                img.type = 'image/png';\n            }\n\n            /* Free the memory for the previous frames */\n            if (fig.imageObj.src) {\n                (window.URL || window.webkitURL).revokeObjectURL(\n                    fig.imageObj.src\n                );\n            }\n\n            fig.imageObj.src = (window.URL || window.webkitURL).createObjectURL(\n                img\n            );\n            fig.updated_canvas_event();\n            fig.waiting = false;\n            return;\n        } else if (\n            typeof evt.data === 'string' &&\n            evt.data.slice(0, 21) === 'data:image/png;base64'\n        ) {\n            fig.imageObj.src = evt.data;\n            fig.updated_canvas_event();\n            fig.waiting = false;\n            return;\n        }\n\n        var msg = JSON.parse(evt.data);\n        var msg_type = msg['type'];\n\n        // Call the  \"handle_{type}\" callback, which takes\n        // the figure and JSON message as its only arguments.\n        try {\n            var callback = fig['handle_' + msg_type];\n        } catch (e) {\n            console.log(\n                \"No handler for the '\" + msg_type + \"' message type: \",\n                msg\n            );\n            return;\n        }\n\n        if (callback) {\n            try {\n                // console.log(\"Handling '\" + msg_type + \"' message: \", msg);\n                callback(fig, msg);\n            } catch (e) {\n                console.log(\n                    \"Exception inside the 'handler_\" + msg_type + \"' callback:\",\n                    e,\n                    e.stack,\n                    msg\n                );\n            }\n        }\n    };\n};\n\nfunction getModifiers(event) {\n    var mods = [];\n    if (event.ctrlKey) {\n        mods.push('ctrl');\n    }\n    if (event.altKey) {\n        mods.push('alt');\n    }\n    if (event.shiftKey) {\n        mods.push('shift');\n    }\n    if (event.metaKey) {\n        mods.push('meta');\n    }\n    return mods;\n}\n\n/*\n * return a copy of an object with only non-object keys\n * we need this to avoid circular references\n * https://stackoverflow.com/a/24161582/3208463\n */\nfunction simpleKeys(original) {\n    return Object.keys(original).reduce(function (obj, key) {\n        if (typeof original[key] !== 'object') {\n            obj[key] = original[key];\n        }\n        return obj;\n    }, {});\n}\n\nmpl.figure.prototype.mouse_event = function (event, name) {\n    if (name === 'button_press') {\n        this.canvas.focus();\n        this.canvas_div.focus();\n    }\n\n    // from https://stackoverflow.com/q/1114465\n    var boundingRect = this.canvas.getBoundingClientRect();\n    var x = (event.clientX - boundingRect.left) * this.ratio;\n    var y = (event.clientY - boundingRect.top) * this.ratio;\n\n    this.send_message(name, {\n        x: x,\n        y: y,\n        button: event.button,\n        step: event.step,\n        modifiers: getModifiers(event),\n        guiEvent: simpleKeys(event),\n    });\n\n    return false;\n};\n\nmpl.figure.prototype._key_event_extra = function (_event, _name) {\n    // Handle any extra behaviour associated with a key event\n};\n\nmpl.figure.prototype.key_event = function (event, name) {\n    // Prevent repeat events\n    if (name === 'key_press') {\n        if (event.key === this._key) {\n            return;\n        } else {\n            this._key = event.key;\n        }\n    }\n    if (name === 'key_release') {\n        this._key = null;\n    }\n\n    var value = '';\n    if (event.ctrlKey && event.key !== 'Control') {\n        value += 'ctrl+';\n    }\n    else if (event.altKey && event.key !== 'Alt') {\n        value += 'alt+';\n    }\n    else if (event.shiftKey && event.key !== 'Shift') {\n        value += 'shift+';\n    }\n\n    value += 'k' + event.key;\n\n    this._key_event_extra(event, name);\n\n    this.send_message(name, { key: value, guiEvent: simpleKeys(event) });\n    return false;\n};\n\nmpl.figure.prototype.toolbar_button_onclick = function (name) {\n    if (name === 'download') {\n        this.handle_save(this, null);\n    } else {\n        this.send_message('toolbar_button', { name: name });\n    }\n};\n\nmpl.figure.prototype.toolbar_button_onmouseover = function (tooltip) {\n    this.message.textContent = tooltip;\n};\n\n///////////////// REMAINING CONTENT GENERATED BY embed_js.py /////////////////\n// prettier-ignore\nvar _JSXTOOLS_RESIZE_OBSERVER=function(A){var t,i=new WeakMap,n=new WeakMap,a=new WeakMap,r=new WeakMap,o=new Set;function s(e){if(!(this instanceof s))throw new TypeError(\"Constructor requires 'new' operator\");i.set(this,e)}function h(){throw new TypeError(\"Function is not a constructor\")}function c(e,t,i,n){e=0 in arguments?Number(arguments[0]):0,t=1 in arguments?Number(arguments[1]):0,i=2 in arguments?Number(arguments[2]):0,n=3 in arguments?Number(arguments[3]):0,this.right=(this.x=this.left=e)+(this.width=i),this.bottom=(this.y=this.top=t)+(this.height=n),Object.freeze(this)}function d(){t=requestAnimationFrame(d);var s=new WeakMap,p=new Set;o.forEach((function(t){r.get(t).forEach((function(i){var r=t instanceof window.SVGElement,o=a.get(t),d=r?0:parseFloat(o.paddingTop),f=r?0:parseFloat(o.paddingRight),l=r?0:parseFloat(o.paddingBottom),u=r?0:parseFloat(o.paddingLeft),g=r?0:parseFloat(o.borderTopWidth),m=r?0:parseFloat(o.borderRightWidth),w=r?0:parseFloat(o.borderBottomWidth),b=u+f,F=d+l,v=(r?0:parseFloat(o.borderLeftWidth))+m,W=g+w,y=r?0:t.offsetHeight-W-t.clientHeight,E=r?0:t.offsetWidth-v-t.clientWidth,R=b+v,z=F+W,M=r?t.width:parseFloat(o.width)-R-E,O=r?t.height:parseFloat(o.height)-z-y;if(n.has(t)){var k=n.get(t);if(k[0]===M&&k[1]===O)return}n.set(t,[M,O]);var S=Object.create(h.prototype);S.target=t,S.contentRect=new c(u,d,M,O),s.has(i)||(s.set(i,[]),p.add(i)),s.get(i).push(S)}))})),p.forEach((function(e){i.get(e).call(e,s.get(e),e)}))}return s.prototype.observe=function(i){if(i instanceof window.Element){r.has(i)||(r.set(i,new Set),o.add(i),a.set(i,window.getComputedStyle(i)));var n=r.get(i);n.has(this)||n.add(this),cancelAnimationFrame(t),t=requestAnimationFrame(d)}},s.prototype.unobserve=function(i){if(i instanceof window.Element&&r.has(i)){var n=r.get(i);n.has(this)&&(n.delete(this),n.size||(r.delete(i),o.delete(i))),n.size||r.delete(i),o.size||cancelAnimationFrame(t)}},A.DOMRectReadOnly=c,A.ResizeObserver=s,A.ResizeObserverEntry=h,A}; // eslint-disable-line\nmpl.toolbar_items = [[\"Home\", \"Reset original view\", \"fa fa-home\", \"home\"], [\"Back\", \"Back to previous view\", \"fa fa-arrow-left\", \"back\"], [\"Forward\", \"Forward to next view\", \"fa fa-arrow-right\", \"forward\"], [\"\", \"\", \"\", \"\"], [\"Pan\", \"Left button pans, Right button zooms\\nx/y fixes axis, CTRL fixes aspect\", \"fa fa-arrows\", \"pan\"], [\"Zoom\", \"Zoom to rectangle\\nx/y fixes axis\", \"fa fa-square-o\", \"zoom\"], [\"\", \"\", \"\", \"\"], [\"Download\", \"Download plot\", \"fa fa-floppy-o\", \"download\"]];\n\nmpl.extensions = [\"eps\", \"jpeg\", \"pgf\", \"pdf\", \"png\", \"ps\", \"raw\", \"svg\", \"tif\", \"webp\"];\n\nmpl.default_extension = \"png\";/* global mpl */\n\nvar comm_websocket_adapter = function (comm) {\n    // Create a \"websocket\"-like object which calls the given IPython comm\n    // object with the appropriate methods. Currently this is a non binary\n    // socket, so there is still some room for performance tuning.\n    var ws = {};\n\n    ws.binaryType = comm.kernel.ws.binaryType;\n    ws.readyState = comm.kernel.ws.readyState;\n    function updateReadyState(_event) {\n        if (comm.kernel.ws) {\n            ws.readyState = comm.kernel.ws.readyState;\n        } else {\n            ws.readyState = 3; // Closed state.\n        }\n    }\n    comm.kernel.ws.addEventListener('open', updateReadyState);\n    comm.kernel.ws.addEventListener('close', updateReadyState);\n    comm.kernel.ws.addEventListener('error', updateReadyState);\n\n    ws.close = function () {\n        comm.close();\n    };\n    ws.send = function (m) {\n        //console.log('sending', m);\n        comm.send(m);\n    };\n    // Register the callback with on_msg.\n    comm.on_msg(function (msg) {\n        //console.log('receiving', msg['content']['data'], msg);\n        var data = msg['content']['data'];\n        if (data['blob'] !== undefined) {\n            data = {\n                data: new Blob(msg['buffers'], { type: data['blob'] }),\n            };\n        }\n        // Pass the mpl event to the overridden (by mpl) onmessage function.\n        ws.onmessage(data);\n    });\n    return ws;\n};\n\nmpl.mpl_figure_comm = function (comm, msg) {\n    // This is the function which gets called when the mpl process\n    // starts-up an IPython Comm through the \"matplotlib\" channel.\n\n    var id = msg.content.data.id;\n    // Get hold of the div created by the display call when the Comm\n    // socket was opened in Python.\n    var element = document.getElementById(id);\n    var ws_proxy = comm_websocket_adapter(comm);\n\n    function ondownload(figure, _format) {\n        window.open(figure.canvas.toDataURL());\n    }\n\n    var fig = new mpl.figure(id, ws_proxy, ondownload, element);\n\n    // Call onopen now - mpl needs it, as it is assuming we've passed it a real\n    // web socket which is closed, not our websocket->open comm proxy.\n    ws_proxy.onopen();\n\n    fig.parent_element = element;\n    fig.cell_info = mpl.find_output_cell(\"<div id='\" + id + \"'></div>\");\n    if (!fig.cell_info) {\n        console.error('Failed to find cell for figure', id, fig);\n        return;\n    }\n    fig.cell_info[0].output_area.element.on(\n        'cleared',\n        { fig: fig },\n        fig._remove_fig_handler\n    );\n};\n\nmpl.figure.prototype.handle_close = function (fig, msg) {\n    var width = fig.canvas.width / fig.ratio;\n    fig.cell_info[0].output_area.element.off(\n        'cleared',\n        fig._remove_fig_handler\n    );\n    fig.resizeObserverInstance.unobserve(fig.canvas_div);\n\n    // Update the output cell to use the data from the current canvas.\n    fig.push_to_output();\n    var dataURL = fig.canvas.toDataURL();\n    // Re-enable the keyboard manager in IPython - without this line, in FF,\n    // the notebook keyboard shortcuts fail.\n    IPython.keyboard_manager.enable();\n    fig.parent_element.innerHTML =\n        '<img src=\"' + dataURL + '\" width=\"' + width + '\">';\n    fig.close_ws(fig, msg);\n};\n\nmpl.figure.prototype.close_ws = function (fig, msg) {\n    fig.send_message('closing', msg);\n    // fig.ws.close()\n};\n\nmpl.figure.prototype.push_to_output = function (_remove_interactive) {\n    // Turn the data on the canvas into data in the output cell.\n    var width = this.canvas.width / this.ratio;\n    var dataURL = this.canvas.toDataURL();\n    this.cell_info[1]['text/html'] =\n        '<img src=\"' + dataURL + '\" width=\"' + width + '\">';\n};\n\nmpl.figure.prototype.updated_canvas_event = function () {\n    // Tell IPython that the notebook contents must change.\n    IPython.notebook.set_dirty(true);\n    this.send_message('ack', {});\n    var fig = this;\n    // Wait a second, then push the new image to the DOM so\n    // that it is saved nicely (might be nice to debounce this).\n    setTimeout(function () {\n        fig.push_to_output();\n    }, 1000);\n};\n\nmpl.figure.prototype._init_toolbar = function () {\n    var fig = this;\n\n    var toolbar = document.createElement('div');\n    toolbar.classList = 'btn-toolbar';\n    this.root.appendChild(toolbar);\n\n    function on_click_closure(name) {\n        return function (_event) {\n            return fig.toolbar_button_onclick(name);\n        };\n    }\n\n    function on_mouseover_closure(tooltip) {\n        return function (event) {\n            if (!event.currentTarget.disabled) {\n                return fig.toolbar_button_onmouseover(tooltip);\n            }\n        };\n    }\n\n    fig.buttons = {};\n    var buttonGroup = document.createElement('div');\n    buttonGroup.classList = 'btn-group';\n    var button;\n    for (var toolbar_ind in mpl.toolbar_items) {\n        var name = mpl.toolbar_items[toolbar_ind][0];\n        var tooltip = mpl.toolbar_items[toolbar_ind][1];\n        var image = mpl.toolbar_items[toolbar_ind][2];\n        var method_name = mpl.toolbar_items[toolbar_ind][3];\n\n        if (!name) {\n            /* Instead of a spacer, we start a new button group. */\n            if (buttonGroup.hasChildNodes()) {\n                toolbar.appendChild(buttonGroup);\n            }\n            buttonGroup = document.createElement('div');\n            buttonGroup.classList = 'btn-group';\n            continue;\n        }\n\n        button = fig.buttons[name] = document.createElement('button');\n        button.classList = 'btn btn-default';\n        button.href = '#';\n        button.title = name;\n        button.innerHTML = '<i class=\"fa ' + image + ' fa-lg\"></i>';\n        button.addEventListener('click', on_click_closure(method_name));\n        button.addEventListener('mouseover', on_mouseover_closure(tooltip));\n        buttonGroup.appendChild(button);\n    }\n\n    if (buttonGroup.hasChildNodes()) {\n        toolbar.appendChild(buttonGroup);\n    }\n\n    // Add the status bar.\n    var status_bar = document.createElement('span');\n    status_bar.classList = 'mpl-message pull-right';\n    toolbar.appendChild(status_bar);\n    this.message = status_bar;\n\n    // Add the close button to the window.\n    var buttongrp = document.createElement('div');\n    buttongrp.classList = 'btn-group inline pull-right';\n    button = document.createElement('button');\n    button.classList = 'btn btn-mini btn-primary';\n    button.href = '#';\n    button.title = 'Stop Interaction';\n    button.innerHTML = '<i class=\"fa fa-power-off icon-remove icon-large\"></i>';\n    button.addEventListener('click', function (_evt) {\n        fig.handle_close(fig, {});\n    });\n    button.addEventListener(\n        'mouseover',\n        on_mouseover_closure('Stop Interaction')\n    );\n    buttongrp.appendChild(button);\n    var titlebar = this.root.querySelector('.ui-dialog-titlebar');\n    titlebar.insertBefore(buttongrp, titlebar.firstChild);\n};\n\nmpl.figure.prototype._remove_fig_handler = function (event) {\n    var fig = event.data.fig;\n    if (event.target !== this) {\n        // Ignore bubbled events from children.\n        return;\n    }\n    fig.close_ws(fig, {});\n};\n\nmpl.figure.prototype._root_extra_style = function (el) {\n    el.style.boxSizing = 'content-box'; // override notebook setting of border-box.\n};\n\nmpl.figure.prototype._canvas_extra_style = function (el) {\n    // this is important to make the div 'focusable\n    el.setAttribute('tabindex', 0);\n    // reach out to IPython and tell the keyboard manager to turn it's self\n    // off when our div gets focus\n\n    // location in version 3\n    if (IPython.notebook.keyboard_manager) {\n        IPython.notebook.keyboard_manager.register_events(el);\n    } else {\n        // location in version 2\n        IPython.keyboard_manager.register_events(el);\n    }\n};\n\nmpl.figure.prototype._key_event_extra = function (event, _name) {\n    // Check for shift+enter\n    if (event.shiftKey && event.which === 13) {\n        this.canvas_div.blur();\n        // select the cell after this one\n        var index = IPython.notebook.find_cell_index(this.cell_info[0]);\n        IPython.notebook.select(index + 1);\n    }\n};\n\nmpl.figure.prototype.handle_save = function (fig, _msg) {\n    fig.ondownload(fig, null);\n};\n\nmpl.find_output_cell = function (html_output) {\n    // Return the cell and output element which can be found *uniquely* in the notebook.\n    // Note - this is a bit hacky, but it is done because the \"notebook_saving.Notebook\"\n    // IPython event is triggered only after the cells have been serialised, which for\n    // our purposes (turning an active figure into a static one), is too late.\n    var cells = IPython.notebook.get_cells();\n    var ncells = cells.length;\n    for (var i = 0; i < ncells; i++) {\n        var cell = cells[i];\n        if (cell.cell_type === 'code') {\n            for (var j = 0; j < cell.output_area.outputs.length; j++) {\n                var data = cell.output_area.outputs[j];\n                if (data.data) {\n                    // IPython >= 3 moved mimebundle to data attribute of output\n                    data = data.data;\n                }\n                if (data['text/html'] === html_output) {\n                    return [cell, data, j];\n                }\n            }\n        }\n    }\n};\n\n// Register the function which deals with the matplotlib target/channel.\n// The kernel may be null if the page has been refreshed.\nif (IPython.notebook.kernel !== null) {\n    IPython.notebook.kernel.comm_manager.register_target(\n        'matplotlib',\n        mpl.mpl_figure_comm\n    );\n}\n"
     },
     "metadata": {},
     "output_type": "display_data"
    },
    {
     "data": {
      "text/plain": [
       "<IPython.core.display.HTML object>"
      ],
      "text/html": [
       "<div id='ebcce1c1-9061-46aa-8b0a-b4998413f962'></div>"
      ]
     },
     "metadata": {},
     "output_type": "display_data"
    }
   ],
   "execution_count": 10
  },
  {
   "metadata": {
    "ExecuteTime": {
     "end_time": "2025-04-09T07:39:01.135240Z",
     "start_time": "2025-04-09T07:39:01.035470Z"
    }
   },
   "cell_type": "code",
   "source": [
    "print(pd_pickle_left['timestamp'].diff().describe())\n",
    "sure_frequency(pd_pickle_left)"
   ],
   "id": "ab9fab3b47c74cf",
   "outputs": [
    {
     "name": "stdout",
     "output_type": "stream",
     "text": [
      "count                     95199\n",
      "mean     0 days 00:00:00.005000\n",
      "std             0 days 00:00:00\n",
      "min      0 days 00:00:00.005000\n",
      "25%      0 days 00:00:00.005000\n",
      "50%      0 days 00:00:00.005000\n",
      "75%      0 days 00:00:00.005000\n",
      "max      0 days 00:00:00.005000\n",
      "Name: timestamp, dtype: object\n",
      "Counter({200.0: 475})\n"
     ]
    }
   ],
   "execution_count": 11
  },
  {
   "metadata": {
    "ExecuteTime": {
     "end_time": "2025-04-09T07:39:02.546113Z",
     "start_time": "2025-04-09T07:39:02.382874Z"
    }
   },
   "cell_type": "code",
   "source": [
    "print(pd_pickle_right['timestamp'].diff().describe())\n",
    "sure_frequency(pd_pickle_right)"
   ],
   "id": "ade1d94370b528c1",
   "outputs": [
    {
     "name": "stdout",
     "output_type": "stream",
     "text": [
      "count                     95199\n",
      "mean     0 days 00:00:00.005000\n",
      "std             0 days 00:00:00\n",
      "min      0 days 00:00:00.005000\n",
      "25%      0 days 00:00:00.005000\n",
      "50%      0 days 00:00:00.005000\n",
      "75%      0 days 00:00:00.005000\n",
      "max      0 days 00:00:00.005000\n",
      "Name: timestamp, dtype: object\n",
      "Counter({200.0: 475})\n"
     ]
    }
   ],
   "execution_count": 12
  },
  {
   "metadata": {
    "ExecuteTime": {
     "end_time": "2025-04-09T02:30:25.450870Z",
     "start_time": "2025-04-09T02:30:25.316007Z"
    }
   },
   "cell_type": "code",
   "source": [
    "print(pd_pickle_left.shape)\n",
    "print(pd_pickle_left.dtypes)\n",
    "print(pd_pickle_left.describe())\n",
    "print(pd_pickle_left.info)\n",
    "print(pd_pickle_left.head())"
   ],
   "id": "7e94bae0eab5d87d",
   "outputs": [
    {
     "name": "stdout",
     "output_type": "stream",
     "text": [
      "(206000, 10)\n",
      "AccX                float64\n",
      "AccY                float64\n",
      "AccZ                float64\n",
      "AsX                 float64\n",
      "AsY                 float64\n",
      "AsZ                 float64\n",
      "AngX                float64\n",
      "AngY                float64\n",
      "AngZ                float64\n",
      "timestamp    datetime64[ns]\n",
      "dtype: object\n",
      "                AccX           AccY           AccZ            AsX  \\\n",
      "count  206000.000000  206000.000000  206000.000000  206000.000000   \n",
      "mean        0.012741       0.004334       0.740794       1.058249   \n",
      "min       -15.948730     -15.000977     -13.769531    -189.086914   \n",
      "25%        -0.018066       0.008789       0.705566       0.427246   \n",
      "50%         0.020996       0.016602       0.756348       1.892090   \n",
      "75%         0.061523       0.034668       0.794434       3.784180   \n",
      "max        14.863770       3.248047      10.803711     141.784668   \n",
      "std         0.398851       0.295035       0.196743      16.908757   \n",
      "\n",
      "                 AsY            AsZ           AngX           AngY  \\\n",
      "count  206000.000000  206000.000000  206000.000000  206000.000000   \n",
      "mean        0.386481       1.121193       3.588159      -0.803154   \n",
      "min      -508.605957    -594.604492    -178.720093     -87.220459   \n",
      "25%        -0.610352      -1.220703       0.889893      -5.608521   \n",
      "50%         1.220703       1.159668       3.548584      -0.834961   \n",
      "75%         2.868652       3.051758       5.570068       4.295654   \n",
      "max       424.865723     376.708984     177.698364      80.579224   \n",
      "std        30.149812      50.079503       9.802431      14.203041   \n",
      "\n",
      "                AngZ                      timestamp  \n",
      "count  206000.000000                         206000  \n",
      "mean        9.717543  2025-04-01 10:11:27.402500096  \n",
      "min      -179.406738     2025-04-01 10:02:52.405000  \n",
      "25%         0.488892  2025-04-01 10:07:09.903749888  \n",
      "50%        12.854004  2025-04-01 10:11:27.402499840  \n",
      "75%        22.423096  2025-04-01 10:15:44.901250048  \n",
      "max       179.560547     2025-04-01 10:20:02.400000  \n",
      "std        25.047575                            NaN  \n",
      "<bound method DataFrame.info of             AccX      AccY      AccZ        AsX         AsY         AsZ  \\\n",
      "33974   0.033203  0.025879  0.715820   1.403809    1.342773    1.220703   \n",
      "33975   0.028320  0.024414  0.719238   1.525879    1.098633    1.098633   \n",
      "33976   0.028320  0.024414  0.719238   1.525879    1.098633    1.098633   \n",
      "33977   0.028320  0.024414  0.719238   1.525879    1.098633    1.098633   \n",
      "33978   0.028320  0.024414  0.719238   1.525879    1.098633    1.098633   \n",
      "...          ...       ...       ...        ...         ...         ...   \n",
      "239969 -0.448242 -0.164062  0.448242 -33.325195 -209.106445   61.462402   \n",
      "239970  0.198242 -0.158203  0.985352  -6.103516 -141.174316  129.272461   \n",
      "239971  0.198242 -0.158203  0.985352  -6.103516 -141.174316  129.272461   \n",
      "239972  0.198242 -0.158203  0.985352  -6.103516 -141.174316  129.272461   \n",
      "239973  0.198242 -0.158203  0.985352  -6.103516 -141.174316  129.272461   \n",
      "\n",
      "            AngX       AngY       AngZ               timestamp  \n",
      "33974   4.279175  -0.230713  30.613403 2025-04-01 10:02:52.405  \n",
      "33975   4.279175  -0.230713  30.618896 2025-04-01 10:02:52.410  \n",
      "33976   4.279175  -0.230713  30.624390 2025-04-01 10:02:52.415  \n",
      "33977   4.279175  -0.236206  30.629883 2025-04-01 10:02:52.420  \n",
      "33978   4.284668  -0.236206  30.635376 2025-04-01 10:02:52.425  \n",
      "...          ...        ...        ...                     ...  \n",
      "239969  5.597534  15.787354 -33.557739 2025-04-01 10:20:02.380  \n",
      "239970  5.663452  14.968872 -32.904053 2025-04-01 10:20:02.385  \n",
      "239971  5.723877  14.155884 -32.255859 2025-04-01 10:20:02.390  \n",
      "239972  5.773315  13.337402 -31.602173 2025-04-01 10:20:02.395  \n",
      "239973  5.817261  12.518921 -30.959473 2025-04-01 10:20:02.400  \n",
      "\n",
      "[206000 rows x 10 columns]>\n",
      "           AccX      AccY      AccZ       AsX       AsY       AsZ      AngX  \\\n",
      "33974  0.033203  0.025879  0.715820  1.403809  1.342773  1.220703  4.279175   \n",
      "33975  0.028320  0.024414  0.719238  1.525879  1.098633  1.098633  4.279175   \n",
      "33976  0.028320  0.024414  0.719238  1.525879  1.098633  1.098633  4.279175   \n",
      "33977  0.028320  0.024414  0.719238  1.525879  1.098633  1.098633  4.279175   \n",
      "33978  0.028320  0.024414  0.719238  1.525879  1.098633  1.098633  4.284668   \n",
      "\n",
      "           AngY       AngZ               timestamp  \n",
      "33974 -0.230713  30.613403 2025-04-01 10:02:52.405  \n",
      "33975 -0.230713  30.618896 2025-04-01 10:02:52.410  \n",
      "33976 -0.230713  30.624390 2025-04-01 10:02:52.415  \n",
      "33977 -0.236206  30.629883 2025-04-01 10:02:52.420  \n",
      "33978 -0.236206  30.635376 2025-04-01 10:02:52.425  \n"
     ]
    }
   ],
   "execution_count": 13
  },
  {
   "metadata": {
    "ExecuteTime": {
     "end_time": "2025-04-09T02:30:26.224951Z",
     "start_time": "2025-04-09T02:30:26.104276Z"
    }
   },
   "cell_type": "code",
   "source": [
    "print(pd_pickle_right.shape)\n",
    "print(pd_pickle_right.dtypes)\n",
    "print(pd_pickle_right.describe())\n",
    "print(pd_pickle_right.info)\n",
    "print(pd_pickle_right.head())"
   ],
   "id": "12a3ce25f5868c83",
   "outputs": [
    {
     "name": "stdout",
     "output_type": "stream",
     "text": [
      "(206000, 10)\n",
      "AccX                float64\n",
      "AccY                float64\n",
      "AccZ                float64\n",
      "AsX                 float64\n",
      "AsY                 float64\n",
      "AsZ                 float64\n",
      "AngX                float64\n",
      "AngY                float64\n",
      "AngZ                float64\n",
      "timestamp    datetime64[ns]\n",
      "dtype: object\n",
      "                AccX           AccY           AccZ            AsX  \\\n",
      "count  206000.000000  206000.000000  206000.000000  206000.000000   \n",
      "mean       -0.254099      -0.154171       1.144569      -0.013120   \n",
      "min        -5.007324      -3.132324      -1.668457    -151.977539   \n",
      "25%        -0.632812      -0.392090       0.962891      -0.915527   \n",
      "50%        -0.064453      -0.020996       1.005371       0.122070   \n",
      "75%        -0.011230      -0.003418       1.413574       1.586914   \n",
      "max         4.536133       3.388184       2.760742     218.688965   \n",
      "std         0.326807       0.224370       0.251968      18.516773   \n",
      "\n",
      "                 AsY            AsZ           AngX           AngY  \\\n",
      "count  206000.000000  206000.000000  206000.000000  206000.000000   \n",
      "mean        1.212045      -0.167324     -12.756492      -6.534583   \n",
      "min      -302.795410    -222.839355    -179.873657     -93.762817   \n",
      "25%        -1.098633      -1.892090     -24.807129     -14.666748   \n",
      "50%         0.305176      -0.183105      -9.195557      -9.212036   \n",
      "75%         1.831055       1.464844      -4.932861       1.719360   \n",
      "max       455.993652     528.991699     179.912109      71.235352   \n",
      "std        22.225737      26.997328      15.193914      13.627919   \n",
      "\n",
      "                AngZ                      timestamp  \n",
      "count  206000.000000                         206000  \n",
      "mean      -30.526091  2025-04-01 10:11:26.502500864  \n",
      "min      -179.994507     2025-04-01 10:02:51.505000  \n",
      "25%      -101.641388  2025-04-01 10:07:09.003749888  \n",
      "50%       -58.831787  2025-04-01 10:11:26.502499840  \n",
      "75%         2.120361  2025-04-01 10:15:44.001250048  \n",
      "max       179.994507     2025-04-01 10:20:01.500000  \n",
      "std        99.719247                            NaN  \n",
      "<bound method DataFrame.info of             AccX      AccY      AccZ       AsX       AsY       AsZ       AngX  \\\n",
      "33665  -0.023926 -0.024414  0.896973  0.122070  0.610352  0.183105 -10.244751   \n",
      "33666  -0.024414 -0.025391  0.900879  0.061035  0.671387  0.122070 -10.244751   \n",
      "33667  -0.023926 -0.022949  0.900879  0.061035  0.610352  0.122070 -10.244751   \n",
      "33668  -0.024414 -0.025391  0.898438  0.122070  0.854492  0.244141 -10.244751   \n",
      "33669  -0.022949 -0.027344  0.896973  0.122070  0.793457  0.122070 -10.244751   \n",
      "...          ...       ...       ...       ...       ...       ...        ...   \n",
      "239660 -0.649414 -0.436523  1.574707  1.708984  1.281738  3.723145 -28.317261   \n",
      "239661 -0.635742 -0.435547  1.567383  1.525879  1.098633  4.028320 -28.295288   \n",
      "239662 -0.630371 -0.433594  1.556152  1.770020  0.854492  3.906250 -28.267822   \n",
      "239663 -0.640625 -0.428711  1.557129  1.525879  1.220703  4.089355 -28.245850   \n",
      "239664 -0.656250 -0.428223  1.556641  1.464844  1.708984  4.089355 -28.223877   \n",
      "\n",
      "             AngY       AngZ               timestamp  \n",
      "33665  -14.276733  -9.585571 2025-04-01 10:02:51.505  \n",
      "33666  -14.276733  -9.585571 2025-04-01 10:02:51.510  \n",
      "33667  -14.271240  -9.585571 2025-04-01 10:02:51.515  \n",
      "33668  -14.271240  -9.585571 2025-04-01 10:02:51.520  \n",
      "33669  -14.271240  -9.580078 2025-04-01 10:02:51.525  \n",
      "...           ...        ...                     ...  \n",
      "239660  -6.432495  75.728760 2025-04-01 10:20:01.480  \n",
      "239661  -6.383057  75.745239 2025-04-01 10:20:01.485  \n",
      "239662  -6.339111  75.761719 2025-04-01 10:20:01.490  \n",
      "239663  -6.289673  75.778198 2025-04-01 10:20:01.495  \n",
      "239664  -6.245728  75.794678 2025-04-01 10:20:01.500  \n",
      "\n",
      "[206000 rows x 10 columns]>\n",
      "           AccX      AccY      AccZ       AsX       AsY       AsZ       AngX  \\\n",
      "33665 -0.023926 -0.024414  0.896973  0.122070  0.610352  0.183105 -10.244751   \n",
      "33666 -0.024414 -0.025391  0.900879  0.061035  0.671387  0.122070 -10.244751   \n",
      "33667 -0.023926 -0.022949  0.900879  0.061035  0.610352  0.122070 -10.244751   \n",
      "33668 -0.024414 -0.025391  0.898438  0.122070  0.854492  0.244141 -10.244751   \n",
      "33669 -0.022949 -0.027344  0.896973  0.122070  0.793457  0.122070 -10.244751   \n",
      "\n",
      "            AngY      AngZ               timestamp  \n",
      "33665 -14.276733 -9.585571 2025-04-01 10:02:51.505  \n",
      "33666 -14.276733 -9.585571 2025-04-01 10:02:51.510  \n",
      "33667 -14.271240 -9.585571 2025-04-01 10:02:51.515  \n",
      "33668 -14.271240 -9.585571 2025-04-01 10:02:51.520  \n",
      "33669 -14.271240 -9.580078 2025-04-01 10:02:51.525  \n"
     ]
    }
   ],
   "execution_count": 14
  },
  {
   "metadata": {
    "ExecuteTime": {
     "end_time": "2025-04-09T07:39:10.625516Z",
     "start_time": "2025-04-09T07:39:10.521071Z"
    }
   },
   "cell_type": "code",
   "source": [
    "# Merge using an inner join on the timestamp column\n",
    "merged_df = pd.merge(pd_pickle_left, pd_pickle_right, on='timestamp', suffixes=('_left', '_right'))\n",
    "\n",
    "# Display the merged dataframe\n",
    "merged_df.head()"
   ],
   "id": "b628a6bbd907b4a3",
   "outputs": [
    {
     "data": {
      "text/plain": [
       "   AccX_left  AccY_left  AccZ_left  AsX_left  AsY_left  AsZ_left  AngX_left  \\\n",
       "0   0.077637        0.0   0.843750  0.732422   1.89209  0.976562   2.752075   \n",
       "1   0.077637        0.0   0.843750  0.732422   1.89209  0.976562   2.746582   \n",
       "2   0.079102        0.0   0.844238  0.671387   1.89209  0.976562   2.746582   \n",
       "3   0.079102        0.0   0.844238  0.671387   1.89209  0.976562   2.741089   \n",
       "4   0.079102        0.0   0.844238  0.671387   1.89209  0.976562   2.735596   \n",
       "\n",
       "   AngY_left  AngZ_left               timestamp  AccX_right  AccY_right  \\\n",
       "0  -3.488159  48.125610 2025-03-26 15:05:37.005    0.012207    0.014160   \n",
       "1  -3.482666  48.125610 2025-03-26 15:05:37.010    0.015137    0.012695   \n",
       "2  -3.477173  48.120117 2025-03-26 15:05:37.015    0.014160    0.012207   \n",
       "3  -3.471680  48.120117 2025-03-26 15:05:37.020    0.024414    0.013184   \n",
       "4  -3.466187  48.120117 2025-03-26 15:05:37.025    0.029297    0.011230   \n",
       "\n",
       "   AccZ_right  AsX_right  AsY_right  AsZ_right  AngX_right  AngY_right  \\\n",
       "0    1.112793  -0.366211   0.000000   0.244141   -7.800293  -17.600098   \n",
       "1    1.113770  -0.488281  -0.427246   0.488281   -7.805786  -17.605591   \n",
       "2    1.109863  -0.366211  -0.549316   0.427246   -7.805786  -17.611084   \n",
       "3    1.110840  -0.244141  -0.793457   0.366211   -7.805786  -17.611084   \n",
       "4    1.108398  -0.488281  -0.793457   0.488281   -7.811279  -17.616577   \n",
       "\n",
       "   AngZ_right  \n",
       "0  -97.135620  \n",
       "1  -97.130127  \n",
       "2  -97.130127  \n",
       "3  -97.130127  \n",
       "4  -97.124634  "
      ],
      "text/html": [
       "<div>\n",
       "<style scoped>\n",
       "    .dataframe tbody tr th:only-of-type {\n",
       "        vertical-align: middle;\n",
       "    }\n",
       "\n",
       "    .dataframe tbody tr th {\n",
       "        vertical-align: top;\n",
       "    }\n",
       "\n",
       "    .dataframe thead th {\n",
       "        text-align: right;\n",
       "    }\n",
       "</style>\n",
       "<table border=\"1\" class=\"dataframe\">\n",
       "  <thead>\n",
       "    <tr style=\"text-align: right;\">\n",
       "      <th></th>\n",
       "      <th>AccX_left</th>\n",
       "      <th>AccY_left</th>\n",
       "      <th>AccZ_left</th>\n",
       "      <th>AsX_left</th>\n",
       "      <th>AsY_left</th>\n",
       "      <th>AsZ_left</th>\n",
       "      <th>AngX_left</th>\n",
       "      <th>AngY_left</th>\n",
       "      <th>AngZ_left</th>\n",
       "      <th>timestamp</th>\n",
       "      <th>AccX_right</th>\n",
       "      <th>AccY_right</th>\n",
       "      <th>AccZ_right</th>\n",
       "      <th>AsX_right</th>\n",
       "      <th>AsY_right</th>\n",
       "      <th>AsZ_right</th>\n",
       "      <th>AngX_right</th>\n",
       "      <th>AngY_right</th>\n",
       "      <th>AngZ_right</th>\n",
       "    </tr>\n",
       "  </thead>\n",
       "  <tbody>\n",
       "    <tr>\n",
       "      <th>0</th>\n",
       "      <td>0.077637</td>\n",
       "      <td>0.0</td>\n",
       "      <td>0.843750</td>\n",
       "      <td>0.732422</td>\n",
       "      <td>1.89209</td>\n",
       "      <td>0.976562</td>\n",
       "      <td>2.752075</td>\n",
       "      <td>-3.488159</td>\n",
       "      <td>48.125610</td>\n",
       "      <td>2025-03-26 15:05:37.005</td>\n",
       "      <td>0.012207</td>\n",
       "      <td>0.014160</td>\n",
       "      <td>1.112793</td>\n",
       "      <td>-0.366211</td>\n",
       "      <td>0.000000</td>\n",
       "      <td>0.244141</td>\n",
       "      <td>-7.800293</td>\n",
       "      <td>-17.600098</td>\n",
       "      <td>-97.135620</td>\n",
       "    </tr>\n",
       "    <tr>\n",
       "      <th>1</th>\n",
       "      <td>0.077637</td>\n",
       "      <td>0.0</td>\n",
       "      <td>0.843750</td>\n",
       "      <td>0.732422</td>\n",
       "      <td>1.89209</td>\n",
       "      <td>0.976562</td>\n",
       "      <td>2.746582</td>\n",
       "      <td>-3.482666</td>\n",
       "      <td>48.125610</td>\n",
       "      <td>2025-03-26 15:05:37.010</td>\n",
       "      <td>0.015137</td>\n",
       "      <td>0.012695</td>\n",
       "      <td>1.113770</td>\n",
       "      <td>-0.488281</td>\n",
       "      <td>-0.427246</td>\n",
       "      <td>0.488281</td>\n",
       "      <td>-7.805786</td>\n",
       "      <td>-17.605591</td>\n",
       "      <td>-97.130127</td>\n",
       "    </tr>\n",
       "    <tr>\n",
       "      <th>2</th>\n",
       "      <td>0.079102</td>\n",
       "      <td>0.0</td>\n",
       "      <td>0.844238</td>\n",
       "      <td>0.671387</td>\n",
       "      <td>1.89209</td>\n",
       "      <td>0.976562</td>\n",
       "      <td>2.746582</td>\n",
       "      <td>-3.477173</td>\n",
       "      <td>48.120117</td>\n",
       "      <td>2025-03-26 15:05:37.015</td>\n",
       "      <td>0.014160</td>\n",
       "      <td>0.012207</td>\n",
       "      <td>1.109863</td>\n",
       "      <td>-0.366211</td>\n",
       "      <td>-0.549316</td>\n",
       "      <td>0.427246</td>\n",
       "      <td>-7.805786</td>\n",
       "      <td>-17.611084</td>\n",
       "      <td>-97.130127</td>\n",
       "    </tr>\n",
       "    <tr>\n",
       "      <th>3</th>\n",
       "      <td>0.079102</td>\n",
       "      <td>0.0</td>\n",
       "      <td>0.844238</td>\n",
       "      <td>0.671387</td>\n",
       "      <td>1.89209</td>\n",
       "      <td>0.976562</td>\n",
       "      <td>2.741089</td>\n",
       "      <td>-3.471680</td>\n",
       "      <td>48.120117</td>\n",
       "      <td>2025-03-26 15:05:37.020</td>\n",
       "      <td>0.024414</td>\n",
       "      <td>0.013184</td>\n",
       "      <td>1.110840</td>\n",
       "      <td>-0.244141</td>\n",
       "      <td>-0.793457</td>\n",
       "      <td>0.366211</td>\n",
       "      <td>-7.805786</td>\n",
       "      <td>-17.611084</td>\n",
       "      <td>-97.130127</td>\n",
       "    </tr>\n",
       "    <tr>\n",
       "      <th>4</th>\n",
       "      <td>0.079102</td>\n",
       "      <td>0.0</td>\n",
       "      <td>0.844238</td>\n",
       "      <td>0.671387</td>\n",
       "      <td>1.89209</td>\n",
       "      <td>0.976562</td>\n",
       "      <td>2.735596</td>\n",
       "      <td>-3.466187</td>\n",
       "      <td>48.120117</td>\n",
       "      <td>2025-03-26 15:05:37.025</td>\n",
       "      <td>0.029297</td>\n",
       "      <td>0.011230</td>\n",
       "      <td>1.108398</td>\n",
       "      <td>-0.488281</td>\n",
       "      <td>-0.793457</td>\n",
       "      <td>0.488281</td>\n",
       "      <td>-7.811279</td>\n",
       "      <td>-17.616577</td>\n",
       "      <td>-97.124634</td>\n",
       "    </tr>\n",
       "  </tbody>\n",
       "</table>\n",
       "</div>"
      ]
     },
     "execution_count": 13,
     "metadata": {},
     "output_type": "execute_result"
    }
   ],
   "execution_count": 13
  },
  {
   "metadata": {
    "ExecuteTime": {
     "end_time": "2025-04-09T07:39:20.729402Z",
     "start_time": "2025-04-09T07:39:20.628670Z"
    }
   },
   "cell_type": "code",
   "source": [
    "print(merged_df['timestamp'].diff().describe())\n",
    "sure_frequency(merged_df)"
   ],
   "id": "cd8844b2c7ab569",
   "outputs": [
    {
     "name": "stdout",
     "output_type": "stream",
     "text": [
      "count                     95099\n",
      "mean     0 days 00:00:00.005000\n",
      "std             0 days 00:00:00\n",
      "min      0 days 00:00:00.005000\n",
      "25%      0 days 00:00:00.005000\n",
      "50%      0 days 00:00:00.005000\n",
      "75%      0 days 00:00:00.005000\n",
      "max      0 days 00:00:00.005000\n",
      "Name: timestamp, dtype: object\n",
      "Counter({200.0: 475})\n"
     ]
    }
   ],
   "execution_count": 14
  },
  {
   "metadata": {
    "ExecuteTime": {
     "end_time": "2025-04-09T02:30:33.555253Z",
     "start_time": "2025-04-09T02:30:33.257445Z"
    }
   },
   "cell_type": "code",
   "source": [
    "print(merged_df.shape)\n",
    "print(merged_df.dtypes)\n",
    "print(merged_df.describe())\n",
    "print(merged_df.info)\n",
    "print(merged_df.head())"
   ],
   "id": "52acf3bfc49143b3",
   "outputs": [
    {
     "name": "stdout",
     "output_type": "stream",
     "text": [
      "(205820, 19)\n",
      "AccX_left            float64\n",
      "AccY_left            float64\n",
      "AccZ_left            float64\n",
      "AsX_left             float64\n",
      "AsY_left             float64\n",
      "AsZ_left             float64\n",
      "AngX_left            float64\n",
      "AngY_left            float64\n",
      "AngZ_left            float64\n",
      "timestamp     datetime64[ns]\n",
      "AccX_right           float64\n",
      "AccY_right           float64\n",
      "AccZ_right           float64\n",
      "AsX_right            float64\n",
      "AsY_right            float64\n",
      "AsZ_right            float64\n",
      "AngX_right           float64\n",
      "AngY_right           float64\n",
      "AngZ_right           float64\n",
      "dtype: object\n",
      "           AccX_left      AccY_left      AccZ_left       AsX_left  \\\n",
      "count  205820.000000  205820.000000  205820.000000  205820.000000   \n",
      "mean        0.012728       0.004381       0.740764       1.044252   \n",
      "min       -15.948730     -15.000977     -13.769531    -189.086914   \n",
      "25%        -0.018066       0.008789       0.705566       0.427246   \n",
      "50%         0.020996       0.016602       0.756348       1.892090   \n",
      "75%         0.061523       0.034668       0.794434       3.784180   \n",
      "max        14.863770       3.248047      10.803711     141.784668   \n",
      "std         0.398981       0.295121       0.196788      16.903307   \n",
      "\n",
      "            AsY_left       AsZ_left      AngX_left      AngY_left  \\\n",
      "count  205820.000000  205820.000000  205820.000000  205820.000000   \n",
      "mean        0.378938       1.149942       3.583606      -0.814519   \n",
      "min      -508.605957    -594.604492    -178.720093     -87.220459   \n",
      "25%        -0.610352      -1.220703       0.884399      -5.614014   \n",
      "50%         1.220703       1.159668       3.548584      -0.843201   \n",
      "75%         2.868652       3.051758       5.559082       4.268188   \n",
      "max       424.865723     376.708984     177.698364      80.579224   \n",
      "std        30.130111      50.068794       9.805130      14.202984   \n",
      "\n",
      "           AngZ_left                      timestamp     AccX_right  \\\n",
      "count  205820.000000                         205820  205820.000000   \n",
      "mean        9.737475  2025-04-01 10:11:26.952499968      -0.254303   \n",
      "min      -179.406738     2025-04-01 10:02:52.405000      -5.007324   \n",
      "25%         0.560303  2025-04-01 10:07:09.678749952      -0.632812   \n",
      "50%        12.864990  2025-04-01 10:11:26.952499968      -0.064941   \n",
      "75%        22.434082  2025-04-01 10:15:44.226249984      -0.011230   \n",
      "max       179.560547     2025-04-01 10:20:01.500000       4.536133   \n",
      "std        25.047854                            NaN       0.326877   \n",
      "\n",
      "          AccY_right     AccZ_right      AsX_right      AsY_right  \\\n",
      "count  205820.000000  205820.000000  205820.000000  205820.000000   \n",
      "mean       -0.154284       1.144786      -0.013045       1.212834   \n",
      "min        -3.132324      -1.668457    -151.977539    -302.795410   \n",
      "25%        -0.392090       0.963379      -0.915527      -1.098633   \n",
      "50%        -0.020996       1.005371       0.122070       0.305176   \n",
      "75%        -0.003418       1.414062       1.586914       1.831055   \n",
      "max         3.388184       2.760742     218.688965     455.993652   \n",
      "std         0.224436       0.251972      18.524866      22.235435   \n",
      "\n",
      "           AsZ_right     AngX_right     AngY_right     AngZ_right  \n",
      "count  205820.000000  205820.000000  205820.000000  205820.000000  \n",
      "mean       -0.167510     -12.758713      -6.527728     -30.544446  \n",
      "min      -222.839355    -179.873657     -93.762817    -179.994507  \n",
      "25%        -1.953125     -24.812622     -14.672241    -101.740265  \n",
      "50%        -0.183105      -9.190063      -9.195557     -58.881226  \n",
      "75%         1.464844      -4.927368       1.730347       2.220612  \n",
      "max       528.991699     179.912109      71.235352     179.994507  \n",
      "std        27.009128      15.200370      13.631904      99.760910  \n",
      "<bound method DataFrame.info of         AccX_left  AccY_left  AccZ_left  AsX_left  AsY_left  AsZ_left  \\\n",
      "0        0.033203   0.025879   0.715820  1.403809  1.342773  1.220703   \n",
      "1        0.028320   0.024414   0.719238  1.525879  1.098633  1.098633   \n",
      "2        0.028320   0.024414   0.719238  1.525879  1.098633  1.098633   \n",
      "3        0.028320   0.024414   0.719238  1.525879  1.098633  1.098633   \n",
      "4        0.028320   0.024414   0.719238  1.525879  1.098633  1.098633   \n",
      "...           ...        ...        ...       ...       ...       ...   \n",
      "205815   0.028809   0.025879   0.696289  0.793457  1.220703  1.770020   \n",
      "205816   0.028809   0.025879   0.696289  0.793457  1.220703  1.770020   \n",
      "205817   0.028809   0.025879   0.696289  0.793457  1.220703  1.770020   \n",
      "205818   0.027832   0.050781   0.708008  0.915527 -0.366211  2.807617   \n",
      "205819   0.027832   0.050781   0.708008  0.915527 -0.366211  2.807617   \n",
      "\n",
      "        AngX_left  AngY_left  AngZ_left               timestamp  AccX_right  \\\n",
      "0        4.279175  -0.230713  30.613403 2025-04-01 10:02:52.405   -0.020020   \n",
      "1        4.279175  -0.230713  30.618896 2025-04-01 10:02:52.410   -0.019043   \n",
      "2        4.279175  -0.230713  30.624390 2025-04-01 10:02:52.415   -0.022949   \n",
      "3        4.279175  -0.236206  30.629883 2025-04-01 10:02:52.420   -0.019043   \n",
      "4        4.284668  -0.236206  30.635376 2025-04-01 10:02:52.425   -0.017578   \n",
      "...           ...        ...        ...                     ...         ...   \n",
      "205815   4.432983   6.921387  -5.487671 2025-04-01 10:20:01.480   -0.649414   \n",
      "205816   4.432983   6.899414  -5.487671 2025-04-01 10:20:01.485   -0.635742   \n",
      "205817   4.427490   6.877441  -5.487671 2025-04-01 10:20:01.490   -0.630371   \n",
      "205818   4.427490   6.849976  -5.476685 2025-04-01 10:20:01.495   -0.640625   \n",
      "205819   4.427490   6.822510  -5.471191 2025-04-01 10:20:01.500   -0.656250   \n",
      "\n",
      "        AccY_right  AccZ_right  AsX_right  AsY_right  AsZ_right  AngX_right  \\\n",
      "0        -0.024414    0.895508   0.000000   0.549316   0.244141  -10.261230   \n",
      "1        -0.020020    0.897461  -0.122070   0.427246   0.122070  -10.261230   \n",
      "2        -0.021484    0.892090  -0.305176   0.305176   0.122070  -10.266724   \n",
      "3        -0.024902    0.895508  -0.244141   0.061035   0.122070  -10.266724   \n",
      "4        -0.022461    0.897949  -0.366211   0.061035   0.122070  -10.266724   \n",
      "...            ...         ...        ...        ...        ...         ...   \n",
      "205815   -0.436523    1.574707   1.708984   1.281738   3.723145  -28.317261   \n",
      "205816   -0.435547    1.567383   1.525879   1.098633   4.028320  -28.295288   \n",
      "205817   -0.433594    1.556152   1.770020   0.854492   3.906250  -28.267822   \n",
      "205818   -0.428711    1.557129   1.525879   1.220703   4.089355  -28.245850   \n",
      "205819   -0.428223    1.556641   1.464844   1.708984   4.089355  -28.223877   \n",
      "\n",
      "        AngY_right  AngZ_right  \n",
      "0       -14.518433   -9.552612  \n",
      "1       -14.518433   -9.552612  \n",
      "2       -14.518433   -9.552612  \n",
      "3       -14.523926   -9.552612  \n",
      "4       -14.523926   -9.547119  \n",
      "...            ...         ...  \n",
      "205815   -6.432495   75.728760  \n",
      "205816   -6.383057   75.745239  \n",
      "205817   -6.339111   75.761719  \n",
      "205818   -6.289673   75.778198  \n",
      "205819   -6.245728   75.794678  \n",
      "\n",
      "[205820 rows x 19 columns]>\n",
      "   AccX_left  AccY_left  AccZ_left  AsX_left  AsY_left  AsZ_left  AngX_left  \\\n",
      "0   0.033203   0.025879   0.715820  1.403809  1.342773  1.220703   4.279175   \n",
      "1   0.028320   0.024414   0.719238  1.525879  1.098633  1.098633   4.279175   \n",
      "2   0.028320   0.024414   0.719238  1.525879  1.098633  1.098633   4.279175   \n",
      "3   0.028320   0.024414   0.719238  1.525879  1.098633  1.098633   4.279175   \n",
      "4   0.028320   0.024414   0.719238  1.525879  1.098633  1.098633   4.284668   \n",
      "\n",
      "   AngY_left  AngZ_left               timestamp  AccX_right  AccY_right  \\\n",
      "0  -0.230713  30.613403 2025-04-01 10:02:52.405   -0.020020   -0.024414   \n",
      "1  -0.230713  30.618896 2025-04-01 10:02:52.410   -0.019043   -0.020020   \n",
      "2  -0.230713  30.624390 2025-04-01 10:02:52.415   -0.022949   -0.021484   \n",
      "3  -0.236206  30.629883 2025-04-01 10:02:52.420   -0.019043   -0.024902   \n",
      "4  -0.236206  30.635376 2025-04-01 10:02:52.425   -0.017578   -0.022461   \n",
      "\n",
      "   AccZ_right  AsX_right  AsY_right  AsZ_right  AngX_right  AngY_right  \\\n",
      "0    0.895508   0.000000   0.549316   0.244141  -10.261230  -14.518433   \n",
      "1    0.897461  -0.122070   0.427246   0.122070  -10.261230  -14.518433   \n",
      "2    0.892090  -0.305176   0.305176   0.122070  -10.266724  -14.518433   \n",
      "3    0.895508  -0.244141   0.061035   0.122070  -10.266724  -14.523926   \n",
      "4    0.897949  -0.366211   0.061035   0.122070  -10.266724  -14.523926   \n",
      "\n",
      "   AngZ_right  \n",
      "0   -9.552612  \n",
      "1   -9.552612  \n",
      "2   -9.552612  \n",
      "3   -9.552612  \n",
      "4   -9.547119  \n"
     ]
    }
   ],
   "execution_count": 17
  },
  {
   "metadata": {
    "ExecuteTime": {
     "end_time": "2025-04-09T07:39:27.640395Z",
     "start_time": "2025-04-09T07:39:27.631183Z"
    }
   },
   "cell_type": "code",
   "source": [
    "correct_touch = ['2025-03-26 15:06:17.500', '2025-03-26 15:06:38.800', '2025-03-26 15:06:55.700',\n",
    "                 '2025-03-26 15:07:13.500', '2025-03-26 15:07:29.500', '2025-03-26 15:07:43.000', '2025-03-26 15:07:58.000',\n",
    "                 '2025-03-26 15:08:09.800', '2025-03-26 15:08:18.500', '2025-03-26 15:08:29.000', '2025-03-26 15:08:40.300']\n",
    "\n",
    "wrong_inward = ['2025-03-26 15:09:28.500', '2025-03-26 15:09:41.000', '2025-03-26 15:09:51.500',\n",
    "                     '2025-03-26 15:10:02.200', '2025-03-26 15:10:15.000', '2025-03-26 15:10:27.000', '2025-03-26 15:10:37.800', '2025-03-26 15:10:47.500', '2025-03-26 15:10:57.500',\n",
    "                     '2025-03-26 15:11:11.600']\n",
    "\n",
    "wrong_outward = ['2025-03-26 15:11:54.000',\n",
    "                    '2025-03-26 15:12:03.000', '2025-03-26 15:12:11.200', '2025-03-26 15:12:18.500', '2025-03-26 15:12:27.500', '2025-03-26 15:12:39.300', '2025-03-26 15:12:49.300',\n",
    "                    '2025-03-26 15:13:02.500', '2025-03-26 15:13:15.500', '2025-03-26 15:13:26.500']"
   ],
   "id": "a26dedd1abf3043d",
   "outputs": [],
   "execution_count": 15
  },
  {
   "metadata": {
    "ExecuteTime": {
     "end_time": "2025-04-02T06:55:49.637276Z",
     "start_time": "2025-04-02T06:55:49.630253Z"
    }
   },
   "cell_type": "code",
   "source": [
    "# create a function that take in a dataframe and a timestamp and return a dataframe with the data from duration seconds before the timestamp to the timestamp\n",
    "def get_data_before_timestamp(data: pd.DataFrame, time_touch: str, duration: int) -> pd.DataFrame:\n",
    "    \"\"\"\n",
    "    Get the data from a specified duration before a given timestamp.\n",
    "\n",
    "    Parameters:\n",
    "        data (pd.DataFrame): The DataFrame containing the sensor data.\n",
    "        time_touch (str): The reference timestamp.\n",
    "        duration (int): The duration in seconds before the timestamp.\n",
    "\n",
    "    Returns:\n",
    "        pd.DataFrame: The data from the specified duration before the timestamp.\n",
    "    \"\"\"\n",
    "    # Ensure the timestamp is in datetime format\n",
    "    time_touch = pd.to_datetime(time_touch)\n",
    "\n",
    "    # Calculate the start time based on the duration\n",
    "    start_time = time_touch - pd.Timedelta(seconds=duration)\n",
    "\n",
    "    # Filter the data within the specified time range\n",
    "    # only return data of the columns 'AccX', 'AccY', 'AccZ', 'AsX', 'AsY', 'AsZ'\n",
    "    filtered_data = data[(data['timestamp'] > start_time) & (data['timestamp'] <= time_touch)][['AccX', 'AccY', 'AccZ', 'AsX', 'AsY', 'AsZ']]\n",
    "\n",
    "    return filtered_data"
   ],
   "id": "4ce548f534c93502",
   "outputs": [],
   "execution_count": 64
  },
  {
   "metadata": {
    "ExecuteTime": {
     "end_time": "2025-04-09T07:39:33.209978Z",
     "start_time": "2025-04-09T07:39:33.201976Z"
    }
   },
   "cell_type": "code",
   "source": [
    "def get_data_before_timestamp_merged(data: pd.DataFrame, time_touch: str, duration: int) -> pd.DataFrame:\n",
    "    \"\"\"\n",
    "    Get the data from a specified duration before a given timestamp.\n",
    "\n",
    "    Parameters:\n",
    "        data (pd.DataFrame): The DataFrame containing the sensor data.\n",
    "        time_touch (str): The reference timestamp.\n",
    "        duration (int): The duration in seconds before the timestamp.\n",
    "\n",
    "    Returns:\n",
    "        pd.DataFrame: The data from the specified duration before the timestamp.\n",
    "    \"\"\"\n",
    "    # Ensure the timestamp is in datetime format\n",
    "    time_touch = pd.to_datetime(time_touch)\n",
    "\n",
    "    # Calculate the start time based on the duration\n",
    "    start_time = time_touch - pd.Timedelta(seconds=duration)\n",
    "\n",
    "    # Filter the data within the specified time range\n",
    "    filtered_data = data[(data['timestamp'] > start_time) & (data['timestamp'] <= time_touch)][['AccX_left', 'AccY_left', 'AccZ_left', 'AsX_left', 'AsY_left', 'AsZ_left', 'AccX_right', 'AccY_right', 'AccZ_right', 'AsX_right', 'AsY_right', 'AsZ_right']]\n",
    "\n",
    "    return filtered_data"
   ],
   "id": "13a6b6f1ff8c6fa4",
   "outputs": [],
   "execution_count": 16
  },
  {
   "metadata": {
    "ExecuteTime": {
     "end_time": "2025-04-09T07:39:38.534396Z",
     "start_time": "2025-04-09T07:39:37.699246Z"
    }
   },
   "cell_type": "code",
   "source": [
    "correct_touch_dataframes : list = []\n",
    "for timestamp in correct_touch:\n",
    "    correct_touch_dataframes.append(get_data_before_timestamp(pd_pickle_left, timestamp, duration))\n",
    "wrong_inward_dataframes : list = []\n",
    "for timestamp in wrong_inward:\n",
    "    wrong_inward_dataframes.append(get_data_before_timestamp(pd_pickle_left, timestamp, duration))\n",
    "wrong_outward_dataframes : list = []\n",
    "for timestamp in wrong_outward:\n",
    "    wrong_outward_dataframes.append(get_data_before_timestamp(pd_pickle_left, timestamp, duration))"
   ],
   "id": "a4b16f93cb05da85",
   "outputs": [
    {
     "ename": "NameError",
     "evalue": "name 'get_data_before_timestamp' is not defined",
     "output_type": "error",
     "traceback": [
      "\u001B[0;31m---------------------------------------------------------------------------\u001B[0m",
      "\u001B[0;31mNameError\u001B[0m                                 Traceback (most recent call last)",
      "Cell \u001B[0;32mIn[17], line 3\u001B[0m\n\u001B[1;32m      1\u001B[0m correct_touch_dataframes : \u001B[38;5;28mlist\u001B[39m \u001B[38;5;241m=\u001B[39m []\n\u001B[1;32m      2\u001B[0m \u001B[38;5;28;01mfor\u001B[39;00m timestamp \u001B[38;5;129;01min\u001B[39;00m correct_touch:\n\u001B[0;32m----> 3\u001B[0m     correct_touch_dataframes\u001B[38;5;241m.\u001B[39mappend(\u001B[43mget_data_before_timestamp\u001B[49m(pd_pickle_left, timestamp, duration))\n\u001B[1;32m      4\u001B[0m wrong_inward_dataframes : \u001B[38;5;28mlist\u001B[39m \u001B[38;5;241m=\u001B[39m []\n\u001B[1;32m      5\u001B[0m \u001B[38;5;28;01mfor\u001B[39;00m timestamp \u001B[38;5;129;01min\u001B[39;00m wrong_inward:\n",
      "\u001B[0;31mNameError\u001B[0m: name 'get_data_before_timestamp' is not defined"
     ]
    }
   ],
   "execution_count": 17
  },
  {
   "metadata": {
    "ExecuteTime": {
     "end_time": "2025-04-09T07:39:40.537305Z",
     "start_time": "2025-04-09T07:39:40.355288Z"
    }
   },
   "cell_type": "code",
   "source": [
    "correct_touch_dataframes : list = []\n",
    "for timestamp in correct_touch:\n",
    "    correct_touch_dataframes.append(get_data_before_timestamp_merged(merged_df, timestamp, duration))\n",
    "wrong_inward_dataframes : list = []\n",
    "for timestamp in wrong_inward:\n",
    "    wrong_inward_dataframes.append(get_data_before_timestamp_merged(merged_df, timestamp, duration))\n",
    "wrong_outward_dataframes : list = []\n",
    "for timestamp in wrong_outward:\n",
    "    wrong_outward_dataframes.append(get_data_before_timestamp_merged(merged_df, timestamp, duration))"
   ],
   "id": "eb67b5f9ce8b35c7",
   "outputs": [],
   "execution_count": 18
  },
  {
   "metadata": {
    "ExecuteTime": {
     "end_time": "2025-04-09T02:30:54.088889Z",
     "start_time": "2025-04-09T02:30:52.919089Z"
    }
   },
   "cell_type": "code",
   "source": [
    "correct_touch_numpy :np.array = np.array(correct_touch_dataframes)\n",
    "correct_touch_numpy = np.insert(correct_touch_numpy, 0, np.array([0, 1, 0, 0, 0, 0]), axis=1)\n",
    "wrong_inward_numpy = np.array(wrong_inward_dataframes)\n",
    "wrong_inward_numpy = np.insert(wrong_inward_numpy, 0, np.array([1, 2, 0, 0, 0, 0]), axis=1)\n",
    "wrong_outward_numpy = np.array(wrong_outward_dataframes)\n",
    "wrong_outward_numpy = np.insert(wrong_outward_numpy, 0, np.array([2, 3, 0, 0, 0, 0]), axis=1)\n",
    "combined_numpy = np.concatenate((correct_touch_numpy, wrong_inward_numpy, wrong_outward_numpy))"
   ],
   "id": "8c0dfecf415f43c3",
   "outputs": [
    {
     "ename": "ValueError",
     "evalue": "could not broadcast input array from shape (1,1,6) into shape (13,1,12)",
     "output_type": "error",
     "traceback": [
      "\u001B[0;31m---------------------------------------------------------------------------\u001B[0m",
      "\u001B[0;31mValueError\u001B[0m                                Traceback (most recent call last)",
      "Cell \u001B[0;32mIn[22], line 2\u001B[0m\n\u001B[1;32m      1\u001B[0m correct_touch_numpy :np\u001B[38;5;241m.\u001B[39marray \u001B[38;5;241m=\u001B[39m np\u001B[38;5;241m.\u001B[39marray(correct_touch_dataframes)\n\u001B[0;32m----> 2\u001B[0m correct_touch_numpy \u001B[38;5;241m=\u001B[39m \u001B[43mnp\u001B[49m\u001B[38;5;241;43m.\u001B[39;49m\u001B[43minsert\u001B[49m\u001B[43m(\u001B[49m\u001B[43mcorrect_touch_numpy\u001B[49m\u001B[43m,\u001B[49m\u001B[43m \u001B[49m\u001B[38;5;241;43m0\u001B[39;49m\u001B[43m,\u001B[49m\u001B[43m \u001B[49m\u001B[43mnp\u001B[49m\u001B[38;5;241;43m.\u001B[39;49m\u001B[43marray\u001B[49m\u001B[43m(\u001B[49m\u001B[43m[\u001B[49m\u001B[38;5;241;43m0\u001B[39;49m\u001B[43m,\u001B[49m\u001B[43m \u001B[49m\u001B[38;5;241;43m5\u001B[39;49m\u001B[43m,\u001B[49m\u001B[43m \u001B[49m\u001B[38;5;241;43m0\u001B[39;49m\u001B[43m,\u001B[49m\u001B[43m \u001B[49m\u001B[38;5;241;43m0\u001B[39;49m\u001B[43m,\u001B[49m\u001B[43m \u001B[49m\u001B[38;5;241;43m0\u001B[39;49m\u001B[43m,\u001B[49m\u001B[43m \u001B[49m\u001B[38;5;241;43m0\u001B[39;49m\u001B[43m]\u001B[49m\u001B[43m)\u001B[49m\u001B[43m,\u001B[49m\u001B[43m \u001B[49m\u001B[43maxis\u001B[49m\u001B[38;5;241;43m=\u001B[39;49m\u001B[38;5;241;43m1\u001B[39;49m\u001B[43m)\u001B[49m\n\u001B[1;32m      3\u001B[0m wrong_inward_numpy \u001B[38;5;241m=\u001B[39m np\u001B[38;5;241m.\u001B[39marray(wrong_inward_dataframes)\n\u001B[1;32m      4\u001B[0m wrong_inward_numpy \u001B[38;5;241m=\u001B[39m np\u001B[38;5;241m.\u001B[39minsert(wrong_inward_numpy, \u001B[38;5;241m0\u001B[39m, np\u001B[38;5;241m.\u001B[39marray([\u001B[38;5;241m1\u001B[39m, \u001B[38;5;241m6\u001B[39m, \u001B[38;5;241m0\u001B[39m, \u001B[38;5;241m0\u001B[39m, \u001B[38;5;241m0\u001B[39m, \u001B[38;5;241m0\u001B[39m]), axis\u001B[38;5;241m=\u001B[39m\u001B[38;5;241m1\u001B[39m)\n",
      "File \u001B[0;32m<__array_function__ internals>:180\u001B[0m, in \u001B[0;36minsert\u001B[0;34m(*args, **kwargs)\u001B[0m\n",
      "File \u001B[0;32m~/anaconda3/envs/torch_env/lib/python3.9/site-packages/numpy/lib/function_base.py:5351\u001B[0m, in \u001B[0;36minsert\u001B[0;34m(arr, obj, values, axis)\u001B[0m\n\u001B[1;32m   5349\u001B[0m new[\u001B[38;5;28mtuple\u001B[39m(slobj)] \u001B[38;5;241m=\u001B[39m arr[\u001B[38;5;28mtuple\u001B[39m(slobj)]\n\u001B[1;32m   5350\u001B[0m slobj[axis] \u001B[38;5;241m=\u001B[39m \u001B[38;5;28mslice\u001B[39m(index, index\u001B[38;5;241m+\u001B[39mnumnew)\n\u001B[0;32m-> 5351\u001B[0m \u001B[43mnew\u001B[49m\u001B[43m[\u001B[49m\u001B[38;5;28;43mtuple\u001B[39;49m\u001B[43m(\u001B[49m\u001B[43mslobj\u001B[49m\u001B[43m)\u001B[49m\u001B[43m]\u001B[49m \u001B[38;5;241m=\u001B[39m values\n\u001B[1;32m   5352\u001B[0m slobj[axis] \u001B[38;5;241m=\u001B[39m \u001B[38;5;28mslice\u001B[39m(index\u001B[38;5;241m+\u001B[39mnumnew, \u001B[38;5;28;01mNone\u001B[39;00m)\n\u001B[1;32m   5353\u001B[0m slobj2 \u001B[38;5;241m=\u001B[39m [\u001B[38;5;28mslice\u001B[39m(\u001B[38;5;28;01mNone\u001B[39;00m)] \u001B[38;5;241m*\u001B[39m ndim\n",
      "\u001B[0;31mValueError\u001B[0m: could not broadcast input array from shape (1,1,6) into shape (13,1,12)"
     ]
    }
   ],
   "execution_count": 22
  },
  {
   "metadata": {
    "ExecuteTime": {
     "end_time": "2025-04-02T06:59:06.483069Z",
     "start_time": "2025-04-02T06:59:06.475661Z"
    }
   },
   "cell_type": "code",
   "source": "combined_numpy.shape",
   "id": "ba2f705485899060",
   "outputs": [
    {
     "data": {
      "text/plain": [
       "(59, 301, 6)"
      ]
     },
     "execution_count": 85,
     "metadata": {},
     "output_type": "execute_result"
    }
   ],
   "execution_count": 85
  },
  {
   "metadata": {
    "ExecuteTime": {
     "end_time": "2025-04-09T07:39:46.081920Z",
     "start_time": "2025-04-09T07:39:46.042627Z"
    }
   },
   "cell_type": "code",
   "source": [
    "correct_touch_numpy :np.array = np.array(correct_touch_dataframes)\n",
    "correct_touch_numpy = np.insert(correct_touch_numpy, 0, np.array([0, 1, 0, 0, 0, 0, 0, 0, 0, 0, 0, 0]), axis=1)\n",
    "wrong_inward_numpy :np.array = np.array(wrong_inward_dataframes)\n",
    "wrong_inward_numpy = np.insert(wrong_inward_numpy, 0, np.array([1, 2, 0, 0, 0, 0, 0, 0, 0, 0, 0, 0]), axis=1)\n",
    "wrong_outward_numpy :np.array = np.array(wrong_outward_dataframes)\n",
    "wrong_outward_numpy = np.insert(wrong_outward_numpy, 0, np.array([2, 3, 0, 0, 0, 0, 0, 0, 0, 0, 0, 0]), axis=1)\n",
    "combined_numpy = np.concatenate((correct_touch_numpy, wrong_inward_numpy, wrong_outward_numpy))"
   ],
   "id": "c74035e809312d6f",
   "outputs": [],
   "execution_count": 19
  },
  {
   "metadata": {
    "ExecuteTime": {
     "end_time": "2025-04-09T07:39:57.723620Z",
     "start_time": "2025-04-09T07:39:57.715739Z"
    }
   },
   "cell_type": "code",
   "source": "combined_numpy.shape",
   "id": "30866f66d9e63ebc",
   "outputs": [
    {
     "data": {
      "text/plain": [
       "(31, 301, 12)"
      ]
     },
     "execution_count": 20,
     "metadata": {},
     "output_type": "execute_result"
    }
   ],
   "execution_count": 20
  },
  {
   "metadata": {
    "ExecuteTime": {
     "end_time": "2025-04-02T06:59:38.957274Z",
     "start_time": "2025-04-02T06:59:38.946382Z"
    }
   },
   "cell_type": "code",
   "source": [
    "# save the combined_numpy_final as a .pkl file using pickle\n",
    "import pickle\n",
    "import os\n",
    "dir = '../classification_forward/data'\n",
    "# make sure the directory exists\n",
    "if not os.path.exists(dir):\n",
    "    os.makedirs(dir)\n",
    "path = os.path.join(dir, 'combined_numpy_2.pkl')\n",
    "\n",
    "with open(path, 'wb') as f:\n",
    "    pickle.dump(combined_numpy, f)"
   ],
   "id": "abf5c1b3e7939810",
   "outputs": [],
   "execution_count": 87
  },
  {
   "metadata": {
    "ExecuteTime": {
     "end_time": "2025-04-09T07:42:25.269100Z",
     "start_time": "2025-04-09T07:42:25.255578Z"
    }
   },
   "cell_type": "code",
   "source": [
    "# save the combined_numpy_final as a .pkl file using pickle\n",
    "import pickle\n",
    "import os\n",
    "dir = '../classification_forward/data'\n",
    "# make sure the directory exists\n",
    "if not os.path.exists(dir):\n",
    "    os.makedirs(dir)\n",
    "path = os.path.join(dir, merge_name)\n",
    "\n",
    "with open(path, 'wb') as f:\n",
    "    pickle.dump(combined_numpy, f)"
   ],
   "id": "dd2437229403b5a3",
   "outputs": [],
   "execution_count": 22
  },
  {
   "metadata": {},
   "cell_type": "code",
   "outputs": [],
   "execution_count": null,
   "source": "",
   "id": "435adc71b804fe06"
  }
 ],
 "metadata": {
  "kernelspec": {
   "display_name": "Python 3",
   "language": "python",
   "name": "python3"
  },
  "language_info": {
   "codemirror_mode": {
    "name": "ipython",
    "version": 2
   },
   "file_extension": ".py",
   "mimetype": "text/x-python",
   "name": "python",
   "nbconvert_exporter": "python",
   "pygments_lexer": "ipython2",
   "version": "2.7.6"
  }
 },
 "nbformat": 4,
 "nbformat_minor": 5
}
