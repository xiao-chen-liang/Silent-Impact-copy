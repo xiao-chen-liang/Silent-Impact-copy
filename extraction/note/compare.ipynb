{
 "cells": [
  {
   "cell_type": "code",
   "id": "initial_id",
   "metadata": {
    "collapsed": true,
    "ExecuteTime": {
     "end_time": "2025-03-25T08:42:22.979217Z",
     "start_time": "2025-03-25T08:42:22.556602Z"
    }
   },
   "source": [
    "# load a .pkl file\n",
    "import pandas as pd\n",
    "slow = pd.read_pickle(\"../2025-03-24_10-29-43_slow.pkl\")"
   ],
   "outputs": [],
   "execution_count": 2
  },
  {
   "metadata": {
    "ExecuteTime": {
     "end_time": "2025-03-25T08:42:26.812415Z",
     "start_time": "2025-03-25T08:42:26.782891Z"
    }
   },
   "cell_type": "code",
   "source": "right = pd.read_pickle(\"../pd/2025-03-24_10-29-43_right.pkl\")",
   "id": "3fc011e55820cf35",
   "outputs": [],
   "execution_count": 3
  },
  {
   "metadata": {
    "ExecuteTime": {
     "end_time": "2025-03-25T08:42:27.914516Z",
     "start_time": "2025-03-25T08:42:27.899169Z"
    }
   },
   "cell_type": "code",
   "source": [
    "# print the datatype of columns of slow\n",
    "slow.dtypes"
   ],
   "id": "d3a00461e08b75ba",
   "outputs": [
    {
     "data": {
      "text/plain": [
       "AccX                float64\n",
       "AccY                float64\n",
       "AccZ                float64\n",
       "AsX                 float64\n",
       "AsY                 float64\n",
       "AsZ                 float64\n",
       "AngX                float64\n",
       "AngY                float64\n",
       "AngZ                float64\n",
       "timestamp    datetime64[ns]\n",
       "dtype: object"
      ]
     },
     "execution_count": 4,
     "metadata": {},
     "output_type": "execute_result"
    }
   ],
   "execution_count": 4
  },
  {
   "metadata": {
    "ExecuteTime": {
     "end_time": "2025-03-25T08:42:29.610525Z",
     "start_time": "2025-03-25T08:42:29.599952Z"
    }
   },
   "cell_type": "code",
   "source": "right.dtypes",
   "id": "5dc6f1347a285185",
   "outputs": [
    {
     "data": {
      "text/plain": [
       "AccX                float64\n",
       "AccY                float64\n",
       "AccZ                float64\n",
       "AsX                 float64\n",
       "AsY                 float64\n",
       "AsZ                 float64\n",
       "AngX                float64\n",
       "AngY                float64\n",
       "AngZ                float64\n",
       "timestamp    datetime64[ns]\n",
       "dtype: object"
      ]
     },
     "execution_count": 5,
     "metadata": {},
     "output_type": "execute_result"
    }
   ],
   "execution_count": 5
  },
  {
   "metadata": {
    "ExecuteTime": {
     "end_time": "2025-03-25T08:03:27.703570Z",
     "start_time": "2025-03-25T08:03:27.673860Z"
    }
   },
   "cell_type": "code",
   "source": [
    "# convert the dtype of slow to float32 except for timestamp\n",
    "slow = slow.astype({col: 'float32' for col in slow.columns if col != 'timestamp'})"
   ],
   "id": "b1514d04e86e7644",
   "outputs": [],
   "execution_count": 11
  },
  {
   "metadata": {
    "ExecuteTime": {
     "end_time": "2025-03-25T08:03:37.210967Z",
     "start_time": "2025-03-25T08:03:37.200267Z"
    }
   },
   "cell_type": "code",
   "source": "slow.dtypes",
   "id": "da009bd53151a8d1",
   "outputs": [
    {
     "data": {
      "text/plain": [
       "AccX                float32\n",
       "AccY                float32\n",
       "AccZ                float32\n",
       "AsX                 float32\n",
       "AsY                 float32\n",
       "AsZ                 float32\n",
       "AngX                float32\n",
       "AngY                float32\n",
       "AngZ                float32\n",
       "timestamp    datetime64[ns]\n",
       "dtype: object"
      ]
     },
     "execution_count": 12,
     "metadata": {},
     "output_type": "execute_result"
    }
   ],
   "execution_count": 12
  },
  {
   "metadata": {
    "ExecuteTime": {
     "end_time": "2025-03-25T08:05:53.143631Z",
     "start_time": "2025-03-25T08:05:53.137706Z"
    }
   },
   "cell_type": "code",
   "source": [
    "# compare the value of slow of and right to see if they are the same\n",
    "type(slow)"
   ],
   "id": "7b168ec58a3e6373",
   "outputs": [
    {
     "data": {
      "text/plain": [
       "pandas.core.frame.DataFrame"
      ]
     },
     "execution_count": 14,
     "metadata": {},
     "output_type": "execute_result"
    }
   ],
   "execution_count": 14
  },
  {
   "metadata": {
    "ExecuteTime": {
     "end_time": "2025-03-25T08:42:39.822228Z",
     "start_time": "2025-03-25T08:42:39.799879Z"
    }
   },
   "cell_type": "code",
   "source": "slow.equals(right)",
   "id": "3c29c8376dead53c",
   "outputs": [
    {
     "data": {
      "text/plain": [
       "True"
      ]
     },
     "execution_count": 6,
     "metadata": {},
     "output_type": "execute_result"
    }
   ],
   "execution_count": 6
  },
  {
   "metadata": {},
   "cell_type": "code",
   "outputs": [],
   "execution_count": null,
   "source": "",
   "id": "d2b78f08442913a"
  }
 ],
 "metadata": {
  "kernelspec": {
   "display_name": "Python 3",
   "language": "python",
   "name": "python3"
  },
  "language_info": {
   "codemirror_mode": {
    "name": "ipython",
    "version": 2
   },
   "file_extension": ".py",
   "mimetype": "text/x-python",
   "name": "python",
   "nbconvert_exporter": "python",
   "pygments_lexer": "ipython2",
   "version": "2.7.6"
  }
 },
 "nbformat": 4,
 "nbformat_minor": 5
}
