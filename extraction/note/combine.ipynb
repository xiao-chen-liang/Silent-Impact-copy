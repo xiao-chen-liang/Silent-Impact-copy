{
 "cells": [
  {
   "metadata": {
    "ExecuteTime": {
     "end_time": "2025-04-13T14:17:41.526208Z",
     "start_time": "2025-04-13T14:17:41.520472Z"
    }
   },
   "cell_type": "code",
   "source": [
    "import numpy as np\n",
    "\n",
    "file_list = ['combined_numpy_1.pkl', 'combined_numpy_2.pkl', 'combined_numpy_3.pkl', 'combined_numpy_4.pkl', 'combined_numpy_5.pkl']\n",
    "final_name = 'combined_numpy_1_2_3_4_5.pkl'\n",
    "dir = '../classification_forward/data'\n",
    "file_path_list = []"
   ],
   "id": "5cbd588125d44c44",
   "outputs": [],
   "execution_count": 44
  },
  {
   "metadata": {
    "ExecuteTime": {
     "end_time": "2025-04-13T14:17:41.538168Z",
     "start_time": "2025-04-13T14:17:41.532744Z"
    }
   },
   "cell_type": "code",
   "source": [
    "import os\n",
    "for file in file_list:\n",
    "    file_path = os.path.join(dir, file)\n",
    "    file_path_list.append(file_path)\n",
    "\n",
    "final_path = os.path.join(dir, final_name)"
   ],
   "id": "cdd10a8404e0e23d",
   "outputs": [],
   "execution_count": 45
  },
  {
   "metadata": {
    "ExecuteTime": {
     "end_time": "2025-04-13T14:17:42.493298Z",
     "start_time": "2025-04-13T14:17:41.587805Z"
    }
   },
   "cell_type": "code",
   "source": [
    "# open the files and load the numpy arrays using pickle\n",
    "# combine all the numpy arrays into one\n",
    "import pickle\n",
    "numpy_list = []\n",
    "for file_path in file_path_list:\n",
    "    with open(file_path, 'rb') as f:\n",
    "        numpy_array = pickle.load(f)\n",
    "        print(numpy_array.shape)\n",
    "        numpy_list.append(numpy_array)\n",
    "\n",
    "numpy_final = np.concatenate(numpy_list, axis=0)\n",
    "\n",
    "with open(final_path, 'wb') as f:\n",
    "    pickle.dump(numpy_final, f)"
   ],
   "id": "8af83e72ebc517d5",
   "outputs": [
    {
     "name": "stdout",
     "output_type": "stream",
     "text": [
      "(2511, 301, 6)\n",
      "(4779, 301, 6)\n",
      "(3240, 301, 6)\n",
      "(3078, 301, 6)\n",
      "(3159, 301, 6)\n"
     ]
    }
   ],
   "execution_count": 46
  },
  {
   "metadata": {
    "ExecuteTime": {
     "end_time": "2025-04-13T14:13:28.445814Z",
     "start_time": "2025-04-13T14:13:28.439332Z"
    }
   },
   "cell_type": "code",
   "source": "numpy_final.shape",
   "id": "94786e203be90eac",
   "outputs": [
    {
     "data": {
      "text/plain": [
       "(16767, 301, 6)"
      ]
     },
     "execution_count": 43,
     "metadata": {},
     "output_type": "execute_result"
    }
   ],
   "execution_count": 43
  },
  {
   "metadata": {
    "ExecuteTime": {
     "end_time": "2025-04-13T14:18:16.341213Z",
     "start_time": "2025-04-13T14:18:16.332640Z"
    }
   },
   "cell_type": "code",
   "source": "numpy_final[:, 0, :]",
   "id": "727e0626de666f39",
   "outputs": [
    {
     "data": {
      "text/plain": [
       "array([[ 0.,  1.,  0.,  0.,  0.,  0.],\n",
       "       [ 0.,  1.,  0.,  0.,  0.,  0.],\n",
       "       [ 0.,  1.,  0.,  0.,  0.,  0.],\n",
       "       ...,\n",
       "       [ 3., 20.,  0.,  0.,  0.,  0.],\n",
       "       [ 3., 20.,  0.,  0.,  0.,  0.],\n",
       "       [ 3., 20.,  0.,  0.,  0.,  0.]])"
      ]
     },
     "execution_count": 48,
     "metadata": {},
     "output_type": "execute_result"
    }
   ],
   "execution_count": 48
  },
  {
   "metadata": {
    "ExecuteTime": {
     "end_time": "2025-04-13T14:23:34.816612Z",
     "start_time": "2025-04-13T14:23:34.810282Z"
    }
   },
   "cell_type": "code",
   "source": [
    "# print number of different value numpy_final[:, 0, :]\n",
    "print(numpy_final.shape)\n",
    "print(numpy_final.dtype)\n"
   ],
   "id": "885f9689eef784a1",
   "outputs": [
    {
     "name": "stdout",
     "output_type": "stream",
     "text": [
      "(16767, 301, 6)\n",
      "float64\n"
     ]
    }
   ],
   "execution_count": 52
  },
  {
   "metadata": {
    "ExecuteTime": {
     "end_time": "2025-04-13T14:24:28.869626Z",
     "start_time": "2025-04-13T14:24:28.856721Z"
    }
   },
   "cell_type": "code",
   "source": [
    "unique_values = np.unique(numpy_final[:, 0, :])\n",
    "print(\"Number of unique values in numpy_final[:, 0, :]:\", len(unique_values))"
   ],
   "id": "5bd0c06428bc15b",
   "outputs": [
    {
     "name": "stdout",
     "output_type": "stream",
     "text": [
      "Number of unique values in numpy_final[:, 0, :]: 21\n"
     ]
    }
   ],
   "execution_count": 53
  },
  {
   "metadata": {
    "ExecuteTime": {
     "end_time": "2025-04-13T14:28:02.552740Z",
     "start_time": "2025-04-13T14:28:02.500490Z"
    }
   },
   "cell_type": "code",
   "source": [
    "import numpy as np\n",
    "\n",
    "# Get the 2D array of shape (16767, 6)\n",
    "slice_array = numpy_final[:, 0, :]\n",
    "\n",
    "# Convert rows to a hashable format using `view`\n",
    "row_view = slice_array.view([('', slice_array.dtype)] * slice_array.shape[1])\n",
    "unique_rows, counts = np.unique(row_view, return_counts=True)\n",
    "\n",
    "# Convert back to regular 2D array for printing\n",
    "unique_rows = unique_rows.view(slice_array.dtype).reshape(-1, slice_array.shape[1])\n",
    "\n",
    "# Print unique 1D arrays and their counts\n",
    "for row, count in zip(unique_rows, counts):\n",
    "    print(f\"Value: {row}, Count: {count / 81}\")\n"
   ],
   "id": "46e249d56f0639f4",
   "outputs": [
    {
     "name": "stdout",
     "output_type": "stream",
     "text": [
      "Value: [0. 1. 0. 0. 0. 0.], Count: 11.0\n",
      "Value: [0. 5. 0. 0. 0. 0.], Count: 13.0\n",
      "Value: [0. 9. 0. 0. 0. 0.], Count: 10.0\n",
      "Value: [ 0. 13.  0.  0.  0.  0.], Count: 10.0\n",
      "Value: [ 0. 17.  0.  0.  0.  0.], Count: 9.0\n",
      "Value: [1. 2. 0. 0. 0. 0.], Count: 10.0\n",
      "Value: [1. 6. 0. 0. 0. 0.], Count: 10.0\n",
      "Value: [ 1. 10.  0.  0.  0.  0.], Count: 10.0\n",
      "Value: [ 1. 14.  0.  0.  0.  0.], Count: 10.0\n",
      "Value: [ 1. 18.  0.  0.  0.  0.], Count: 10.0\n",
      "Value: [2. 3. 0. 0. 0. 0.], Count: 10.0\n",
      "Value: [2. 7. 0. 0. 0. 0.], Count: 14.0\n",
      "Value: [ 2. 11.  0.  0.  0.  0.], Count: 10.0\n",
      "Value: [ 2. 15.  0.  0.  0.  0.], Count: 8.0\n",
      "Value: [ 2. 19.  0.  0.  0.  0.], Count: 10.0\n",
      "Value: [3. 4. 0. 0. 0. 0.], Count: 11.0\n",
      "Value: [3. 8. 0. 0. 0. 0.], Count: 11.0\n",
      "Value: [ 3. 12.  0.  0.  0.  0.], Count: 10.0\n",
      "Value: [ 3. 16.  0.  0.  0.  0.], Count: 10.0\n",
      "Value: [ 3. 20.  0.  0.  0.  0.], Count: 10.0\n"
     ]
    }
   ],
   "execution_count": 58
  },
  {
   "metadata": {},
   "cell_type": "code",
   "outputs": [],
   "execution_count": null,
   "source": "",
   "id": "611da9ff89510c08"
  }
 ],
 "metadata": {
  "kernelspec": {
   "display_name": "Python 3",
   "language": "python",
   "name": "python3"
  },
  "language_info": {
   "codemirror_mode": {
    "name": "ipython",
    "version": 2
   },
   "file_extension": ".py",
   "mimetype": "text/x-python",
   "name": "python",
   "nbconvert_exporter": "python",
   "pygments_lexer": "ipython2",
   "version": "2.7.6"
  }
 },
 "nbformat": 4,
 "nbformat_minor": 5
}
