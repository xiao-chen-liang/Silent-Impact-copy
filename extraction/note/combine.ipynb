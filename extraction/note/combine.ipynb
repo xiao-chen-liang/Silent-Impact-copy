{
 "cells": [
  {
   "metadata": {
    "ExecuteTime": {
     "end_time": "2025-04-09T07:51:47.160173Z",
     "start_time": "2025-04-09T07:51:47.144871Z"
    }
   },
   "cell_type": "code",
   "source": [
    "file_1 = '../classification_forward/data/combined_numpy_1_merge.pkl'\n",
    "file_2 = '../classification_forward/data/combined_numpy_2_merge.pkl'\n",
    "file_1_2 = 'combined_numpy_1_2_merge.pkl'"
   ],
   "id": "55fdcd25b7ac0a46",
   "outputs": [],
   "execution_count": 1
  },
  {
   "metadata": {
    "collapsed": true,
    "ExecuteTime": {
     "end_time": "2025-04-09T07:51:48.665592Z",
     "start_time": "2025-04-09T07:51:48.481581Z"
    }
   },
   "cell_type": "code",
   "source": [
    "import pickle\n",
    "\n",
    "with open(file_1, 'rb') as file:\n",
    "    combined_numpy_1 = pickle.load(file)"
   ],
   "id": "initial_id",
   "outputs": [],
   "execution_count": 2
  },
  {
   "metadata": {
    "ExecuteTime": {
     "end_time": "2025-04-09T07:51:49.328081Z",
     "start_time": "2025-04-09T07:51:49.317988Z"
    }
   },
   "cell_type": "code",
   "source": [
    "with open(file_2, 'rb') as file:\n",
    "    combined_numpy_2 = pickle.load(file)"
   ],
   "id": "ec9c57458c08d77",
   "outputs": [],
   "execution_count": 3
  },
  {
   "metadata": {
    "ExecuteTime": {
     "end_time": "2025-04-09T07:51:50.150158Z",
     "start_time": "2025-04-09T07:51:50.139214Z"
    }
   },
   "cell_type": "code",
   "source": [
    "import numpy as np\n",
    "\n",
    "combined_numpy_1_2 = np.concatenate((combined_numpy_1, combined_numpy_2))"
   ],
   "id": "c0ec82e6a9942ca9",
   "outputs": [],
   "execution_count": 4
  },
  {
   "metadata": {
    "ExecuteTime": {
     "end_time": "2025-04-09T07:51:50.930555Z",
     "start_time": "2025-04-09T07:51:50.914371Z"
    }
   },
   "cell_type": "code",
   "source": [
    "# save the combined_numpy_final as a .pkl file using pickle\n",
    "import os\n",
    "\n",
    "dir = '../classification_forward/data'\n",
    "# make sure the directory exists\n",
    "if not os.path.exists(dir):\n",
    "    os.makedirs(dir)\n",
    "\n",
    "path = os.path.join(dir, file_1_2)\n",
    "\n",
    "with open(path, 'wb') as f:\n",
    "    pickle.dump(combined_numpy_1_2, f)"
   ],
   "id": "550e698c12b20aca",
   "outputs": [],
   "execution_count": 5
  },
  {
   "metadata": {
    "ExecuteTime": {
     "end_time": "2025-04-09T07:55:48.366045Z",
     "start_time": "2025-04-09T07:55:48.349289Z"
    }
   },
   "cell_type": "code",
   "source": "combined_numpy_1_2.shape",
   "id": "94786e203be90eac",
   "outputs": [
    {
     "data": {
      "text/plain": [
       "(90, 301, 12)"
      ]
     },
     "execution_count": 6,
     "metadata": {},
     "output_type": "execute_result"
    }
   ],
   "execution_count": 6
  },
  {
   "metadata": {},
   "cell_type": "code",
   "outputs": [],
   "execution_count": null,
   "source": "",
   "id": "727e0626de666f39"
  }
 ],
 "metadata": {
  "kernelspec": {
   "display_name": "Python 3",
   "language": "python",
   "name": "python3"
  },
  "language_info": {
   "codemirror_mode": {
    "name": "ipython",
    "version": 2
   },
   "file_extension": ".py",
   "mimetype": "text/x-python",
   "name": "python",
   "nbconvert_exporter": "python",
   "pygments_lexer": "ipython2",
   "version": "2.7.6"
  }
 },
 "nbformat": 4,
 "nbformat_minor": 5
}
