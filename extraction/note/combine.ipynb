{
 "cells": [
  {
   "cell_type": "code",
   "id": "initial_id",
   "metadata": {
    "collapsed": true,
    "ExecuteTime": {
     "end_time": "2025-04-02T07:07:05.399538Z",
     "start_time": "2025-04-02T07:07:05.393419Z"
    }
   },
   "source": [
    "import pickle\n",
    "\n",
    "with open('../classification_forward/data/combined_numpy_1.pkl', 'rb') as file:\n",
    "    combined_numpy_1 = pickle.load(file)"
   ],
   "outputs": [],
   "execution_count": 3
  },
  {
   "metadata": {
    "ExecuteTime": {
     "end_time": "2025-04-02T07:07:22.252204Z",
     "start_time": "2025-04-02T07:07:22.246855Z"
    }
   },
   "cell_type": "code",
   "source": [
    "with open('../classification_forward/data/combined_numpy_2.pkl', 'rb') as file:\n",
    "    combined_numpy_2 = pickle.load(file)"
   ],
   "id": "ec9c57458c08d77",
   "outputs": [],
   "execution_count": 5
  },
  {
   "metadata": {
    "ExecuteTime": {
     "end_time": "2025-04-02T07:07:45.159370Z",
     "start_time": "2025-04-02T07:07:45.154232Z"
    }
   },
   "cell_type": "code",
   "source": [
    "import numpy as np\n",
    "\n",
    "combined_numpy_1_2 = np.concatenate((combined_numpy_1, combined_numpy_2))"
   ],
   "id": "c0ec82e6a9942ca9",
   "outputs": [],
   "execution_count": 7
  },
  {
   "metadata": {
    "ExecuteTime": {
     "end_time": "2025-04-02T07:09:11.867650Z",
     "start_time": "2025-04-02T07:09:11.854807Z"
    }
   },
   "cell_type": "code",
   "source": [
    "# save the combined_numpy_final as a .pkl file using pickle\n",
    "import os\n",
    "\n",
    "dir = '../classification_forward/data'\n",
    "# make sure the directory exists\n",
    "if not os.path.exists(dir):\n",
    "    os.makedirs(dir)\n",
    "\n",
    "path = os.path.join(dir, 'combined_numpy_1_2.pkl')\n",
    "\n",
    "with open(path, 'wb') as f:\n",
    "    pickle.dump(combined_numpy_1_2, f)"
   ],
   "id": "550e698c12b20aca",
   "outputs": [],
   "execution_count": 9
  },
  {
   "metadata": {},
   "cell_type": "code",
   "outputs": [],
   "execution_count": null,
   "source": "",
   "id": "94786e203be90eac"
  }
 ],
 "metadata": {
  "kernelspec": {
   "display_name": "Python 3",
   "language": "python",
   "name": "python3"
  },
  "language_info": {
   "codemirror_mode": {
    "name": "ipython",
    "version": 2
   },
   "file_extension": ".py",
   "mimetype": "text/x-python",
   "name": "python",
   "nbconvert_exporter": "python",
   "pygments_lexer": "ipython2",
   "version": "2.7.6"
  }
 },
 "nbformat": 4,
 "nbformat_minor": 5
}
