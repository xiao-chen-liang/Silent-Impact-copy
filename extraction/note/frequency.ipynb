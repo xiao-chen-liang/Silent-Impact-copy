{
 "cells": [
  {
   "metadata": {
    "ExecuteTime": {
     "end_time": "2025-04-02T02:49:14.881796Z",
     "start_time": "2025-04-02T02:49:14.875771Z"
    }
   },
   "cell_type": "code",
   "source": "duration :int  = 1.5",
   "id": "6b2855a78575ead7",
   "outputs": [],
   "execution_count": 1
  },
  {
   "metadata": {
    "collapsed": true,
    "ExecuteTime": {
     "end_time": "2025-04-02T02:49:14.903055Z",
     "start_time": "2025-04-02T02:49:14.898426Z"
    }
   },
   "cell_type": "code",
   "source": "import pandas as pd",
   "id": "initial_id",
   "outputs": [],
   "execution_count": 2
  },
  {
   "metadata": {
    "ExecuteTime": {
     "end_time": "2025-04-02T02:49:15.382425Z",
     "start_time": "2025-04-02T02:49:15.340493Z"
    }
   },
   "cell_type": "code",
   "source": [
    "# import a pickle file\n",
    "pd_pickle = pd.read_pickle(\"../pd/2025-03-26_15-13-39_left.pkl\")"
   ],
   "id": "95f6a0e05af5f83a",
   "outputs": [],
   "execution_count": 3
  },
  {
   "metadata": {
    "ExecuteTime": {
     "end_time": "2025-04-02T02:49:15.455045Z",
     "start_time": "2025-04-02T02:49:15.423037Z"
    }
   },
   "cell_type": "code",
   "source": [
    "# add a new column named acc_sum_squared with the sum of the squared values of AccX, AccY, and AccZ\n",
    "pd_pickle['acc_sum_squared'] = pd_pickle['AccX'] ** 2 + pd_pickle['AccY'] ** 2 + pd_pickle['AccZ'] ** 2"
   ],
   "id": "f84f6966d7157759",
   "outputs": [],
   "execution_count": 4
  },
  {
   "metadata": {
    "ExecuteTime": {
     "end_time": "2025-04-02T02:49:15.530258Z",
     "start_time": "2025-04-02T02:49:15.511311Z"
    }
   },
   "cell_type": "code",
   "source": [
    "# add 1.5 second to every timestamp in the data\n",
    "pd_pickle['timestamp'] = pd_pickle['timestamp'] + pd.Timedelta(seconds=1.5)"
   ],
   "id": "53564357a5b04eac",
   "outputs": [],
   "execution_count": 5
  },
  {
   "metadata": {
    "ExecuteTime": {
     "end_time": "2025-04-02T02:49:15.576455Z",
     "start_time": "2025-04-02T02:49:15.564916Z"
    }
   },
   "cell_type": "code",
   "source": [
    "# delete the rows with timestamp before '2025-03-26 15:05:25.000'\n",
    "pd_pickle = pd_pickle.iloc[pd_pickle[pd_pickle['timestamp'] == '2025-03-26 15:05:25.000'].index[0]:]"
   ],
   "id": "5ae012b45b017f29",
   "outputs": [],
   "execution_count": 6
  },
  {
   "metadata": {
    "ExecuteTime": {
     "end_time": "2025-04-02T02:49:15.710218Z",
     "start_time": "2025-04-02T02:49:15.704396Z"
    }
   },
   "cell_type": "code",
   "source": [
    "def cut(data, start, end):\n",
    "    return data[(data['timestamp'] >= start) & (data['timestamp'] <= end)]"
   ],
   "id": "a554e9b63b3bba84",
   "outputs": [],
   "execution_count": 7
  },
  {
   "metadata": {
    "ExecuteTime": {
     "end_time": "2025-04-02T02:49:15.723389Z",
     "start_time": "2025-04-02T02:49:15.718967Z"
    }
   },
   "cell_type": "code",
   "source": [
    "# # delete all row after this row with timestamp\n",
    "# pd_pickle = pd_pickle.iloc[:pd_pickle[pd_pickle['timestamp'] == ''].index[0]]\n",
    "# # delete all row before this row with timestamp\n",
    "# pd_pickle = pd_pickle.iloc[pd_pickle[pd_pickle['timestamp'] == ''].index[0]:]"
   ],
   "id": "9745c367275c53a8",
   "outputs": [],
   "execution_count": 8
  },
  {
   "metadata": {
    "ExecuteTime": {
     "end_time": "2025-04-02T02:49:15.785803Z",
     "start_time": "2025-04-02T02:49:15.772231Z"
    }
   },
   "cell_type": "code",
   "source": [
    "def sure_frequency(data: pd.DataFrame):\n",
    "    i = 0\n",
    "    # create an empty list\n",
    "    frequencies = []\n",
    "    while True:\n",
    "        # Calculate the time span in seconds\n",
    "        time_span = (data['timestamp'].iloc[-(1 + i * 200)] - data['timestamp'].iloc[-(201 + i * 200)]).total_seconds()\n",
    "\n",
    "        # get the number of records\n",
    "        number_of_records = 200\n",
    "\n",
    "        # Calculate the frequency\n",
    "        frequency = number_of_records / time_span\n",
    "\n",
    "        # print time span and frequency\n",
    "        print(f\"Time Span: {time_span} seconds\")\n",
    "        print(f\"Frequency: {frequency} Hz\")\n",
    "        frequencies.append(frequency)\n",
    "        i += 1\n",
    "        if 201 + i * 200 >= len(data):\n",
    "            break\n",
    "    # list all different value and corresponding number in frequencies\n",
    "    from collections import Counter\n",
    "    print(Counter(frequencies))"
   ],
   "id": "269957d753627baf",
   "outputs": [],
   "execution_count": 9
  },
  {
   "metadata": {
    "ExecuteTime": {
     "end_time": "2025-04-02T02:49:27.045658Z",
     "start_time": "2025-04-02T02:49:15.838990Z"
    }
   },
   "cell_type": "code",
   "source": [
    "print(pd_pickle.shape)\n",
    "print(pd_pickle.dtypes)\n",
    "print(pd_pickle.describe())\n",
    "print(pd_pickle.info)\n",
    "print(pd_pickle.head())"
   ],
   "id": "c1f2dfa83ca9d482",
   "outputs": [
    {
     "name": "stdout",
     "output_type": "stream",
     "text": [
      "(99241, 11)\n",
      "AccX                      float64\n",
      "AccY                      float64\n",
      "AccZ                      float64\n",
      "AsX                       float64\n",
      "AsY                       float64\n",
      "AsZ                       float64\n",
      "AngX                      float64\n",
      "AngY                      float64\n",
      "AngZ                      float64\n",
      "timestamp          datetime64[ns]\n",
      "acc_sum_squared           float64\n",
      "dtype: object\n",
      "               AccX          AccY          AccZ           AsX           AsY  \\\n",
      "count  99241.000000  99241.000000  99241.000000  99241.000000  99241.000000   \n",
      "mean      -0.022900     -0.013821      0.784907      1.939548      1.648633   \n",
      "min      -15.946777    -15.000977     -9.305176   -327.026367   -496.520996   \n",
      "25%       -0.089355      0.001465      0.755371      0.427246     -1.037598   \n",
      "50%        0.005859      0.008301      0.803711      1.892090      0.732422   \n",
      "75%        0.047852      0.026855      0.844238      3.967285      2.380371   \n",
      "max       15.038574      2.434082      7.501953    212.341309    427.612305   \n",
      "std        0.455010      0.355941      0.222319     28.516691     34.772652   \n",
      "\n",
      "                AsZ          AngX          AngY          AngZ  \\\n",
      "count  99241.000000  99241.000000  99241.000000  99241.000000   \n",
      "mean       1.314015      2.425003      4.591130     48.904472   \n",
      "min     -474.731445    -81.353760    -79.870605    -53.003540   \n",
      "25%       -0.793457      0.433960     -3.312378     45.104370   \n",
      "50%        1.281738      2.708130      0.785522     49.471436   \n",
      "75%        2.807617      4.284668     12.156372     52.261963   \n",
      "max      283.752441     90.736084     89.247437    127.963257   \n",
      "std       54.096396      8.640265     14.981020     11.843635   \n",
      "\n",
      "                           timestamp  acc_sum_squared  \n",
      "count                          99241     99241.000000  \n",
      "mean   2025-03-26 15:09:33.100000256         0.999944  \n",
      "min              2025-03-26 15:05:25         0.003664  \n",
      "25%    2025-03-26 15:07:29.049999872         0.597490  \n",
      "50%       2025-03-26 15:09:33.100000         0.666408  \n",
      "75%    2025-03-26 15:11:37.150000128         0.726085  \n",
      "max       2025-03-26 15:13:41.200000       448.657204  \n",
      "std                              NaN         6.544277  \n",
      "<bound method DataFrame.info of             AccX      AccY      AccZ       AsX       AsY       AsZ      AngX  \\\n",
      "33346   0.100586  0.000000  0.791016  1.464844 -4.516602 -0.061035  2.735596   \n",
      "33347   0.100586  0.000000  0.791016  1.464844 -4.516602 -0.061035  2.735596   \n",
      "33348   0.094727  0.010742  0.838379  2.014160 -3.479004  1.953125  2.741089   \n",
      "33349   0.094727  0.010742  0.838379  2.014160 -3.479004  1.953125  2.741089   \n",
      "33350   0.094727  0.010742  0.838379  2.014160 -3.479004  1.953125  2.746582   \n",
      "...          ...       ...       ...       ...       ...       ...       ...   \n",
      "132582 -0.244629  0.062012  0.697754  2.380371  1.831055  1.586914  8.992310   \n",
      "132583 -0.244629  0.062012  0.697754  2.380371  1.831055  1.586914  8.997803   \n",
      "132584 -0.216797  0.059082  0.685059  1.831055  0.549316  0.854492  8.997803   \n",
      "132585 -0.216797  0.059082  0.685059  1.831055  0.549316  0.854492  8.997803   \n",
      "132586 -0.216797  0.059082  0.685059  1.831055  0.549316  0.854492  9.003296   \n",
      "\n",
      "             AngY       AngZ               timestamp  acc_sum_squared  \n",
      "33346    1.664429  43.066406 2025-03-26 15:05:25.000         0.635823  \n",
      "33347    1.620483  43.077393 2025-03-26 15:05:25.005         0.635823  \n",
      "33348    1.587524  43.093872 2025-03-26 15:05:25.010         0.711968  \n",
      "33349    1.549072  43.110352 2025-03-26 15:05:25.015         0.711968  \n",
      "33350    1.510620  43.126831 2025-03-26 15:05:25.020         0.711968  \n",
      "...           ...        ...                     ...              ...  \n",
      "132582  14.315186  39.666138 2025-03-26 15:13:41.180         0.550549  \n",
      "132583  14.331665  39.660645 2025-03-26 15:13:41.185         0.550549  \n",
      "132584  14.348145  39.649658 2025-03-26 15:13:41.190         0.519797  \n",
      "132585  14.359131  39.638672 2025-03-26 15:13:41.195         0.519797  \n",
      "132586  14.370117  39.627686 2025-03-26 15:13:41.200         0.519797  \n",
      "\n",
      "[99241 rows x 11 columns]>\n",
      "           AccX      AccY      AccZ       AsX       AsY       AsZ      AngX  \\\n",
      "33346  0.100586  0.000000  0.791016  1.464844 -4.516602 -0.061035  2.735596   \n",
      "33347  0.100586  0.000000  0.791016  1.464844 -4.516602 -0.061035  2.735596   \n",
      "33348  0.094727  0.010742  0.838379  2.014160 -3.479004  1.953125  2.741089   \n",
      "33349  0.094727  0.010742  0.838379  2.014160 -3.479004  1.953125  2.741089   \n",
      "33350  0.094727  0.010742  0.838379  2.014160 -3.479004  1.953125  2.746582   \n",
      "\n",
      "           AngY       AngZ               timestamp  acc_sum_squared  \n",
      "33346  1.664429  43.066406 2025-03-26 15:05:25.000         0.635823  \n",
      "33347  1.620483  43.077393 2025-03-26 15:05:25.005         0.635823  \n",
      "33348  1.587524  43.093872 2025-03-26 15:05:25.010         0.711968  \n",
      "33349  1.549072  43.110352 2025-03-26 15:05:25.015         0.711968  \n",
      "33350  1.510620  43.126831 2025-03-26 15:05:25.020         0.711968  \n"
     ]
    }
   ],
   "execution_count": 10
  },
  {
   "metadata": {
    "ExecuteTime": {
     "end_time": "2025-04-02T02:49:27.265450Z",
     "start_time": "2025-04-02T02:49:27.105061Z"
    }
   },
   "cell_type": "code",
   "source": [
    "pd_pickle['timestamp'].diff().describe()\n",
    "sure_frequency(pd_pickle)"
   ],
   "id": "78eefd8e7227c1de",
   "outputs": [
    {
     "name": "stdout",
     "output_type": "stream",
     "text": [
      "Time Span: 1.0 seconds\n",
      "Frequency: 200.0 Hz\n",
      "Time Span: 1.0 seconds\n",
      "Frequency: 200.0 Hz\n",
      "Time Span: 1.0 seconds\n",
      "Frequency: 200.0 Hz\n",
      "Time Span: 1.0 seconds\n",
      "Frequency: 200.0 Hz\n",
      "Time Span: 1.0 seconds\n",
      "Frequency: 200.0 Hz\n",
      "Time Span: 1.0 seconds\n",
      "Frequency: 200.0 Hz\n",
      "Time Span: 1.0 seconds\n",
      "Frequency: 200.0 Hz\n",
      "Time Span: 1.0 seconds\n",
      "Frequency: 200.0 Hz\n",
      "Time Span: 1.0 seconds\n",
      "Frequency: 200.0 Hz\n",
      "Time Span: 1.0 seconds\n",
      "Frequency: 200.0 Hz\n",
      "Time Span: 1.0 seconds\n",
      "Frequency: 200.0 Hz\n",
      "Time Span: 1.0 seconds\n",
      "Frequency: 200.0 Hz\n",
      "Time Span: 1.0 seconds\n",
      "Frequency: 200.0 Hz\n",
      "Time Span: 1.0 seconds\n",
      "Frequency: 200.0 Hz\n",
      "Time Span: 1.0 seconds\n",
      "Frequency: 200.0 Hz\n",
      "Time Span: 1.0 seconds\n",
      "Frequency: 200.0 Hz\n",
      "Time Span: 1.0 seconds\n",
      "Frequency: 200.0 Hz\n",
      "Time Span: 1.0 seconds\n",
      "Frequency: 200.0 Hz\n",
      "Time Span: 1.0 seconds\n",
      "Frequency: 200.0 Hz\n",
      "Time Span: 1.0 seconds\n",
      "Frequency: 200.0 Hz\n",
      "Time Span: 1.0 seconds\n",
      "Frequency: 200.0 Hz\n",
      "Time Span: 1.0 seconds\n",
      "Frequency: 200.0 Hz\n",
      "Time Span: 1.0 seconds\n",
      "Frequency: 200.0 Hz\n",
      "Time Span: 1.0 seconds\n",
      "Frequency: 200.0 Hz\n",
      "Time Span: 1.0 seconds\n",
      "Frequency: 200.0 Hz\n",
      "Time Span: 1.0 seconds\n",
      "Frequency: 200.0 Hz\n",
      "Time Span: 1.0 seconds\n",
      "Frequency: 200.0 Hz\n",
      "Time Span: 1.0 seconds\n",
      "Frequency: 200.0 Hz\n",
      "Time Span: 1.0 seconds\n",
      "Frequency: 200.0 Hz\n",
      "Time Span: 1.0 seconds\n",
      "Frequency: 200.0 Hz\n",
      "Time Span: 1.0 seconds\n",
      "Frequency: 200.0 Hz\n",
      "Time Span: 1.0 seconds\n",
      "Frequency: 200.0 Hz\n",
      "Time Span: 1.0 seconds\n",
      "Frequency: 200.0 Hz\n",
      "Time Span: 1.0 seconds\n",
      "Frequency: 200.0 Hz\n",
      "Time Span: 1.0 seconds\n",
      "Frequency: 200.0 Hz\n",
      "Time Span: 1.0 seconds\n",
      "Frequency: 200.0 Hz\n",
      "Time Span: 1.0 seconds\n",
      "Frequency: 200.0 Hz\n",
      "Time Span: 1.0 seconds\n",
      "Frequency: 200.0 Hz\n",
      "Time Span: 1.0 seconds\n",
      "Frequency: 200.0 Hz\n",
      "Time Span: 1.0 seconds\n",
      "Frequency: 200.0 Hz\n",
      "Time Span: 1.0 seconds\n",
      "Frequency: 200.0 Hz\n",
      "Time Span: 1.0 seconds\n",
      "Frequency: 200.0 Hz\n",
      "Time Span: 1.0 seconds\n",
      "Frequency: 200.0 Hz\n",
      "Time Span: 1.0 seconds\n",
      "Frequency: 200.0 Hz\n",
      "Time Span: 1.0 seconds\n",
      "Frequency: 200.0 Hz\n",
      "Time Span: 1.0 seconds\n",
      "Frequency: 200.0 Hz\n",
      "Time Span: 1.0 seconds\n",
      "Frequency: 200.0 Hz\n",
      "Time Span: 1.0 seconds\n",
      "Frequency: 200.0 Hz\n",
      "Time Span: 1.0 seconds\n",
      "Frequency: 200.0 Hz\n",
      "Time Span: 1.0 seconds\n",
      "Frequency: 200.0 Hz\n",
      "Time Span: 1.0 seconds\n",
      "Frequency: 200.0 Hz\n",
      "Time Span: 1.0 seconds\n",
      "Frequency: 200.0 Hz\n",
      "Time Span: 1.0 seconds\n",
      "Frequency: 200.0 Hz\n",
      "Time Span: 1.0 seconds\n",
      "Frequency: 200.0 Hz\n",
      "Time Span: 1.0 seconds\n",
      "Frequency: 200.0 Hz\n",
      "Time Span: 1.0 seconds\n",
      "Frequency: 200.0 Hz\n",
      "Time Span: 1.0 seconds\n",
      "Frequency: 200.0 Hz\n",
      "Time Span: 1.0 seconds\n",
      "Frequency: 200.0 Hz\n",
      "Time Span: 1.0 seconds\n",
      "Frequency: 200.0 Hz\n",
      "Time Span: 1.0 seconds\n",
      "Frequency: 200.0 Hz\n",
      "Time Span: 1.0 seconds\n",
      "Frequency: 200.0 Hz\n",
      "Time Span: 1.0 seconds\n",
      "Frequency: 200.0 Hz\n",
      "Time Span: 1.0 seconds\n",
      "Frequency: 200.0 Hz\n",
      "Time Span: 1.0 seconds\n",
      "Frequency: 200.0 Hz\n",
      "Time Span: 1.0 seconds\n",
      "Frequency: 200.0 Hz\n",
      "Time Span: 1.0 seconds\n",
      "Frequency: 200.0 Hz\n",
      "Time Span: 1.0 seconds\n",
      "Frequency: 200.0 Hz\n",
      "Time Span: 1.0 seconds\n",
      "Frequency: 200.0 Hz\n",
      "Time Span: 1.0 seconds\n",
      "Frequency: 200.0 Hz\n",
      "Time Span: 1.0 seconds\n",
      "Frequency: 200.0 Hz\n",
      "Time Span: 1.0 seconds\n",
      "Frequency: 200.0 Hz\n",
      "Time Span: 1.0 seconds\n",
      "Frequency: 200.0 Hz\n",
      "Time Span: 1.0 seconds\n",
      "Frequency: 200.0 Hz\n",
      "Time Span: 1.0 seconds\n",
      "Frequency: 200.0 Hz\n",
      "Time Span: 1.0 seconds\n",
      "Frequency: 200.0 Hz\n",
      "Time Span: 1.0 seconds\n",
      "Frequency: 200.0 Hz\n",
      "Time Span: 1.0 seconds\n",
      "Frequency: 200.0 Hz\n",
      "Time Span: 1.0 seconds\n",
      "Frequency: 200.0 Hz\n",
      "Time Span: 1.0 seconds\n",
      "Frequency: 200.0 Hz\n",
      "Time Span: 1.0 seconds\n",
      "Frequency: 200.0 Hz\n",
      "Time Span: 1.0 seconds\n",
      "Frequency: 200.0 Hz\n",
      "Time Span: 1.0 seconds\n",
      "Frequency: 200.0 Hz\n",
      "Time Span: 1.0 seconds\n",
      "Frequency: 200.0 Hz\n",
      "Time Span: 1.0 seconds\n",
      "Frequency: 200.0 Hz\n",
      "Time Span: 1.0 seconds\n",
      "Frequency: 200.0 Hz\n",
      "Time Span: 1.0 seconds\n",
      "Frequency: 200.0 Hz\n",
      "Time Span: 1.0 seconds\n",
      "Frequency: 200.0 Hz\n",
      "Time Span: 1.0 seconds\n",
      "Frequency: 200.0 Hz\n",
      "Time Span: 1.0 seconds\n",
      "Frequency: 200.0 Hz\n",
      "Time Span: 1.0 seconds\n",
      "Frequency: 200.0 Hz\n",
      "Time Span: 1.0 seconds\n",
      "Frequency: 200.0 Hz\n",
      "Time Span: 1.0 seconds\n",
      "Frequency: 200.0 Hz\n",
      "Time Span: 1.0 seconds\n",
      "Frequency: 200.0 Hz\n",
      "Time Span: 1.0 seconds\n",
      "Frequency: 200.0 Hz\n",
      "Time Span: 1.0 seconds\n",
      "Frequency: 200.0 Hz\n",
      "Time Span: 1.0 seconds\n",
      "Frequency: 200.0 Hz\n",
      "Time Span: 1.0 seconds\n",
      "Frequency: 200.0 Hz\n",
      "Time Span: 1.0 seconds\n",
      "Frequency: 200.0 Hz\n",
      "Time Span: 1.0 seconds\n",
      "Frequency: 200.0 Hz\n",
      "Time Span: 1.0 seconds\n",
      "Frequency: 200.0 Hz\n",
      "Time Span: 1.0 seconds\n",
      "Frequency: 200.0 Hz\n",
      "Time Span: 1.0 seconds\n",
      "Frequency: 200.0 Hz\n",
      "Time Span: 1.0 seconds\n",
      "Frequency: 200.0 Hz\n",
      "Time Span: 1.0 seconds\n",
      "Frequency: 200.0 Hz\n",
      "Time Span: 1.0 seconds\n",
      "Frequency: 200.0 Hz\n",
      "Time Span: 1.0 seconds\n",
      "Frequency: 200.0 Hz\n",
      "Time Span: 1.0 seconds\n",
      "Frequency: 200.0 Hz\n",
      "Time Span: 1.0 seconds\n",
      "Frequency: 200.0 Hz\n",
      "Time Span: 1.0 seconds\n",
      "Frequency: 200.0 Hz\n",
      "Time Span: 1.0 seconds\n",
      "Frequency: 200.0 Hz\n",
      "Time Span: 1.0 seconds\n",
      "Frequency: 200.0 Hz\n",
      "Time Span: 1.0 seconds\n",
      "Frequency: 200.0 Hz\n",
      "Time Span: 1.0 seconds\n",
      "Frequency: 200.0 Hz\n",
      "Time Span: 1.0 seconds\n",
      "Frequency: 200.0 Hz\n",
      "Time Span: 1.0 seconds\n",
      "Frequency: 200.0 Hz\n",
      "Time Span: 1.0 seconds\n",
      "Frequency: 200.0 Hz\n",
      "Time Span: 1.0 seconds\n",
      "Frequency: 200.0 Hz\n",
      "Time Span: 1.0 seconds\n",
      "Frequency: 200.0 Hz\n",
      "Time Span: 1.0 seconds\n",
      "Frequency: 200.0 Hz\n",
      "Time Span: 1.0 seconds\n",
      "Frequency: 200.0 Hz\n",
      "Time Span: 1.0 seconds\n",
      "Frequency: 200.0 Hz\n",
      "Time Span: 1.0 seconds\n",
      "Frequency: 200.0 Hz\n",
      "Time Span: 1.0 seconds\n",
      "Frequency: 200.0 Hz\n",
      "Time Span: 1.0 seconds\n",
      "Frequency: 200.0 Hz\n",
      "Time Span: 1.0 seconds\n",
      "Frequency: 200.0 Hz\n",
      "Time Span: 1.0 seconds\n",
      "Frequency: 200.0 Hz\n",
      "Time Span: 1.0 seconds\n",
      "Frequency: 200.0 Hz\n",
      "Time Span: 1.0 seconds\n",
      "Frequency: 200.0 Hz\n",
      "Time Span: 1.0 seconds\n",
      "Frequency: 200.0 Hz\n",
      "Time Span: 1.0 seconds\n",
      "Frequency: 200.0 Hz\n",
      "Time Span: 1.0 seconds\n",
      "Frequency: 200.0 Hz\n",
      "Time Span: 1.0 seconds\n",
      "Frequency: 200.0 Hz\n",
      "Time Span: 1.0 seconds\n",
      "Frequency: 200.0 Hz\n",
      "Time Span: 1.0 seconds\n",
      "Frequency: 200.0 Hz\n",
      "Time Span: 1.0 seconds\n",
      "Frequency: 200.0 Hz\n",
      "Time Span: 1.0 seconds\n",
      "Frequency: 200.0 Hz\n",
      "Time Span: 1.0 seconds\n",
      "Frequency: 200.0 Hz\n",
      "Time Span: 1.0 seconds\n",
      "Frequency: 200.0 Hz\n",
      "Time Span: 1.0 seconds\n",
      "Frequency: 200.0 Hz\n",
      "Time Span: 1.0 seconds\n",
      "Frequency: 200.0 Hz\n",
      "Time Span: 1.0 seconds\n",
      "Frequency: 200.0 Hz\n",
      "Time Span: 1.0 seconds\n",
      "Frequency: 200.0 Hz\n",
      "Time Span: 1.0 seconds\n",
      "Frequency: 200.0 Hz\n",
      "Time Span: 1.0 seconds\n",
      "Frequency: 200.0 Hz\n",
      "Time Span: 1.0 seconds\n",
      "Frequency: 200.0 Hz\n",
      "Time Span: 1.0 seconds\n",
      "Frequency: 200.0 Hz\n",
      "Time Span: 1.0 seconds\n",
      "Frequency: 200.0 Hz\n",
      "Time Span: 1.0 seconds\n",
      "Frequency: 200.0 Hz\n",
      "Time Span: 1.0 seconds\n",
      "Frequency: 200.0 Hz\n",
      "Time Span: 1.0 seconds\n",
      "Frequency: 200.0 Hz\n",
      "Time Span: 1.0 seconds\n",
      "Frequency: 200.0 Hz\n",
      "Time Span: 1.0 seconds\n",
      "Frequency: 200.0 Hz\n",
      "Time Span: 1.0 seconds\n",
      "Frequency: 200.0 Hz\n",
      "Time Span: 1.0 seconds\n",
      "Frequency: 200.0 Hz\n",
      "Time Span: 1.0 seconds\n",
      "Frequency: 200.0 Hz\n",
      "Time Span: 1.0 seconds\n",
      "Frequency: 200.0 Hz\n",
      "Time Span: 1.0 seconds\n",
      "Frequency: 200.0 Hz\n",
      "Time Span: 1.0 seconds\n",
      "Frequency: 200.0 Hz\n",
      "Time Span: 1.0 seconds\n",
      "Frequency: 200.0 Hz\n",
      "Time Span: 1.0 seconds\n",
      "Frequency: 200.0 Hz\n",
      "Time Span: 1.0 seconds\n",
      "Frequency: 200.0 Hz\n",
      "Time Span: 1.0 seconds\n",
      "Frequency: 200.0 Hz\n",
      "Time Span: 1.0 seconds\n",
      "Frequency: 200.0 Hz\n",
      "Time Span: 1.0 seconds\n",
      "Frequency: 200.0 Hz\n",
      "Time Span: 1.0 seconds\n",
      "Frequency: 200.0 Hz\n",
      "Time Span: 1.0 seconds\n",
      "Frequency: 200.0 Hz\n",
      "Time Span: 1.0 seconds\n",
      "Frequency: 200.0 Hz\n",
      "Time Span: 1.0 seconds\n",
      "Frequency: 200.0 Hz\n",
      "Time Span: 1.0 seconds\n",
      "Frequency: 200.0 Hz\n",
      "Time Span: 1.0 seconds\n",
      "Frequency: 200.0 Hz\n",
      "Time Span: 1.0 seconds\n",
      "Frequency: 200.0 Hz\n",
      "Time Span: 1.0 seconds\n",
      "Frequency: 200.0 Hz\n",
      "Time Span: 1.0 seconds\n",
      "Frequency: 200.0 Hz\n",
      "Time Span: 1.0 seconds\n",
      "Frequency: 200.0 Hz\n",
      "Time Span: 1.0 seconds\n",
      "Frequency: 200.0 Hz\n",
      "Time Span: 1.0 seconds\n",
      "Frequency: 200.0 Hz\n",
      "Time Span: 1.0 seconds\n",
      "Frequency: 200.0 Hz\n",
      "Time Span: 1.0 seconds\n",
      "Frequency: 200.0 Hz\n",
      "Time Span: 1.0 seconds\n",
      "Frequency: 200.0 Hz\n",
      "Time Span: 1.0 seconds\n",
      "Frequency: 200.0 Hz\n",
      "Time Span: 1.0 seconds\n",
      "Frequency: 200.0 Hz\n",
      "Time Span: 1.0 seconds\n",
      "Frequency: 200.0 Hz\n",
      "Time Span: 1.0 seconds\n",
      "Frequency: 200.0 Hz\n",
      "Time Span: 1.0 seconds\n",
      "Frequency: 200.0 Hz\n",
      "Time Span: 1.0 seconds\n",
      "Frequency: 200.0 Hz\n",
      "Time Span: 1.0 seconds\n",
      "Frequency: 200.0 Hz\n",
      "Time Span: 1.0 seconds\n",
      "Frequency: 200.0 Hz\n",
      "Time Span: 1.0 seconds\n",
      "Frequency: 200.0 Hz\n",
      "Time Span: 1.0 seconds\n",
      "Frequency: 200.0 Hz\n",
      "Time Span: 1.0 seconds\n",
      "Frequency: 200.0 Hz\n",
      "Time Span: 1.0 seconds\n",
      "Frequency: 200.0 Hz\n",
      "Time Span: 1.0 seconds\n",
      "Frequency: 200.0 Hz\n",
      "Time Span: 1.0 seconds\n",
      "Frequency: 200.0 Hz\n",
      "Time Span: 1.0 seconds\n",
      "Frequency: 200.0 Hz\n",
      "Time Span: 1.0 seconds\n",
      "Frequency: 200.0 Hz\n",
      "Time Span: 1.0 seconds\n",
      "Frequency: 200.0 Hz\n",
      "Time Span: 1.0 seconds\n",
      "Frequency: 200.0 Hz\n",
      "Time Span: 1.0 seconds\n",
      "Frequency: 200.0 Hz\n",
      "Time Span: 1.0 seconds\n",
      "Frequency: 200.0 Hz\n",
      "Time Span: 1.0 seconds\n",
      "Frequency: 200.0 Hz\n",
      "Time Span: 1.0 seconds\n",
      "Frequency: 200.0 Hz\n",
      "Time Span: 1.0 seconds\n",
      "Frequency: 200.0 Hz\n",
      "Time Span: 1.0 seconds\n",
      "Frequency: 200.0 Hz\n",
      "Time Span: 1.0 seconds\n",
      "Frequency: 200.0 Hz\n",
      "Time Span: 1.0 seconds\n",
      "Frequency: 200.0 Hz\n",
      "Time Span: 1.0 seconds\n",
      "Frequency: 200.0 Hz\n",
      "Time Span: 1.0 seconds\n",
      "Frequency: 200.0 Hz\n",
      "Time Span: 1.0 seconds\n",
      "Frequency: 200.0 Hz\n",
      "Time Span: 1.0 seconds\n",
      "Frequency: 200.0 Hz\n",
      "Time Span: 1.0 seconds\n",
      "Frequency: 200.0 Hz\n",
      "Time Span: 1.0 seconds\n",
      "Frequency: 200.0 Hz\n",
      "Time Span: 1.0 seconds\n",
      "Frequency: 200.0 Hz\n",
      "Time Span: 1.0 seconds\n",
      "Frequency: 200.0 Hz\n",
      "Time Span: 1.0 seconds\n",
      "Frequency: 200.0 Hz\n",
      "Time Span: 1.0 seconds\n",
      "Frequency: 200.0 Hz\n",
      "Time Span: 1.0 seconds\n",
      "Frequency: 200.0 Hz\n",
      "Time Span: 1.0 seconds\n",
      "Frequency: 200.0 Hz\n",
      "Time Span: 1.0 seconds\n",
      "Frequency: 200.0 Hz\n",
      "Time Span: 1.0 seconds\n",
      "Frequency: 200.0 Hz\n",
      "Time Span: 1.0 seconds\n",
      "Frequency: 200.0 Hz\n",
      "Time Span: 1.0 seconds\n",
      "Frequency: 200.0 Hz\n",
      "Time Span: 1.0 seconds\n",
      "Frequency: 200.0 Hz\n",
      "Time Span: 1.0 seconds\n",
      "Frequency: 200.0 Hz\n",
      "Time Span: 1.0 seconds\n",
      "Frequency: 200.0 Hz\n",
      "Time Span: 1.0 seconds\n",
      "Frequency: 200.0 Hz\n",
      "Time Span: 1.0 seconds\n",
      "Frequency: 200.0 Hz\n",
      "Time Span: 1.0 seconds\n",
      "Frequency: 200.0 Hz\n",
      "Time Span: 1.0 seconds\n",
      "Frequency: 200.0 Hz\n",
      "Time Span: 1.0 seconds\n",
      "Frequency: 200.0 Hz\n",
      "Time Span: 1.0 seconds\n",
      "Frequency: 200.0 Hz\n",
      "Time Span: 1.0 seconds\n",
      "Frequency: 200.0 Hz\n",
      "Time Span: 1.0 seconds\n",
      "Frequency: 200.0 Hz\n",
      "Time Span: 1.0 seconds\n",
      "Frequency: 200.0 Hz\n",
      "Time Span: 1.0 seconds\n",
      "Frequency: 200.0 Hz\n",
      "Time Span: 1.0 seconds\n",
      "Frequency: 200.0 Hz\n",
      "Time Span: 1.0 seconds\n",
      "Frequency: 200.0 Hz\n",
      "Time Span: 1.0 seconds\n",
      "Frequency: 200.0 Hz\n",
      "Time Span: 1.0 seconds\n",
      "Frequency: 200.0 Hz\n",
      "Time Span: 1.0 seconds\n",
      "Frequency: 200.0 Hz\n",
      "Time Span: 1.0 seconds\n",
      "Frequency: 200.0 Hz\n",
      "Time Span: 1.0 seconds\n",
      "Frequency: 200.0 Hz\n",
      "Time Span: 1.0 seconds\n",
      "Frequency: 200.0 Hz\n",
      "Time Span: 1.0 seconds\n",
      "Frequency: 200.0 Hz\n",
      "Time Span: 1.0 seconds\n",
      "Frequency: 200.0 Hz\n",
      "Time Span: 1.0 seconds\n",
      "Frequency: 200.0 Hz\n",
      "Time Span: 1.0 seconds\n",
      "Frequency: 200.0 Hz\n",
      "Time Span: 1.0 seconds\n",
      "Frequency: 200.0 Hz\n",
      "Time Span: 1.0 seconds\n",
      "Frequency: 200.0 Hz\n",
      "Time Span: 1.0 seconds\n",
      "Frequency: 200.0 Hz\n",
      "Time Span: 1.0 seconds\n",
      "Frequency: 200.0 Hz\n",
      "Time Span: 1.0 seconds\n",
      "Frequency: 200.0 Hz\n",
      "Time Span: 1.0 seconds\n",
      "Frequency: 200.0 Hz\n",
      "Time Span: 1.0 seconds\n",
      "Frequency: 200.0 Hz\n",
      "Time Span: 1.0 seconds\n",
      "Frequency: 200.0 Hz\n",
      "Time Span: 1.0 seconds\n",
      "Frequency: 200.0 Hz\n",
      "Time Span: 1.0 seconds\n",
      "Frequency: 200.0 Hz\n",
      "Time Span: 1.0 seconds\n",
      "Frequency: 200.0 Hz\n",
      "Time Span: 1.0 seconds\n",
      "Frequency: 200.0 Hz\n",
      "Time Span: 1.0 seconds\n",
      "Frequency: 200.0 Hz\n",
      "Time Span: 1.0 seconds\n",
      "Frequency: 200.0 Hz\n",
      "Time Span: 1.0 seconds\n",
      "Frequency: 200.0 Hz\n",
      "Time Span: 1.0 seconds\n",
      "Frequency: 200.0 Hz\n",
      "Time Span: 1.0 seconds\n",
      "Frequency: 200.0 Hz\n",
      "Time Span: 1.0 seconds\n",
      "Frequency: 200.0 Hz\n",
      "Time Span: 1.0 seconds\n",
      "Frequency: 200.0 Hz\n",
      "Time Span: 1.0 seconds\n",
      "Frequency: 200.0 Hz\n",
      "Time Span: 1.0 seconds\n",
      "Frequency: 200.0 Hz\n",
      "Time Span: 1.0 seconds\n",
      "Frequency: 200.0 Hz\n",
      "Time Span: 1.0 seconds\n",
      "Frequency: 200.0 Hz\n",
      "Time Span: 1.0 seconds\n",
      "Frequency: 200.0 Hz\n",
      "Time Span: 1.0 seconds\n",
      "Frequency: 200.0 Hz\n",
      "Time Span: 1.0 seconds\n",
      "Frequency: 200.0 Hz\n",
      "Time Span: 1.0 seconds\n",
      "Frequency: 200.0 Hz\n",
      "Time Span: 1.0 seconds\n",
      "Frequency: 200.0 Hz\n",
      "Time Span: 1.0 seconds\n",
      "Frequency: 200.0 Hz\n",
      "Time Span: 1.0 seconds\n",
      "Frequency: 200.0 Hz\n",
      "Time Span: 1.0 seconds\n",
      "Frequency: 200.0 Hz\n",
      "Time Span: 1.0 seconds\n",
      "Frequency: 200.0 Hz\n",
      "Time Span: 1.0 seconds\n",
      "Frequency: 200.0 Hz\n",
      "Time Span: 1.0 seconds\n",
      "Frequency: 200.0 Hz\n",
      "Time Span: 1.0 seconds\n",
      "Frequency: 200.0 Hz\n",
      "Time Span: 1.0 seconds\n",
      "Frequency: 200.0 Hz\n",
      "Time Span: 1.0 seconds\n",
      "Frequency: 200.0 Hz\n",
      "Time Span: 1.0 seconds\n",
      "Frequency: 200.0 Hz\n",
      "Time Span: 1.0 seconds\n",
      "Frequency: 200.0 Hz\n",
      "Time Span: 1.0 seconds\n",
      "Frequency: 200.0 Hz\n",
      "Time Span: 1.0 seconds\n",
      "Frequency: 200.0 Hz\n",
      "Time Span: 1.0 seconds\n",
      "Frequency: 200.0 Hz\n",
      "Time Span: 1.0 seconds\n",
      "Frequency: 200.0 Hz\n",
      "Time Span: 1.0 seconds\n",
      "Frequency: 200.0 Hz\n",
      "Time Span: 1.0 seconds\n",
      "Frequency: 200.0 Hz\n",
      "Time Span: 1.0 seconds\n",
      "Frequency: 200.0 Hz\n",
      "Time Span: 1.0 seconds\n",
      "Frequency: 200.0 Hz\n",
      "Time Span: 1.0 seconds\n",
      "Frequency: 200.0 Hz\n",
      "Time Span: 1.0 seconds\n",
      "Frequency: 200.0 Hz\n",
      "Time Span: 1.0 seconds\n",
      "Frequency: 200.0 Hz\n",
      "Time Span: 1.0 seconds\n",
      "Frequency: 200.0 Hz\n",
      "Time Span: 1.0 seconds\n",
      "Frequency: 200.0 Hz\n",
      "Time Span: 1.0 seconds\n",
      "Frequency: 200.0 Hz\n",
      "Time Span: 1.0 seconds\n",
      "Frequency: 200.0 Hz\n",
      "Time Span: 1.0 seconds\n",
      "Frequency: 200.0 Hz\n",
      "Time Span: 1.0 seconds\n",
      "Frequency: 200.0 Hz\n",
      "Time Span: 1.0 seconds\n",
      "Frequency: 200.0 Hz\n",
      "Time Span: 1.0 seconds\n",
      "Frequency: 200.0 Hz\n",
      "Time Span: 1.0 seconds\n",
      "Frequency: 200.0 Hz\n",
      "Time Span: 1.0 seconds\n",
      "Frequency: 200.0 Hz\n",
      "Time Span: 1.0 seconds\n",
      "Frequency: 200.0 Hz\n",
      "Time Span: 1.0 seconds\n",
      "Frequency: 200.0 Hz\n",
      "Time Span: 1.0 seconds\n",
      "Frequency: 200.0 Hz\n",
      "Time Span: 1.0 seconds\n",
      "Frequency: 200.0 Hz\n",
      "Time Span: 1.0 seconds\n",
      "Frequency: 200.0 Hz\n",
      "Time Span: 1.0 seconds\n",
      "Frequency: 200.0 Hz\n",
      "Time Span: 1.0 seconds\n",
      "Frequency: 200.0 Hz\n",
      "Time Span: 1.0 seconds\n",
      "Frequency: 200.0 Hz\n",
      "Time Span: 1.0 seconds\n",
      "Frequency: 200.0 Hz\n",
      "Time Span: 1.0 seconds\n",
      "Frequency: 200.0 Hz\n",
      "Time Span: 1.0 seconds\n",
      "Frequency: 200.0 Hz\n",
      "Time Span: 1.0 seconds\n",
      "Frequency: 200.0 Hz\n",
      "Time Span: 1.0 seconds\n",
      "Frequency: 200.0 Hz\n",
      "Time Span: 1.0 seconds\n",
      "Frequency: 200.0 Hz\n",
      "Time Span: 1.0 seconds\n",
      "Frequency: 200.0 Hz\n",
      "Time Span: 1.0 seconds\n",
      "Frequency: 200.0 Hz\n",
      "Time Span: 1.0 seconds\n",
      "Frequency: 200.0 Hz\n",
      "Time Span: 1.0 seconds\n",
      "Frequency: 200.0 Hz\n",
      "Time Span: 1.0 seconds\n",
      "Frequency: 200.0 Hz\n",
      "Time Span: 1.0 seconds\n",
      "Frequency: 200.0 Hz\n",
      "Time Span: 1.0 seconds\n",
      "Frequency: 200.0 Hz\n",
      "Time Span: 1.0 seconds\n",
      "Frequency: 200.0 Hz\n",
      "Time Span: 1.0 seconds\n",
      "Frequency: 200.0 Hz\n",
      "Time Span: 1.0 seconds\n",
      "Frequency: 200.0 Hz\n",
      "Time Span: 1.0 seconds\n",
      "Frequency: 200.0 Hz\n",
      "Time Span: 1.0 seconds\n",
      "Frequency: 200.0 Hz\n",
      "Time Span: 1.0 seconds\n",
      "Frequency: 200.0 Hz\n",
      "Time Span: 1.0 seconds\n",
      "Frequency: 200.0 Hz\n",
      "Time Span: 1.0 seconds\n",
      "Frequency: 200.0 Hz\n",
      "Time Span: 1.0 seconds\n",
      "Frequency: 200.0 Hz\n",
      "Time Span: 1.0 seconds\n",
      "Frequency: 200.0 Hz\n",
      "Time Span: 1.0 seconds\n",
      "Frequency: 200.0 Hz\n",
      "Time Span: 1.0 seconds\n",
      "Frequency: 200.0 Hz\n",
      "Time Span: 1.0 seconds\n",
      "Frequency: 200.0 Hz\n",
      "Time Span: 1.0 seconds\n",
      "Frequency: 200.0 Hz\n",
      "Time Span: 1.0 seconds\n",
      "Frequency: 200.0 Hz\n",
      "Time Span: 1.0 seconds\n",
      "Frequency: 200.0 Hz\n",
      "Time Span: 1.0 seconds\n",
      "Frequency: 200.0 Hz\n",
      "Time Span: 1.0 seconds\n",
      "Frequency: 200.0 Hz\n",
      "Time Span: 1.0 seconds\n",
      "Frequency: 200.0 Hz\n",
      "Time Span: 1.0 seconds\n",
      "Frequency: 200.0 Hz\n",
      "Time Span: 1.0 seconds\n",
      "Frequency: 200.0 Hz\n",
      "Time Span: 1.0 seconds\n",
      "Frequency: 200.0 Hz\n",
      "Time Span: 1.0 seconds\n",
      "Frequency: 200.0 Hz\n",
      "Time Span: 1.0 seconds\n",
      "Frequency: 200.0 Hz\n",
      "Time Span: 1.0 seconds\n",
      "Frequency: 200.0 Hz\n",
      "Time Span: 1.0 seconds\n",
      "Frequency: 200.0 Hz\n",
      "Time Span: 1.0 seconds\n",
      "Frequency: 200.0 Hz\n",
      "Time Span: 1.0 seconds\n",
      "Frequency: 200.0 Hz\n",
      "Time Span: 1.0 seconds\n",
      "Frequency: 200.0 Hz\n",
      "Time Span: 1.0 seconds\n",
      "Frequency: 200.0 Hz\n",
      "Time Span: 1.0 seconds\n",
      "Frequency: 200.0 Hz\n",
      "Time Span: 1.0 seconds\n",
      "Frequency: 200.0 Hz\n",
      "Time Span: 1.0 seconds\n",
      "Frequency: 200.0 Hz\n",
      "Time Span: 1.0 seconds\n",
      "Frequency: 200.0 Hz\n",
      "Time Span: 1.0 seconds\n",
      "Frequency: 200.0 Hz\n",
      "Time Span: 1.0 seconds\n",
      "Frequency: 200.0 Hz\n",
      "Time Span: 1.0 seconds\n",
      "Frequency: 200.0 Hz\n",
      "Time Span: 1.0 seconds\n",
      "Frequency: 200.0 Hz\n",
      "Time Span: 1.0 seconds\n",
      "Frequency: 200.0 Hz\n",
      "Time Span: 1.0 seconds\n",
      "Frequency: 200.0 Hz\n",
      "Time Span: 1.0 seconds\n",
      "Frequency: 200.0 Hz\n",
      "Time Span: 1.0 seconds\n",
      "Frequency: 200.0 Hz\n",
      "Time Span: 1.0 seconds\n",
      "Frequency: 200.0 Hz\n",
      "Time Span: 1.0 seconds\n",
      "Frequency: 200.0 Hz\n",
      "Time Span: 1.0 seconds\n",
      "Frequency: 200.0 Hz\n",
      "Time Span: 1.0 seconds\n",
      "Frequency: 200.0 Hz\n",
      "Time Span: 1.0 seconds\n",
      "Frequency: 200.0 Hz\n",
      "Time Span: 1.0 seconds\n",
      "Frequency: 200.0 Hz\n",
      "Time Span: 1.0 seconds\n",
      "Frequency: 200.0 Hz\n",
      "Time Span: 1.0 seconds\n",
      "Frequency: 200.0 Hz\n",
      "Time Span: 1.0 seconds\n",
      "Frequency: 200.0 Hz\n",
      "Time Span: 1.0 seconds\n",
      "Frequency: 200.0 Hz\n",
      "Time Span: 1.0 seconds\n",
      "Frequency: 200.0 Hz\n",
      "Time Span: 1.0 seconds\n",
      "Frequency: 200.0 Hz\n",
      "Time Span: 1.0 seconds\n",
      "Frequency: 200.0 Hz\n",
      "Time Span: 1.0 seconds\n",
      "Frequency: 200.0 Hz\n",
      "Time Span: 1.0 seconds\n",
      "Frequency: 200.0 Hz\n",
      "Time Span: 1.0 seconds\n",
      "Frequency: 200.0 Hz\n",
      "Time Span: 1.0 seconds\n",
      "Frequency: 200.0 Hz\n",
      "Time Span: 1.0 seconds\n",
      "Frequency: 200.0 Hz\n",
      "Time Span: 1.0 seconds\n",
      "Frequency: 200.0 Hz\n",
      "Time Span: 1.0 seconds\n",
      "Frequency: 200.0 Hz\n",
      "Time Span: 1.0 seconds\n",
      "Frequency: 200.0 Hz\n",
      "Time Span: 1.0 seconds\n",
      "Frequency: 200.0 Hz\n",
      "Time Span: 1.0 seconds\n",
      "Frequency: 200.0 Hz\n",
      "Time Span: 1.0 seconds\n",
      "Frequency: 200.0 Hz\n",
      "Time Span: 1.0 seconds\n",
      "Frequency: 200.0 Hz\n",
      "Time Span: 1.0 seconds\n",
      "Frequency: 200.0 Hz\n",
      "Time Span: 1.0 seconds\n",
      "Frequency: 200.0 Hz\n",
      "Time Span: 1.0 seconds\n",
      "Frequency: 200.0 Hz\n",
      "Time Span: 1.0 seconds\n",
      "Frequency: 200.0 Hz\n",
      "Time Span: 1.0 seconds\n",
      "Frequency: 200.0 Hz\n",
      "Time Span: 1.0 seconds\n",
      "Frequency: 200.0 Hz\n",
      "Time Span: 1.0 seconds\n",
      "Frequency: 200.0 Hz\n",
      "Time Span: 1.0 seconds\n",
      "Frequency: 200.0 Hz\n",
      "Time Span: 1.0 seconds\n",
      "Frequency: 200.0 Hz\n",
      "Time Span: 1.0 seconds\n",
      "Frequency: 200.0 Hz\n",
      "Time Span: 1.0 seconds\n",
      "Frequency: 200.0 Hz\n",
      "Time Span: 1.0 seconds\n",
      "Frequency: 200.0 Hz\n",
      "Time Span: 1.0 seconds\n",
      "Frequency: 200.0 Hz\n",
      "Time Span: 1.0 seconds\n",
      "Frequency: 200.0 Hz\n",
      "Time Span: 1.0 seconds\n",
      "Frequency: 200.0 Hz\n",
      "Time Span: 1.0 seconds\n",
      "Frequency: 200.0 Hz\n",
      "Time Span: 1.0 seconds\n",
      "Frequency: 200.0 Hz\n",
      "Time Span: 1.0 seconds\n",
      "Frequency: 200.0 Hz\n",
      "Time Span: 1.0 seconds\n",
      "Frequency: 200.0 Hz\n",
      "Time Span: 1.0 seconds\n",
      "Frequency: 200.0 Hz\n",
      "Time Span: 1.0 seconds\n",
      "Frequency: 200.0 Hz\n",
      "Time Span: 1.0 seconds\n",
      "Frequency: 200.0 Hz\n",
      "Time Span: 1.0 seconds\n",
      "Frequency: 200.0 Hz\n",
      "Time Span: 1.0 seconds\n",
      "Frequency: 200.0 Hz\n",
      "Time Span: 1.0 seconds\n",
      "Frequency: 200.0 Hz\n",
      "Time Span: 1.0 seconds\n",
      "Frequency: 200.0 Hz\n",
      "Time Span: 1.0 seconds\n",
      "Frequency: 200.0 Hz\n",
      "Time Span: 1.0 seconds\n",
      "Frequency: 200.0 Hz\n",
      "Time Span: 1.0 seconds\n",
      "Frequency: 200.0 Hz\n",
      "Time Span: 1.0 seconds\n",
      "Frequency: 200.0 Hz\n",
      "Time Span: 1.0 seconds\n",
      "Frequency: 200.0 Hz\n",
      "Time Span: 1.0 seconds\n",
      "Frequency: 200.0 Hz\n",
      "Time Span: 1.0 seconds\n",
      "Frequency: 200.0 Hz\n",
      "Time Span: 1.0 seconds\n",
      "Frequency: 200.0 Hz\n",
      "Time Span: 1.0 seconds\n",
      "Frequency: 200.0 Hz\n",
      "Time Span: 1.0 seconds\n",
      "Frequency: 200.0 Hz\n",
      "Time Span: 1.0 seconds\n",
      "Frequency: 200.0 Hz\n",
      "Time Span: 1.0 seconds\n",
      "Frequency: 200.0 Hz\n",
      "Time Span: 1.0 seconds\n",
      "Frequency: 200.0 Hz\n",
      "Time Span: 1.0 seconds\n",
      "Frequency: 200.0 Hz\n",
      "Time Span: 1.0 seconds\n",
      "Frequency: 200.0 Hz\n",
      "Time Span: 1.0 seconds\n",
      "Frequency: 200.0 Hz\n",
      "Time Span: 1.0 seconds\n",
      "Frequency: 200.0 Hz\n",
      "Time Span: 1.0 seconds\n",
      "Frequency: 200.0 Hz\n",
      "Time Span: 1.0 seconds\n",
      "Frequency: 200.0 Hz\n",
      "Time Span: 1.0 seconds\n",
      "Frequency: 200.0 Hz\n",
      "Time Span: 1.0 seconds\n",
      "Frequency: 200.0 Hz\n",
      "Time Span: 1.0 seconds\n",
      "Frequency: 200.0 Hz\n",
      "Time Span: 1.0 seconds\n",
      "Frequency: 200.0 Hz\n",
      "Time Span: 1.0 seconds\n",
      "Frequency: 200.0 Hz\n",
      "Time Span: 1.0 seconds\n",
      "Frequency: 200.0 Hz\n",
      "Time Span: 1.0 seconds\n",
      "Frequency: 200.0 Hz\n",
      "Time Span: 1.0 seconds\n",
      "Frequency: 200.0 Hz\n",
      "Time Span: 1.0 seconds\n",
      "Frequency: 200.0 Hz\n",
      "Time Span: 1.0 seconds\n",
      "Frequency: 200.0 Hz\n",
      "Time Span: 1.0 seconds\n",
      "Frequency: 200.0 Hz\n",
      "Time Span: 1.0 seconds\n",
      "Frequency: 200.0 Hz\n",
      "Time Span: 1.0 seconds\n",
      "Frequency: 200.0 Hz\n",
      "Time Span: 1.0 seconds\n",
      "Frequency: 200.0 Hz\n",
      "Time Span: 1.0 seconds\n",
      "Frequency: 200.0 Hz\n",
      "Time Span: 1.0 seconds\n",
      "Frequency: 200.0 Hz\n",
      "Time Span: 1.0 seconds\n",
      "Frequency: 200.0 Hz\n",
      "Time Span: 1.0 seconds\n",
      "Frequency: 200.0 Hz\n",
      "Time Span: 1.0 seconds\n",
      "Frequency: 200.0 Hz\n",
      "Time Span: 1.0 seconds\n",
      "Frequency: 200.0 Hz\n",
      "Time Span: 1.0 seconds\n",
      "Frequency: 200.0 Hz\n",
      "Time Span: 1.0 seconds\n",
      "Frequency: 200.0 Hz\n",
      "Time Span: 1.0 seconds\n",
      "Frequency: 200.0 Hz\n",
      "Time Span: 1.0 seconds\n",
      "Frequency: 200.0 Hz\n",
      "Time Span: 1.0 seconds\n",
      "Frequency: 200.0 Hz\n",
      "Time Span: 1.0 seconds\n",
      "Frequency: 200.0 Hz\n",
      "Time Span: 1.0 seconds\n",
      "Frequency: 200.0 Hz\n",
      "Time Span: 1.0 seconds\n",
      "Frequency: 200.0 Hz\n",
      "Time Span: 1.0 seconds\n",
      "Frequency: 200.0 Hz\n",
      "Time Span: 1.0 seconds\n",
      "Frequency: 200.0 Hz\n",
      "Time Span: 1.0 seconds\n",
      "Frequency: 200.0 Hz\n",
      "Time Span: 1.0 seconds\n",
      "Frequency: 200.0 Hz\n",
      "Time Span: 1.0 seconds\n",
      "Frequency: 200.0 Hz\n",
      "Time Span: 1.0 seconds\n",
      "Frequency: 200.0 Hz\n",
      "Time Span: 1.0 seconds\n",
      "Frequency: 200.0 Hz\n",
      "Time Span: 1.0 seconds\n",
      "Frequency: 200.0 Hz\n",
      "Time Span: 1.0 seconds\n",
      "Frequency: 200.0 Hz\n",
      "Time Span: 1.0 seconds\n",
      "Frequency: 200.0 Hz\n",
      "Time Span: 1.0 seconds\n",
      "Frequency: 200.0 Hz\n",
      "Time Span: 1.0 seconds\n",
      "Frequency: 200.0 Hz\n",
      "Time Span: 1.0 seconds\n",
      "Frequency: 200.0 Hz\n",
      "Time Span: 1.0 seconds\n",
      "Frequency: 200.0 Hz\n",
      "Time Span: 1.0 seconds\n",
      "Frequency: 200.0 Hz\n",
      "Time Span: 1.0 seconds\n",
      "Frequency: 200.0 Hz\n",
      "Time Span: 1.0 seconds\n",
      "Frequency: 200.0 Hz\n",
      "Time Span: 1.0 seconds\n",
      "Frequency: 200.0 Hz\n",
      "Time Span: 1.0 seconds\n",
      "Frequency: 200.0 Hz\n",
      "Time Span: 1.0 seconds\n",
      "Frequency: 200.0 Hz\n",
      "Time Span: 1.0 seconds\n",
      "Frequency: 200.0 Hz\n",
      "Time Span: 1.0 seconds\n",
      "Frequency: 200.0 Hz\n",
      "Time Span: 1.0 seconds\n",
      "Frequency: 200.0 Hz\n",
      "Time Span: 1.0 seconds\n",
      "Frequency: 200.0 Hz\n",
      "Time Span: 1.0 seconds\n",
      "Frequency: 200.0 Hz\n",
      "Time Span: 1.0 seconds\n",
      "Frequency: 200.0 Hz\n",
      "Time Span: 1.0 seconds\n",
      "Frequency: 200.0 Hz\n",
      "Time Span: 1.0 seconds\n",
      "Frequency: 200.0 Hz\n",
      "Time Span: 1.0 seconds\n",
      "Frequency: 200.0 Hz\n",
      "Counter({200.0: 496})\n"
     ]
    }
   ],
   "execution_count": 11
  },
  {
   "metadata": {
    "ExecuteTime": {
     "end_time": "2025-04-02T02:49:27.322110Z",
     "start_time": "2025-04-02T02:49:27.317392Z"
    }
   },
   "cell_type": "code",
   "source": "correct = ('2025-03-26 15:05:28.000', '2025-03-26 15:08:51.000')",
   "id": "fbd394754504c647",
   "outputs": [],
   "execution_count": 12
  },
  {
   "metadata": {
    "ExecuteTime": {
     "end_time": "2025-04-02T02:49:27.362151Z",
     "start_time": "2025-04-02T02:49:27.356288Z"
    }
   },
   "cell_type": "code",
   "source": "wrong_right = ('2025-03-26 15:09:25.000', '2025-03-26 15:11:19.000')",
   "id": "5dc902e74eb8b403",
   "outputs": [],
   "execution_count": 13
  },
  {
   "metadata": {
    "ExecuteTime": {
     "end_time": "2025-04-02T02:49:27.391497Z",
     "start_time": "2025-04-02T02:49:27.386273Z"
    }
   },
   "cell_type": "code",
   "source": "wrong_left = ('2025-03-26 15:11:43.000', '2025-03-26 15:13:32.000')",
   "id": "d32a2a974a7ff5f3",
   "outputs": [],
   "execution_count": 14
  },
  {
   "metadata": {
    "ExecuteTime": {
     "end_time": "2025-04-02T02:49:27.451561Z",
     "start_time": "2025-04-02T02:49:27.437589Z"
    }
   },
   "cell_type": "code",
   "source": [
    "import matplotlib.pyplot as plt\n",
    "\n",
    "def show_column(data, column_name, time_range):\n",
    "    \"\"\"\n",
    "    Plots the specified column data interactively within a given time range.\n",
    "\n",
    "    Parameters:\n",
    "        data (pd.DataFrame): The DataFrame containing the data.\n",
    "        column_name (str): The column to be plotted.\n",
    "        time_range (tuple): A tuple containing the start and end timestamps as strings.\n",
    "    \"\"\"\n",
    "    start_time, end_time = time_range\n",
    "    filtered_data = data[(data['timestamp'] >= start_time) & (data['timestamp'] <= end_time)]\n",
    "\n",
    "    %matplotlib notebook\n",
    "    plt.figure(figsize=(10, 6))\n",
    "    plt.plot(filtered_data['timestamp'], filtered_data[column_name], label=column_name, color='blue')\n",
    "    plt.title(f'{column_name} over Time')\n",
    "    plt.xlabel('Timestamp')\n",
    "    plt.ylabel(column_name)\n",
    "    plt.legend()\n",
    "    plt.grid(True)\n",
    "    plt.show()\n"
   ],
   "id": "d30543123a7460f6",
   "outputs": [],
   "execution_count": 15
  },
  {
   "metadata": {
    "ExecuteTime": {
     "end_time": "2025-04-02T02:49:27.513180Z",
     "start_time": "2025-04-02T02:49:27.504726Z"
    }
   },
   "cell_type": "code",
   "source": [
    "def find_max_value_index(df, input_timestamp, column_name, time_window=2):\n",
    "    \"\"\"\n",
    "    Finds the index of the row with the maximum value in the specified column within a given time window before the given timestamp.\n",
    "\n",
    "    Parameters:\n",
    "        df (pd.DataFrame): The DataFrame containing the sensor data.\n",
    "        input_timestamp (str or pd.Timestamp): The reference timestamp.\n",
    "        column_name (str): The column to search for the maximum value.\n",
    "        time_window (int): The time window in seconds before the input timestamp to search within. Default is 2 seconds.\n",
    "\n",
    "    Returns:\n",
    "        int or None: The index of the row with the maximum value in the specified column within the time range, or None if no such row exists.\n",
    "    \"\"\"\n",
    "    # Ensure the timestamp is in datetime format\n",
    "    input_timestamp = pd.to_datetime(input_timestamp)\n",
    "\n",
    "    # Filter data within the specified time window before the input timestamp\n",
    "    mask = (df['timestamp'] < input_timestamp) & (df['timestamp'] >= input_timestamp - pd.Timedelta(seconds=time_window))\n",
    "    filtered_df = df[mask]\n",
    "\n",
    "    # Find the index of the row with the maximum value in the specified column\n",
    "    if not filtered_df.empty:\n",
    "        return filtered_df[column_name].idxmax()\n",
    "    else:\n",
    "        return None"
   ],
   "id": "8f34115929718434",
   "outputs": [],
   "execution_count": 16
  },
  {
   "metadata": {
    "ExecuteTime": {
     "end_time": "2025-04-02T02:49:27.571308Z",
     "start_time": "2025-04-02T02:49:27.561410Z"
    }
   },
   "cell_type": "code",
   "source": [
    "correct_touch = ['2025-03-26 15:06:17.500', '2025-03-26 15:06:38.800', '2025-03-26 15:06:55.700',\n",
    "                 '2025-03-26 15:07:13.500', '2025-03-26 15:07:29.500', '2025-03-26 15:07:43.000', '2025-03-26 15:07:58.000',\n",
    "                 '2025-03-26 15:08:09.800', '2025-03-26 15:08:18.500', '2025-03-26 15:08:29.000', '2025-03-26 15:08:40.300']\n",
    "# correct_touch = ['2025-03-26 15:06:17.500', '2025-03-26 15:06:38.800', '2025-03-26 15:06:55.700',\n",
    "#                  '2025-03-26 15:07:13.500', '2025-03-26 15:07:29.500', '2025-03-26 15:07:43.000', '2025-03-26 15:07:58.000',\n",
    "#                  '2025-03-26 15:08:09.800', '2025-03-26 15:08:18.500', '2025-03-26 15:08:29.000']"
   ],
   "id": "3ea7e3f2e171ca43",
   "outputs": [],
   "execution_count": 17
  },
  {
   "metadata": {
    "ExecuteTime": {
     "end_time": "2025-04-02T02:49:27.652900Z",
     "start_time": "2025-04-02T02:49:27.596569Z"
    }
   },
   "cell_type": "code",
   "source": [
    "# use the function for correct_touch\n",
    "# save the result in a list named correct_touch_max_accx_indexs\n",
    "correct_touch_max_accx_indexs : list = []\n",
    "for timestamp in correct_touch:\n",
    "    correct_touch_max_accx_indexs.append(find_max_value_index(pd_pickle, timestamp, 'AccX', 2))"
   ],
   "id": "e67089753f4f2bd4",
   "outputs": [],
   "execution_count": 18
  },
  {
   "metadata": {
    "ExecuteTime": {
     "end_time": "2025-04-02T02:49:27.719287Z",
     "start_time": "2025-04-02T02:49:27.676801Z"
    }
   },
   "cell_type": "code",
   "source": [
    "correct_touch_max_acc_sum_squared_indexs = []\n",
    "for timestamp in correct_touch:\n",
    "    correct_touch_max_acc_sum_squared_indexs.append(find_max_value_index(pd_pickle, timestamp, 'acc_sum_squared', 2))"
   ],
   "id": "6de0cac56d07e850",
   "outputs": [],
   "execution_count": 19
  },
  {
   "metadata": {
    "ExecuteTime": {
     "end_time": "2025-04-02T02:49:27.761285Z",
     "start_time": "2025-04-02T02:49:27.751135Z"
    }
   },
   "cell_type": "code",
   "source": [
    "wrong_right_touch = ['2025-03-26 15:09:28.500', '2025-03-26 15:09:41.000', '2025-03-26 15:09:51.500',\n",
    "                     '2025-03-26 15:10:02.200', '2025-03-26 15:10:15.000', '2025-03-26 15:10:27.000', '2025-03-26 15:10:37.800', '2025-03-26 15:10:47.500', '2025-03-26 15:10:57.500',\n",
    "                     '2025-03-26 15:11:11.600']"
   ],
   "id": "ab725055885282b2",
   "outputs": [],
   "execution_count": 20
  },
  {
   "metadata": {
    "ExecuteTime": {
     "end_time": "2025-04-02T02:49:27.815903Z",
     "start_time": "2025-04-02T02:49:27.802870Z"
    }
   },
   "cell_type": "code",
   "source": [
    "wrong_left_touch = ['2025-03-26 15:11:54.000',\n",
    "                    '2025-03-26 15:12:03.000', '2025-03-26 15:12:11.200', '2025-03-26 15:12:18.500', '2025-03-26 15:12:27.500', '2025-03-26 15:12:39.300', '2025-03-26 15:12:49.300',\n",
    "                    '2025-03-26 15:13:02.500', '2025-03-26 15:13:15.500', '2025-03-26 15:13:26.500']"
   ],
   "id": "4b74ec8cbde242f3",
   "outputs": [],
   "execution_count": 21
  },
  {
   "metadata": {
    "ExecuteTime": {
     "end_time": "2025-04-02T02:49:27.903618Z",
     "start_time": "2025-04-02T02:49:27.870738Z"
    }
   },
   "cell_type": "code",
   "source": [
    "# create a function that take in a dataframe and a timestamp and return a dataframe with the data from duration seconds before the timestamp to the timestamp\n",
    "def get_data_before_timestamp(data: pd.DataFrame, time_touch: str, duration: int) -> pd.DataFrame:\n",
    "    \"\"\"\n",
    "    Get the data from a specified duration before a given timestamp.\n",
    "\n",
    "    Parameters:\n",
    "        data (pd.DataFrame): The DataFrame containing the sensor data.\n",
    "        time_touch (str): The reference timestamp.\n",
    "        duration (int): The duration in seconds before the timestamp.\n",
    "\n",
    "    Returns:\n",
    "        pd.DataFrame: The data from the specified duration before the timestamp.\n",
    "    \"\"\"\n",
    "    # Ensure the timestamp is in datetime format\n",
    "    time_touch = pd.to_datetime(time_touch)\n",
    "\n",
    "    # Calculate the start time based on the duration\n",
    "    start_time = time_touch - pd.Timedelta(seconds=duration)\n",
    "\n",
    "    # Filter the data within the specified time range\n",
    "    # only return data of the columns 'AccX', 'AccY', 'AccZ', 'AsX', 'AsY', 'AsZ'\n",
    "    filtered_data = data[(data['timestamp'] > start_time) & (data['timestamp'] <= time_touch)][['AccX', 'AccY', 'AccZ', 'AsX', 'AsY', 'AsZ']]\n",
    "\n",
    "    return filtered_data"
   ],
   "id": "55f23830b50778f7",
   "outputs": [],
   "execution_count": 22
  },
  {
   "metadata": {
    "ExecuteTime": {
     "end_time": "2025-04-02T02:49:28.008304Z",
     "start_time": "2025-04-02T02:49:27.940903Z"
    }
   },
   "cell_type": "code",
   "source": [
    "# use the get_data_before_timestamp function for the correct_touch timestamps to get a list of dataframes\n",
    "correct_touch_dataframes : list = []\n",
    "for timestamp in correct_touch:\n",
    "    correct_touch_dataframes.append(get_data_before_timestamp(pd_pickle, timestamp, duration))"
   ],
   "id": "9092eeeba744e13d",
   "outputs": [],
   "execution_count": 23
  },
  {
   "metadata": {
    "ExecuteTime": {
     "end_time": "2025-04-02T02:49:28.095630Z",
     "start_time": "2025-04-02T02:49:28.077137Z"
    }
   },
   "cell_type": "code",
   "source": "import numpy as np",
   "id": "2d4bce6db064389c",
   "outputs": [],
   "execution_count": 24
  },
  {
   "metadata": {
    "ExecuteTime": {
     "end_time": "2025-04-02T02:49:28.150057Z",
     "start_time": "2025-04-02T02:49:28.141230Z"
    }
   },
   "cell_type": "code",
   "source": [
    "# turn the list of dataframes into a numpy array\n",
    "correct_touch_numpy: np.array = np.array(correct_touch_dataframes)"
   ],
   "id": "e190a4339dfa563a",
   "outputs": [],
   "execution_count": 25
  },
  {
   "metadata": {
    "ExecuteTime": {
     "end_time": "2025-04-02T02:49:28.272346Z",
     "start_time": "2025-04-02T02:49:28.254649Z"
    }
   },
   "cell_type": "code",
   "source": "correct_touch_numpy.shape",
   "id": "65f057adcffa0d85",
   "outputs": [
    {
     "data": {
      "text/plain": [
       "(11, 300, 6)"
      ]
     },
     "execution_count": 26,
     "metadata": {},
     "output_type": "execute_result"
    }
   ],
   "execution_count": 26
  },
  {
   "metadata": {
    "ExecuteTime": {
     "end_time": "2025-04-02T02:49:28.307012Z",
     "start_time": "2025-04-02T02:49:28.297436Z"
    }
   },
   "cell_type": "code",
   "source": [
    "# at the second dimension, add a numpy array([0, 1, 0, 0, 0, 0]) to the correct_touch_numpy at the beginning\n",
    "correct_touch_numpy = np.insert(correct_touch_numpy, 0, np.array([[0, 1, 0, 0, 0, 0]]), axis=1)"
   ],
   "id": "f6df8ed2cd03918d",
   "outputs": [],
   "execution_count": 27
  },
  {
   "metadata": {
    "ExecuteTime": {
     "end_time": "2025-04-02T02:49:28.381381Z",
     "start_time": "2025-04-02T02:49:28.369649Z"
    }
   },
   "cell_type": "code",
   "source": "correct_touch_numpy.shape",
   "id": "4b0e962e9d7948c5",
   "outputs": [
    {
     "data": {
      "text/plain": [
       "(11, 301, 6)"
      ]
     },
     "execution_count": 28,
     "metadata": {},
     "output_type": "execute_result"
    }
   ],
   "execution_count": 28
  },
  {
   "metadata": {
    "ExecuteTime": {
     "end_time": "2025-04-02T02:49:28.457722Z",
     "start_time": "2025-04-02T02:49:28.446706Z"
    }
   },
   "cell_type": "code",
   "source": "correct_touch_numpy[1, 0]",
   "id": "e61d33be68e3f401",
   "outputs": [
    {
     "data": {
      "text/plain": [
       "array([0., 1., 0., 0., 0., 0.])"
      ]
     },
     "execution_count": 29,
     "metadata": {},
     "output_type": "execute_result"
    }
   ],
   "execution_count": 29
  },
  {
   "metadata": {
    "ExecuteTime": {
     "end_time": "2025-04-02T02:49:28.639014Z",
     "start_time": "2025-04-02T02:49:28.526304Z"
    }
   },
   "cell_type": "code",
   "source": [
    "# use the get_data_before_timestamp function for the wrong_right_touch timestamps to get a list of dataframes\n",
    "wrong_right_touch_dataframes: list = []\n",
    "for timestamp in wrong_right_touch:\n",
    "    wrong_right_touch_dataframes.append(get_data_before_timestamp(pd_pickle, timestamp, duration))"
   ],
   "id": "34a48e6cb823cd43",
   "outputs": [],
   "execution_count": 30
  },
  {
   "metadata": {
    "ExecuteTime": {
     "end_time": "2025-04-02T02:49:28.809090Z",
     "start_time": "2025-04-02T02:49:28.798058Z"
    }
   },
   "cell_type": "code",
   "source": [
    "# turn the list of dataframes into a numpy array\n",
    "wrong_right_touch_numpy: np.array = np.array(wrong_right_touch_dataframes)"
   ],
   "id": "dcaca8343bb7b8db",
   "outputs": [],
   "execution_count": 31
  },
  {
   "metadata": {
    "ExecuteTime": {
     "end_time": "2025-04-02T02:49:28.949785Z",
     "start_time": "2025-04-02T02:49:28.934276Z"
    }
   },
   "cell_type": "code",
   "source": "wrong_right_touch_numpy.shape",
   "id": "b0840ee2ab6dc375",
   "outputs": [
    {
     "data": {
      "text/plain": [
       "(10, 300, 6)"
      ]
     },
     "execution_count": 32,
     "metadata": {},
     "output_type": "execute_result"
    }
   ],
   "execution_count": 32
  },
  {
   "metadata": {
    "ExecuteTime": {
     "end_time": "2025-04-02T02:49:29.210701Z",
     "start_time": "2025-04-02T02:49:29.204821Z"
    }
   },
   "cell_type": "code",
   "source": [
    "# at the second dimension, add a numpy array([1, 1, 0, 0, 0, 0]) to the wrong_right_touch_numpy at the beginning\n",
    "wrong_right_touch_numpy = np.insert(wrong_right_touch_numpy, 0, np.array([[1, 2, 0, 0, 0, 0]]), axis=1)"
   ],
   "id": "dcec207b2f135606",
   "outputs": [],
   "execution_count": 33
  },
  {
   "metadata": {
    "ExecuteTime": {
     "end_time": "2025-04-02T02:49:29.271608Z",
     "start_time": "2025-04-02T02:49:29.264138Z"
    }
   },
   "cell_type": "code",
   "source": "wrong_right_touch_numpy.shape",
   "id": "768e50c1df533e66",
   "outputs": [
    {
     "data": {
      "text/plain": [
       "(10, 301, 6)"
      ]
     },
     "execution_count": 34,
     "metadata": {},
     "output_type": "execute_result"
    }
   ],
   "execution_count": 34
  },
  {
   "metadata": {
    "ExecuteTime": {
     "end_time": "2025-04-02T02:49:29.410488Z",
     "start_time": "2025-04-02T02:49:29.402648Z"
    }
   },
   "cell_type": "code",
   "source": "wrong_right_touch_numpy[0, 0]",
   "id": "18a684e412c01599",
   "outputs": [
    {
     "data": {
      "text/plain": [
       "array([1., 2., 0., 0., 0., 0.])"
      ]
     },
     "execution_count": 35,
     "metadata": {},
     "output_type": "execute_result"
    }
   ],
   "execution_count": 35
  },
  {
   "metadata": {
    "ExecuteTime": {
     "end_time": "2025-04-02T02:49:29.624963Z",
     "start_time": "2025-04-02T02:49:29.531380Z"
    }
   },
   "cell_type": "code",
   "source": [
    "# use the get_data_before_timestamp function for the wrong_left_touch timestamps to get a list of dataframes\n",
    "wrong_left_touch_dataframes: list = []\n",
    "for timestamp in wrong_left_touch:\n",
    "    wrong_left_touch_dataframes.append(get_data_before_timestamp(pd_pickle, timestamp, duration))"
   ],
   "id": "6f130a79de2568c8",
   "outputs": [],
   "execution_count": 36
  },
  {
   "metadata": {
    "ExecuteTime": {
     "end_time": "2025-04-02T02:49:29.776477Z",
     "start_time": "2025-04-02T02:49:29.766750Z"
    }
   },
   "cell_type": "code",
   "source": [
    "# turn the list of dataframes into a numpy array\n",
    "wrong_left_touch_numpy: np.array = np.array(wrong_left_touch_dataframes)"
   ],
   "id": "4f28e813f874abc5",
   "outputs": [],
   "execution_count": 37
  },
  {
   "metadata": {
    "ExecuteTime": {
     "end_time": "2025-04-02T02:49:30.060018Z",
     "start_time": "2025-04-02T02:49:30.039336Z"
    }
   },
   "cell_type": "code",
   "source": "wrong_left_touch_numpy.shape",
   "id": "16535a4d29d11a07",
   "outputs": [
    {
     "data": {
      "text/plain": [
       "(10, 300, 6)"
      ]
     },
     "execution_count": 38,
     "metadata": {},
     "output_type": "execute_result"
    }
   ],
   "execution_count": 38
  },
  {
   "metadata": {
    "ExecuteTime": {
     "end_time": "2025-04-02T02:49:30.171017Z",
     "start_time": "2025-04-02T02:49:30.164924Z"
    }
   },
   "cell_type": "code",
   "source": [
    "# at the second dimension, add a numpy array([2, 1, 0, 0, 0, 0]) to the wrong_left_touch_numpy at the beginning\n",
    "wrong_left_touch_numpy = np.insert(wrong_left_touch_numpy, 0, np.array([[2, 3, 0, 0, 0, 0]]), axis=1)"
   ],
   "id": "ac69bac0e14a1ece",
   "outputs": [],
   "execution_count": 39
  },
  {
   "metadata": {
    "ExecuteTime": {
     "end_time": "2025-04-02T02:49:30.373554Z",
     "start_time": "2025-04-02T02:49:30.366655Z"
    }
   },
   "cell_type": "code",
   "source": "wrong_left_touch_numpy.shape",
   "id": "c8120ef3faceaa8d",
   "outputs": [
    {
     "data": {
      "text/plain": [
       "(10, 301, 6)"
      ]
     },
     "execution_count": 40,
     "metadata": {},
     "output_type": "execute_result"
    }
   ],
   "execution_count": 40
  },
  {
   "metadata": {
    "ExecuteTime": {
     "end_time": "2025-04-02T02:50:04.218914Z",
     "start_time": "2025-04-02T02:50:04.208965Z"
    }
   },
   "cell_type": "code",
   "source": "wrong_left_touch_numpy[0, 0]",
   "id": "6565f48a1a4f1158",
   "outputs": [
    {
     "data": {
      "text/plain": [
       "array([2., 3., 0., 0., 0., 0.])"
      ]
     },
     "execution_count": 41,
     "metadata": {},
     "output_type": "execute_result"
    }
   ],
   "execution_count": 41
  },
  {
   "metadata": {
    "ExecuteTime": {
     "end_time": "2025-04-02T02:50:08.463048Z",
     "start_time": "2025-04-02T02:50:08.458210Z"
    }
   },
   "cell_type": "code",
   "source": [
    "# combine the correct_touch_numpy, wrong_right_touch_numpy, and wrong_left_touch_numpy\n",
    "combined_numpy = np.concatenate((correct_touch_numpy, wrong_right_touch_numpy, wrong_left_touch_numpy))"
   ],
   "id": "9f7ffbb8717bf3ab",
   "outputs": [],
   "execution_count": 42
  },
  {
   "metadata": {
    "ExecuteTime": {
     "end_time": "2025-04-02T02:50:10.237364Z",
     "start_time": "2025-04-02T02:50:10.228527Z"
    }
   },
   "cell_type": "code",
   "source": "combined_numpy.shape",
   "id": "843232ce0cf5b653",
   "outputs": [
    {
     "data": {
      "text/plain": [
       "(31, 301, 6)"
      ]
     },
     "execution_count": 43,
     "metadata": {},
     "output_type": "execute_result"
    }
   ],
   "execution_count": 43
  },
  {
   "metadata": {
    "ExecuteTime": {
     "end_time": "2025-04-02T02:51:28.154355Z",
     "start_time": "2025-04-02T02:51:28.146857Z"
    }
   },
   "cell_type": "code",
   "source": [
    "# save the combined_numpy_final as a .pkl file using pickle\n",
    "import pickle\n",
    "import os\n",
    "dir = '../classification_forward/data'\n",
    "# make sure the directory exists\n",
    "if not os.path.exists(dir):\n",
    "    os.makedirs(dir)\n",
    "path = os.path.join(dir, 'combined_numpy_1.pkl')\n",
    "\n",
    "with open(path, 'wb') as f:\n",
    "    pickle.dump(combined_numpy, f)"
   ],
   "id": "8ea0295ad4dd16c8",
   "outputs": [],
   "execution_count": 45
  },
  {
   "metadata": {
    "ExecuteTime": {
     "end_time": "2025-03-31T08:14:55.162932Z",
     "start_time": "2025-03-31T08:14:55.125801Z"
    }
   },
   "cell_type": "code",
   "source": "show_column(pd_pickle, 'AccX', (\"2025-03-26 15:06:15.500\", \"2025-03-26 15:06:18.500\"))",
   "id": "ba5e6801cf35ece8",
   "outputs": [
    {
     "data": {
      "text/plain": [
       "<IPython.core.display.Javascript object>"
      ],
      "application/javascript": "/* Put everything inside the global mpl namespace */\n/* global mpl */\nwindow.mpl = {};\n\nmpl.get_websocket_type = function () {\n    if (typeof WebSocket !== 'undefined') {\n        return WebSocket;\n    } else if (typeof MozWebSocket !== 'undefined') {\n        return MozWebSocket;\n    } else {\n        alert(\n            'Your browser does not have WebSocket support. ' +\n                'Please try Chrome, Safari or Firefox ≥ 6. ' +\n                'Firefox 4 and 5 are also supported but you ' +\n                'have to enable WebSockets in about:config.'\n        );\n    }\n};\n\nmpl.figure = function (figure_id, websocket, ondownload, parent_element) {\n    this.id = figure_id;\n\n    this.ws = websocket;\n\n    this.supports_binary = this.ws.binaryType !== undefined;\n\n    if (!this.supports_binary) {\n        var warnings = document.getElementById('mpl-warnings');\n        if (warnings) {\n            warnings.style.display = 'block';\n            warnings.textContent =\n                'This browser does not support binary websocket messages. ' +\n                'Performance may be slow.';\n        }\n    }\n\n    this.imageObj = new Image();\n\n    this.context = undefined;\n    this.message = undefined;\n    this.canvas = undefined;\n    this.rubberband_canvas = undefined;\n    this.rubberband_context = undefined;\n    this.format_dropdown = undefined;\n\n    this.image_mode = 'full';\n\n    this.root = document.createElement('div');\n    this.root.setAttribute('style', 'display: inline-block');\n    this._root_extra_style(this.root);\n\n    parent_element.appendChild(this.root);\n\n    this._init_header(this);\n    this._init_canvas(this);\n    this._init_toolbar(this);\n\n    var fig = this;\n\n    this.waiting = false;\n\n    this.ws.onopen = function () {\n        fig.send_message('supports_binary', { value: fig.supports_binary });\n        fig.send_message('send_image_mode', {});\n        if (fig.ratio !== 1) {\n            fig.send_message('set_device_pixel_ratio', {\n                device_pixel_ratio: fig.ratio,\n            });\n        }\n        fig.send_message('refresh', {});\n    };\n\n    this.imageObj.onload = function () {\n        if (fig.image_mode === 'full') {\n            // Full images could contain transparency (where diff images\n            // almost always do), so we need to clear the canvas so that\n            // there is no ghosting.\n            fig.context.clearRect(0, 0, fig.canvas.width, fig.canvas.height);\n        }\n        fig.context.drawImage(fig.imageObj, 0, 0);\n    };\n\n    this.imageObj.onunload = function () {\n        fig.ws.close();\n    };\n\n    this.ws.onmessage = this._make_on_message_function(this);\n\n    this.ondownload = ondownload;\n};\n\nmpl.figure.prototype._init_header = function () {\n    var titlebar = document.createElement('div');\n    titlebar.classList =\n        'ui-dialog-titlebar ui-widget-header ui-corner-all ui-helper-clearfix';\n    var titletext = document.createElement('div');\n    titletext.classList = 'ui-dialog-title';\n    titletext.setAttribute(\n        'style',\n        'width: 100%; text-align: center; padding: 3px;'\n    );\n    titlebar.appendChild(titletext);\n    this.root.appendChild(titlebar);\n    this.header = titletext;\n};\n\nmpl.figure.prototype._canvas_extra_style = function (_canvas_div) {};\n\nmpl.figure.prototype._root_extra_style = function (_canvas_div) {};\n\nmpl.figure.prototype._init_canvas = function () {\n    var fig = this;\n\n    var canvas_div = (this.canvas_div = document.createElement('div'));\n    canvas_div.setAttribute('tabindex', '0');\n    canvas_div.setAttribute(\n        'style',\n        'border: 1px solid #ddd;' +\n            'box-sizing: content-box;' +\n            'clear: both;' +\n            'min-height: 1px;' +\n            'min-width: 1px;' +\n            'outline: 0;' +\n            'overflow: hidden;' +\n            'position: relative;' +\n            'resize: both;' +\n            'z-index: 2;'\n    );\n\n    function on_keyboard_event_closure(name) {\n        return function (event) {\n            return fig.key_event(event, name);\n        };\n    }\n\n    canvas_div.addEventListener(\n        'keydown',\n        on_keyboard_event_closure('key_press')\n    );\n    canvas_div.addEventListener(\n        'keyup',\n        on_keyboard_event_closure('key_release')\n    );\n\n    this._canvas_extra_style(canvas_div);\n    this.root.appendChild(canvas_div);\n\n    var canvas = (this.canvas = document.createElement('canvas'));\n    canvas.classList.add('mpl-canvas');\n    canvas.setAttribute(\n        'style',\n        'box-sizing: content-box;' +\n            'pointer-events: none;' +\n            'position: relative;' +\n            'z-index: 0;'\n    );\n\n    this.context = canvas.getContext('2d');\n\n    var backingStore =\n        this.context.backingStorePixelRatio ||\n        this.context.webkitBackingStorePixelRatio ||\n        this.context.mozBackingStorePixelRatio ||\n        this.context.msBackingStorePixelRatio ||\n        this.context.oBackingStorePixelRatio ||\n        this.context.backingStorePixelRatio ||\n        1;\n\n    this.ratio = (window.devicePixelRatio || 1) / backingStore;\n\n    var rubberband_canvas = (this.rubberband_canvas = document.createElement(\n        'canvas'\n    ));\n    rubberband_canvas.setAttribute(\n        'style',\n        'box-sizing: content-box;' +\n            'left: 0;' +\n            'pointer-events: none;' +\n            'position: absolute;' +\n            'top: 0;' +\n            'z-index: 1;'\n    );\n\n    // Apply a ponyfill if ResizeObserver is not implemented by browser.\n    if (this.ResizeObserver === undefined) {\n        if (window.ResizeObserver !== undefined) {\n            this.ResizeObserver = window.ResizeObserver;\n        } else {\n            var obs = _JSXTOOLS_RESIZE_OBSERVER({});\n            this.ResizeObserver = obs.ResizeObserver;\n        }\n    }\n\n    this.resizeObserverInstance = new this.ResizeObserver(function (entries) {\n        // There's no need to resize if the WebSocket is not connected:\n        // - If it is still connecting, then we will get an initial resize from\n        //   Python once it connects.\n        // - If it has disconnected, then resizing will clear the canvas and\n        //   never get anything back to refill it, so better to not resize and\n        //   keep something visible.\n        if (fig.ws.readyState != 1) {\n            return;\n        }\n        var nentries = entries.length;\n        for (var i = 0; i < nentries; i++) {\n            var entry = entries[i];\n            var width, height;\n            if (entry.contentBoxSize) {\n                if (entry.contentBoxSize instanceof Array) {\n                    // Chrome 84 implements new version of spec.\n                    width = entry.contentBoxSize[0].inlineSize;\n                    height = entry.contentBoxSize[0].blockSize;\n                } else {\n                    // Firefox implements old version of spec.\n                    width = entry.contentBoxSize.inlineSize;\n                    height = entry.contentBoxSize.blockSize;\n                }\n            } else {\n                // Chrome <84 implements even older version of spec.\n                width = entry.contentRect.width;\n                height = entry.contentRect.height;\n            }\n\n            // Keep the size of the canvas and rubber band canvas in sync with\n            // the canvas container.\n            if (entry.devicePixelContentBoxSize) {\n                // Chrome 84 implements new version of spec.\n                canvas.setAttribute(\n                    'width',\n                    entry.devicePixelContentBoxSize[0].inlineSize\n                );\n                canvas.setAttribute(\n                    'height',\n                    entry.devicePixelContentBoxSize[0].blockSize\n                );\n            } else {\n                canvas.setAttribute('width', width * fig.ratio);\n                canvas.setAttribute('height', height * fig.ratio);\n            }\n            /* This rescales the canvas back to display pixels, so that it\n             * appears correct on HiDPI screens. */\n            canvas.style.width = width + 'px';\n            canvas.style.height = height + 'px';\n\n            rubberband_canvas.setAttribute('width', width);\n            rubberband_canvas.setAttribute('height', height);\n\n            // And update the size in Python. We ignore the initial 0/0 size\n            // that occurs as the element is placed into the DOM, which should\n            // otherwise not happen due to the minimum size styling.\n            if (width != 0 && height != 0) {\n                fig.request_resize(width, height);\n            }\n        }\n    });\n    this.resizeObserverInstance.observe(canvas_div);\n\n    function on_mouse_event_closure(name) {\n        /* User Agent sniffing is bad, but WebKit is busted:\n         * https://bugs.webkit.org/show_bug.cgi?id=144526\n         * https://bugs.webkit.org/show_bug.cgi?id=181818\n         * The worst that happens here is that they get an extra browser\n         * selection when dragging, if this check fails to catch them.\n         */\n        var UA = navigator.userAgent;\n        var isWebKit = /AppleWebKit/.test(UA) && !/Chrome/.test(UA);\n        if(isWebKit) {\n            return function (event) {\n                /* This prevents the web browser from automatically changing to\n                 * the text insertion cursor when the button is pressed. We\n                 * want to control all of the cursor setting manually through\n                 * the 'cursor' event from matplotlib */\n                event.preventDefault()\n                return fig.mouse_event(event, name);\n            };\n        } else {\n            return function (event) {\n                return fig.mouse_event(event, name);\n            };\n        }\n    }\n\n    canvas_div.addEventListener(\n        'mousedown',\n        on_mouse_event_closure('button_press')\n    );\n    canvas_div.addEventListener(\n        'mouseup',\n        on_mouse_event_closure('button_release')\n    );\n    canvas_div.addEventListener(\n        'dblclick',\n        on_mouse_event_closure('dblclick')\n    );\n    // Throttle sequential mouse events to 1 every 20ms.\n    canvas_div.addEventListener(\n        'mousemove',\n        on_mouse_event_closure('motion_notify')\n    );\n\n    canvas_div.addEventListener(\n        'mouseenter',\n        on_mouse_event_closure('figure_enter')\n    );\n    canvas_div.addEventListener(\n        'mouseleave',\n        on_mouse_event_closure('figure_leave')\n    );\n\n    canvas_div.addEventListener('wheel', function (event) {\n        if (event.deltaY < 0) {\n            event.step = 1;\n        } else {\n            event.step = -1;\n        }\n        on_mouse_event_closure('scroll')(event);\n    });\n\n    canvas_div.appendChild(canvas);\n    canvas_div.appendChild(rubberband_canvas);\n\n    this.rubberband_context = rubberband_canvas.getContext('2d');\n    this.rubberband_context.strokeStyle = '#000000';\n\n    this._resize_canvas = function (width, height, forward) {\n        if (forward) {\n            canvas_div.style.width = width + 'px';\n            canvas_div.style.height = height + 'px';\n        }\n    };\n\n    // Disable right mouse context menu.\n    canvas_div.addEventListener('contextmenu', function (_e) {\n        event.preventDefault();\n        return false;\n    });\n\n    function set_focus() {\n        canvas.focus();\n        canvas_div.focus();\n    }\n\n    window.setTimeout(set_focus, 100);\n};\n\nmpl.figure.prototype._init_toolbar = function () {\n    var fig = this;\n\n    var toolbar = document.createElement('div');\n    toolbar.classList = 'mpl-toolbar';\n    this.root.appendChild(toolbar);\n\n    function on_click_closure(name) {\n        return function (_event) {\n            return fig.toolbar_button_onclick(name);\n        };\n    }\n\n    function on_mouseover_closure(tooltip) {\n        return function (event) {\n            if (!event.currentTarget.disabled) {\n                return fig.toolbar_button_onmouseover(tooltip);\n            }\n        };\n    }\n\n    fig.buttons = {};\n    var buttonGroup = document.createElement('div');\n    buttonGroup.classList = 'mpl-button-group';\n    for (var toolbar_ind in mpl.toolbar_items) {\n        var name = mpl.toolbar_items[toolbar_ind][0];\n        var tooltip = mpl.toolbar_items[toolbar_ind][1];\n        var image = mpl.toolbar_items[toolbar_ind][2];\n        var method_name = mpl.toolbar_items[toolbar_ind][3];\n\n        if (!name) {\n            /* Instead of a spacer, we start a new button group. */\n            if (buttonGroup.hasChildNodes()) {\n                toolbar.appendChild(buttonGroup);\n            }\n            buttonGroup = document.createElement('div');\n            buttonGroup.classList = 'mpl-button-group';\n            continue;\n        }\n\n        var button = (fig.buttons[name] = document.createElement('button'));\n        button.classList = 'mpl-widget';\n        button.setAttribute('role', 'button');\n        button.setAttribute('aria-disabled', 'false');\n        button.addEventListener('click', on_click_closure(method_name));\n        button.addEventListener('mouseover', on_mouseover_closure(tooltip));\n\n        var icon_img = document.createElement('img');\n        icon_img.src = '_images/' + image + '.png';\n        icon_img.srcset = '_images/' + image + '_large.png 2x';\n        icon_img.alt = tooltip;\n        button.appendChild(icon_img);\n\n        buttonGroup.appendChild(button);\n    }\n\n    if (buttonGroup.hasChildNodes()) {\n        toolbar.appendChild(buttonGroup);\n    }\n\n    var fmt_picker = document.createElement('select');\n    fmt_picker.classList = 'mpl-widget';\n    toolbar.appendChild(fmt_picker);\n    this.format_dropdown = fmt_picker;\n\n    for (var ind in mpl.extensions) {\n        var fmt = mpl.extensions[ind];\n        var option = document.createElement('option');\n        option.selected = fmt === mpl.default_extension;\n        option.innerHTML = fmt;\n        fmt_picker.appendChild(option);\n    }\n\n    var status_bar = document.createElement('span');\n    status_bar.classList = 'mpl-message';\n    toolbar.appendChild(status_bar);\n    this.message = status_bar;\n};\n\nmpl.figure.prototype.request_resize = function (x_pixels, y_pixels) {\n    // Request matplotlib to resize the figure. Matplotlib will then trigger a resize in the client,\n    // which will in turn request a refresh of the image.\n    this.send_message('resize', { width: x_pixels, height: y_pixels });\n};\n\nmpl.figure.prototype.send_message = function (type, properties) {\n    properties['type'] = type;\n    properties['figure_id'] = this.id;\n    this.ws.send(JSON.stringify(properties));\n};\n\nmpl.figure.prototype.send_draw_message = function () {\n    if (!this.waiting) {\n        this.waiting = true;\n        this.ws.send(JSON.stringify({ type: 'draw', figure_id: this.id }));\n    }\n};\n\nmpl.figure.prototype.handle_save = function (fig, _msg) {\n    var format_dropdown = fig.format_dropdown;\n    var format = format_dropdown.options[format_dropdown.selectedIndex].value;\n    fig.ondownload(fig, format);\n};\n\nmpl.figure.prototype.handle_resize = function (fig, msg) {\n    var size = msg['size'];\n    if (size[0] !== fig.canvas.width || size[1] !== fig.canvas.height) {\n        fig._resize_canvas(size[0], size[1], msg['forward']);\n        fig.send_message('refresh', {});\n    }\n};\n\nmpl.figure.prototype.handle_rubberband = function (fig, msg) {\n    var x0 = msg['x0'] / fig.ratio;\n    var y0 = (fig.canvas.height - msg['y0']) / fig.ratio;\n    var x1 = msg['x1'] / fig.ratio;\n    var y1 = (fig.canvas.height - msg['y1']) / fig.ratio;\n    x0 = Math.floor(x0) + 0.5;\n    y0 = Math.floor(y0) + 0.5;\n    x1 = Math.floor(x1) + 0.5;\n    y1 = Math.floor(y1) + 0.5;\n    var min_x = Math.min(x0, x1);\n    var min_y = Math.min(y0, y1);\n    var width = Math.abs(x1 - x0);\n    var height = Math.abs(y1 - y0);\n\n    fig.rubberband_context.clearRect(\n        0,\n        0,\n        fig.canvas.width / fig.ratio,\n        fig.canvas.height / fig.ratio\n    );\n\n    fig.rubberband_context.strokeRect(min_x, min_y, width, height);\n};\n\nmpl.figure.prototype.handle_figure_label = function (fig, msg) {\n    // Updates the figure title.\n    fig.header.textContent = msg['label'];\n};\n\nmpl.figure.prototype.handle_cursor = function (fig, msg) {\n    fig.canvas_div.style.cursor = msg['cursor'];\n};\n\nmpl.figure.prototype.handle_message = function (fig, msg) {\n    fig.message.textContent = msg['message'];\n};\n\nmpl.figure.prototype.handle_draw = function (fig, _msg) {\n    // Request the server to send over a new figure.\n    fig.send_draw_message();\n};\n\nmpl.figure.prototype.handle_image_mode = function (fig, msg) {\n    fig.image_mode = msg['mode'];\n};\n\nmpl.figure.prototype.handle_history_buttons = function (fig, msg) {\n    for (var key in msg) {\n        if (!(key in fig.buttons)) {\n            continue;\n        }\n        fig.buttons[key].disabled = !msg[key];\n        fig.buttons[key].setAttribute('aria-disabled', !msg[key]);\n    }\n};\n\nmpl.figure.prototype.handle_navigate_mode = function (fig, msg) {\n    if (msg['mode'] === 'PAN') {\n        fig.buttons['Pan'].classList.add('active');\n        fig.buttons['Zoom'].classList.remove('active');\n    } else if (msg['mode'] === 'ZOOM') {\n        fig.buttons['Pan'].classList.remove('active');\n        fig.buttons['Zoom'].classList.add('active');\n    } else {\n        fig.buttons['Pan'].classList.remove('active');\n        fig.buttons['Zoom'].classList.remove('active');\n    }\n};\n\nmpl.figure.prototype.updated_canvas_event = function () {\n    // Called whenever the canvas gets updated.\n    this.send_message('ack', {});\n};\n\n// A function to construct a web socket function for onmessage handling.\n// Called in the figure constructor.\nmpl.figure.prototype._make_on_message_function = function (fig) {\n    return function socket_on_message(evt) {\n        if (evt.data instanceof Blob) {\n            var img = evt.data;\n            if (img.type !== 'image/png') {\n                /* FIXME: We get \"Resource interpreted as Image but\n                 * transferred with MIME type text/plain:\" errors on\n                 * Chrome.  But how to set the MIME type?  It doesn't seem\n                 * to be part of the websocket stream */\n                img.type = 'image/png';\n            }\n\n            /* Free the memory for the previous frames */\n            if (fig.imageObj.src) {\n                (window.URL || window.webkitURL).revokeObjectURL(\n                    fig.imageObj.src\n                );\n            }\n\n            fig.imageObj.src = (window.URL || window.webkitURL).createObjectURL(\n                img\n            );\n            fig.updated_canvas_event();\n            fig.waiting = false;\n            return;\n        } else if (\n            typeof evt.data === 'string' &&\n            evt.data.slice(0, 21) === 'data:image/png;base64'\n        ) {\n            fig.imageObj.src = evt.data;\n            fig.updated_canvas_event();\n            fig.waiting = false;\n            return;\n        }\n\n        var msg = JSON.parse(evt.data);\n        var msg_type = msg['type'];\n\n        // Call the  \"handle_{type}\" callback, which takes\n        // the figure and JSON message as its only arguments.\n        try {\n            var callback = fig['handle_' + msg_type];\n        } catch (e) {\n            console.log(\n                \"No handler for the '\" + msg_type + \"' message type: \",\n                msg\n            );\n            return;\n        }\n\n        if (callback) {\n            try {\n                // console.log(\"Handling '\" + msg_type + \"' message: \", msg);\n                callback(fig, msg);\n            } catch (e) {\n                console.log(\n                    \"Exception inside the 'handler_\" + msg_type + \"' callback:\",\n                    e,\n                    e.stack,\n                    msg\n                );\n            }\n        }\n    };\n};\n\nfunction getModifiers(event) {\n    var mods = [];\n    if (event.ctrlKey) {\n        mods.push('ctrl');\n    }\n    if (event.altKey) {\n        mods.push('alt');\n    }\n    if (event.shiftKey) {\n        mods.push('shift');\n    }\n    if (event.metaKey) {\n        mods.push('meta');\n    }\n    return mods;\n}\n\n/*\n * return a copy of an object with only non-object keys\n * we need this to avoid circular references\n * https://stackoverflow.com/a/24161582/3208463\n */\nfunction simpleKeys(original) {\n    return Object.keys(original).reduce(function (obj, key) {\n        if (typeof original[key] !== 'object') {\n            obj[key] = original[key];\n        }\n        return obj;\n    }, {});\n}\n\nmpl.figure.prototype.mouse_event = function (event, name) {\n    if (name === 'button_press') {\n        this.canvas.focus();\n        this.canvas_div.focus();\n    }\n\n    // from https://stackoverflow.com/q/1114465\n    var boundingRect = this.canvas.getBoundingClientRect();\n    var x = (event.clientX - boundingRect.left) * this.ratio;\n    var y = (event.clientY - boundingRect.top) * this.ratio;\n\n    this.send_message(name, {\n        x: x,\n        y: y,\n        button: event.button,\n        step: event.step,\n        modifiers: getModifiers(event),\n        guiEvent: simpleKeys(event),\n    });\n\n    return false;\n};\n\nmpl.figure.prototype._key_event_extra = function (_event, _name) {\n    // Handle any extra behaviour associated with a key event\n};\n\nmpl.figure.prototype.key_event = function (event, name) {\n    // Prevent repeat events\n    if (name === 'key_press') {\n        if (event.key === this._key) {\n            return;\n        } else {\n            this._key = event.key;\n        }\n    }\n    if (name === 'key_release') {\n        this._key = null;\n    }\n\n    var value = '';\n    if (event.ctrlKey && event.key !== 'Control') {\n        value += 'ctrl+';\n    }\n    else if (event.altKey && event.key !== 'Alt') {\n        value += 'alt+';\n    }\n    else if (event.shiftKey && event.key !== 'Shift') {\n        value += 'shift+';\n    }\n\n    value += 'k' + event.key;\n\n    this._key_event_extra(event, name);\n\n    this.send_message(name, { key: value, guiEvent: simpleKeys(event) });\n    return false;\n};\n\nmpl.figure.prototype.toolbar_button_onclick = function (name) {\n    if (name === 'download') {\n        this.handle_save(this, null);\n    } else {\n        this.send_message('toolbar_button', { name: name });\n    }\n};\n\nmpl.figure.prototype.toolbar_button_onmouseover = function (tooltip) {\n    this.message.textContent = tooltip;\n};\n\n///////////////// REMAINING CONTENT GENERATED BY embed_js.py /////////////////\n// prettier-ignore\nvar _JSXTOOLS_RESIZE_OBSERVER=function(A){var t,i=new WeakMap,n=new WeakMap,a=new WeakMap,r=new WeakMap,o=new Set;function s(e){if(!(this instanceof s))throw new TypeError(\"Constructor requires 'new' operator\");i.set(this,e)}function h(){throw new TypeError(\"Function is not a constructor\")}function c(e,t,i,n){e=0 in arguments?Number(arguments[0]):0,t=1 in arguments?Number(arguments[1]):0,i=2 in arguments?Number(arguments[2]):0,n=3 in arguments?Number(arguments[3]):0,this.right=(this.x=this.left=e)+(this.width=i),this.bottom=(this.y=this.top=t)+(this.height=n),Object.freeze(this)}function d(){t=requestAnimationFrame(d);var s=new WeakMap,p=new Set;o.forEach((function(t){r.get(t).forEach((function(i){var r=t instanceof window.SVGElement,o=a.get(t),d=r?0:parseFloat(o.paddingTop),f=r?0:parseFloat(o.paddingRight),l=r?0:parseFloat(o.paddingBottom),u=r?0:parseFloat(o.paddingLeft),g=r?0:parseFloat(o.borderTopWidth),m=r?0:parseFloat(o.borderRightWidth),w=r?0:parseFloat(o.borderBottomWidth),b=u+f,F=d+l,v=(r?0:parseFloat(o.borderLeftWidth))+m,W=g+w,y=r?0:t.offsetHeight-W-t.clientHeight,E=r?0:t.offsetWidth-v-t.clientWidth,R=b+v,z=F+W,M=r?t.width:parseFloat(o.width)-R-E,O=r?t.height:parseFloat(o.height)-z-y;if(n.has(t)){var k=n.get(t);if(k[0]===M&&k[1]===O)return}n.set(t,[M,O]);var S=Object.create(h.prototype);S.target=t,S.contentRect=new c(u,d,M,O),s.has(i)||(s.set(i,[]),p.add(i)),s.get(i).push(S)}))})),p.forEach((function(e){i.get(e).call(e,s.get(e),e)}))}return s.prototype.observe=function(i){if(i instanceof window.Element){r.has(i)||(r.set(i,new Set),o.add(i),a.set(i,window.getComputedStyle(i)));var n=r.get(i);n.has(this)||n.add(this),cancelAnimationFrame(t),t=requestAnimationFrame(d)}},s.prototype.unobserve=function(i){if(i instanceof window.Element&&r.has(i)){var n=r.get(i);n.has(this)&&(n.delete(this),n.size||(r.delete(i),o.delete(i))),n.size||r.delete(i),o.size||cancelAnimationFrame(t)}},A.DOMRectReadOnly=c,A.ResizeObserver=s,A.ResizeObserverEntry=h,A}; // eslint-disable-line\nmpl.toolbar_items = [[\"Home\", \"Reset original view\", \"fa fa-home\", \"home\"], [\"Back\", \"Back to previous view\", \"fa fa-arrow-left\", \"back\"], [\"Forward\", \"Forward to next view\", \"fa fa-arrow-right\", \"forward\"], [\"\", \"\", \"\", \"\"], [\"Pan\", \"Left button pans, Right button zooms\\nx/y fixes axis, CTRL fixes aspect\", \"fa fa-arrows\", \"pan\"], [\"Zoom\", \"Zoom to rectangle\\nx/y fixes axis\", \"fa fa-square-o\", \"zoom\"], [\"\", \"\", \"\", \"\"], [\"Download\", \"Download plot\", \"fa fa-floppy-o\", \"download\"]];\n\nmpl.extensions = [\"eps\", \"jpeg\", \"pgf\", \"pdf\", \"png\", \"ps\", \"raw\", \"svg\", \"tif\", \"webp\"];\n\nmpl.default_extension = \"png\";/* global mpl */\n\nvar comm_websocket_adapter = function (comm) {\n    // Create a \"websocket\"-like object which calls the given IPython comm\n    // object with the appropriate methods. Currently this is a non binary\n    // socket, so there is still some room for performance tuning.\n    var ws = {};\n\n    ws.binaryType = comm.kernel.ws.binaryType;\n    ws.readyState = comm.kernel.ws.readyState;\n    function updateReadyState(_event) {\n        if (comm.kernel.ws) {\n            ws.readyState = comm.kernel.ws.readyState;\n        } else {\n            ws.readyState = 3; // Closed state.\n        }\n    }\n    comm.kernel.ws.addEventListener('open', updateReadyState);\n    comm.kernel.ws.addEventListener('close', updateReadyState);\n    comm.kernel.ws.addEventListener('error', updateReadyState);\n\n    ws.close = function () {\n        comm.close();\n    };\n    ws.send = function (m) {\n        //console.log('sending', m);\n        comm.send(m);\n    };\n    // Register the callback with on_msg.\n    comm.on_msg(function (msg) {\n        //console.log('receiving', msg['content']['data'], msg);\n        var data = msg['content']['data'];\n        if (data['blob'] !== undefined) {\n            data = {\n                data: new Blob(msg['buffers'], { type: data['blob'] }),\n            };\n        }\n        // Pass the mpl event to the overridden (by mpl) onmessage function.\n        ws.onmessage(data);\n    });\n    return ws;\n};\n\nmpl.mpl_figure_comm = function (comm, msg) {\n    // This is the function which gets called when the mpl process\n    // starts-up an IPython Comm through the \"matplotlib\" channel.\n\n    var id = msg.content.data.id;\n    // Get hold of the div created by the display call when the Comm\n    // socket was opened in Python.\n    var element = document.getElementById(id);\n    var ws_proxy = comm_websocket_adapter(comm);\n\n    function ondownload(figure, _format) {\n        window.open(figure.canvas.toDataURL());\n    }\n\n    var fig = new mpl.figure(id, ws_proxy, ondownload, element);\n\n    // Call onopen now - mpl needs it, as it is assuming we've passed it a real\n    // web socket which is closed, not our websocket->open comm proxy.\n    ws_proxy.onopen();\n\n    fig.parent_element = element;\n    fig.cell_info = mpl.find_output_cell(\"<div id='\" + id + \"'></div>\");\n    if (!fig.cell_info) {\n        console.error('Failed to find cell for figure', id, fig);\n        return;\n    }\n    fig.cell_info[0].output_area.element.on(\n        'cleared',\n        { fig: fig },\n        fig._remove_fig_handler\n    );\n};\n\nmpl.figure.prototype.handle_close = function (fig, msg) {\n    var width = fig.canvas.width / fig.ratio;\n    fig.cell_info[0].output_area.element.off(\n        'cleared',\n        fig._remove_fig_handler\n    );\n    fig.resizeObserverInstance.unobserve(fig.canvas_div);\n\n    // Update the output cell to use the data from the current canvas.\n    fig.push_to_output();\n    var dataURL = fig.canvas.toDataURL();\n    // Re-enable the keyboard manager in IPython - without this line, in FF,\n    // the notebook keyboard shortcuts fail.\n    IPython.keyboard_manager.enable();\n    fig.parent_element.innerHTML =\n        '<img src=\"' + dataURL + '\" width=\"' + width + '\">';\n    fig.close_ws(fig, msg);\n};\n\nmpl.figure.prototype.close_ws = function (fig, msg) {\n    fig.send_message('closing', msg);\n    // fig.ws.close()\n};\n\nmpl.figure.prototype.push_to_output = function (_remove_interactive) {\n    // Turn the data on the canvas into data in the output cell.\n    var width = this.canvas.width / this.ratio;\n    var dataURL = this.canvas.toDataURL();\n    this.cell_info[1]['text/html'] =\n        '<img src=\"' + dataURL + '\" width=\"' + width + '\">';\n};\n\nmpl.figure.prototype.updated_canvas_event = function () {\n    // Tell IPython that the notebook contents must change.\n    IPython.notebook.set_dirty(true);\n    this.send_message('ack', {});\n    var fig = this;\n    // Wait a second, then push the new image to the DOM so\n    // that it is saved nicely (might be nice to debounce this).\n    setTimeout(function () {\n        fig.push_to_output();\n    }, 1000);\n};\n\nmpl.figure.prototype._init_toolbar = function () {\n    var fig = this;\n\n    var toolbar = document.createElement('div');\n    toolbar.classList = 'btn-toolbar';\n    this.root.appendChild(toolbar);\n\n    function on_click_closure(name) {\n        return function (_event) {\n            return fig.toolbar_button_onclick(name);\n        };\n    }\n\n    function on_mouseover_closure(tooltip) {\n        return function (event) {\n            if (!event.currentTarget.disabled) {\n                return fig.toolbar_button_onmouseover(tooltip);\n            }\n        };\n    }\n\n    fig.buttons = {};\n    var buttonGroup = document.createElement('div');\n    buttonGroup.classList = 'btn-group';\n    var button;\n    for (var toolbar_ind in mpl.toolbar_items) {\n        var name = mpl.toolbar_items[toolbar_ind][0];\n        var tooltip = mpl.toolbar_items[toolbar_ind][1];\n        var image = mpl.toolbar_items[toolbar_ind][2];\n        var method_name = mpl.toolbar_items[toolbar_ind][3];\n\n        if (!name) {\n            /* Instead of a spacer, we start a new button group. */\n            if (buttonGroup.hasChildNodes()) {\n                toolbar.appendChild(buttonGroup);\n            }\n            buttonGroup = document.createElement('div');\n            buttonGroup.classList = 'btn-group';\n            continue;\n        }\n\n        button = fig.buttons[name] = document.createElement('button');\n        button.classList = 'btn btn-default';\n        button.href = '#';\n        button.title = name;\n        button.innerHTML = '<i class=\"fa ' + image + ' fa-lg\"></i>';\n        button.addEventListener('click', on_click_closure(method_name));\n        button.addEventListener('mouseover', on_mouseover_closure(tooltip));\n        buttonGroup.appendChild(button);\n    }\n\n    if (buttonGroup.hasChildNodes()) {\n        toolbar.appendChild(buttonGroup);\n    }\n\n    // Add the status bar.\n    var status_bar = document.createElement('span');\n    status_bar.classList = 'mpl-message pull-right';\n    toolbar.appendChild(status_bar);\n    this.message = status_bar;\n\n    // Add the close button to the window.\n    var buttongrp = document.createElement('div');\n    buttongrp.classList = 'btn-group inline pull-right';\n    button = document.createElement('button');\n    button.classList = 'btn btn-mini btn-primary';\n    button.href = '#';\n    button.title = 'Stop Interaction';\n    button.innerHTML = '<i class=\"fa fa-power-off icon-remove icon-large\"></i>';\n    button.addEventListener('click', function (_evt) {\n        fig.handle_close(fig, {});\n    });\n    button.addEventListener(\n        'mouseover',\n        on_mouseover_closure('Stop Interaction')\n    );\n    buttongrp.appendChild(button);\n    var titlebar = this.root.querySelector('.ui-dialog-titlebar');\n    titlebar.insertBefore(buttongrp, titlebar.firstChild);\n};\n\nmpl.figure.prototype._remove_fig_handler = function (event) {\n    var fig = event.data.fig;\n    if (event.target !== this) {\n        // Ignore bubbled events from children.\n        return;\n    }\n    fig.close_ws(fig, {});\n};\n\nmpl.figure.prototype._root_extra_style = function (el) {\n    el.style.boxSizing = 'content-box'; // override notebook setting of border-box.\n};\n\nmpl.figure.prototype._canvas_extra_style = function (el) {\n    // this is important to make the div 'focusable\n    el.setAttribute('tabindex', 0);\n    // reach out to IPython and tell the keyboard manager to turn it's self\n    // off when our div gets focus\n\n    // location in version 3\n    if (IPython.notebook.keyboard_manager) {\n        IPython.notebook.keyboard_manager.register_events(el);\n    } else {\n        // location in version 2\n        IPython.keyboard_manager.register_events(el);\n    }\n};\n\nmpl.figure.prototype._key_event_extra = function (event, _name) {\n    // Check for shift+enter\n    if (event.shiftKey && event.which === 13) {\n        this.canvas_div.blur();\n        // select the cell after this one\n        var index = IPython.notebook.find_cell_index(this.cell_info[0]);\n        IPython.notebook.select(index + 1);\n    }\n};\n\nmpl.figure.prototype.handle_save = function (fig, _msg) {\n    fig.ondownload(fig, null);\n};\n\nmpl.find_output_cell = function (html_output) {\n    // Return the cell and output element which can be found *uniquely* in the notebook.\n    // Note - this is a bit hacky, but it is done because the \"notebook_saving.Notebook\"\n    // IPython event is triggered only after the cells have been serialised, which for\n    // our purposes (turning an active figure into a static one), is too late.\n    var cells = IPython.notebook.get_cells();\n    var ncells = cells.length;\n    for (var i = 0; i < ncells; i++) {\n        var cell = cells[i];\n        if (cell.cell_type === 'code') {\n            for (var j = 0; j < cell.output_area.outputs.length; j++) {\n                var data = cell.output_area.outputs[j];\n                if (data.data) {\n                    // IPython >= 3 moved mimebundle to data attribute of output\n                    data = data.data;\n                }\n                if (data['text/html'] === html_output) {\n                    return [cell, data, j];\n                }\n            }\n        }\n    }\n};\n\n// Register the function which deals with the matplotlib target/channel.\n// The kernel may be null if the page has been refreshed.\nif (IPython.notebook.kernel !== null) {\n    IPython.notebook.kernel.comm_manager.register_target(\n        'matplotlib',\n        mpl.mpl_figure_comm\n    );\n}\n"
     },
     "metadata": {},
     "output_type": "display_data"
    },
    {
     "data": {
      "text/plain": [
       "<IPython.core.display.HTML object>"
      ],
      "text/html": [
       "<div id='18b02dfd-7084-45d4-8c0f-6f9873dcf19b'></div>"
      ]
     },
     "metadata": {},
     "output_type": "display_data"
    }
   ],
   "execution_count": 220
  },
  {
   "metadata": {},
   "cell_type": "code",
   "outputs": [],
   "execution_count": null,
   "source": "",
   "id": "34ad3eda8ec390de"
  }
 ],
 "metadata": {
  "kernelspec": {
   "display_name": "Python 3 (ipykernel)",
   "language": "python",
   "name": "python3"
  },
  "language_info": {
   "codemirror_mode": {
    "name": "ipython",
    "version": 2
   },
   "file_extension": ".py",
   "mimetype": "text/x-python",
   "name": "python",
   "nbconvert_exporter": "python",
   "pygments_lexer": "ipython2",
   "version": "2.7.6"
  }
 },
 "nbformat": 4,
 "nbformat_minor": 5
}
