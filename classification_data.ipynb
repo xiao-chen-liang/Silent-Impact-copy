{
 "cells": [
  {
   "cell_type": "code",
   "id": "initial_id",
   "metadata": {
    "collapsed": true,
    "ExecuteTime": {
     "end_time": "2025-03-30T06:50:50.695685Z",
     "start_time": "2025-03-30T06:50:50.650313Z"
    }
   },
   "source": [
    "import pickle\n",
    "\n",
    "# Load the .pkl file\n",
    "with open(\"data/Classification_Dominant.pkl\", \"rb\") as f:\n",
    "    data = pickle.load(f)\n"
   ],
   "outputs": [],
   "execution_count": 2
  },
  {
   "metadata": {
    "ExecuteTime": {
     "end_time": "2025-03-30T06:50:54.937030Z",
     "start_time": "2025-03-30T06:50:54.930959Z"
    }
   },
   "cell_type": "code",
   "source": [
    "import sys\n",
    "\n",
    "# print the python location\n",
    "print(sys.executable)\n",
    "# print the location of the script\n",
    "print(sys.argv)\n"
   ],
   "id": "759210643459382",
   "outputs": [
    {
     "name": "stdout",
     "output_type": "stream",
     "text": [
      "/home/yu/anaconda3/envs/torch_env/bin/python3.9\n",
      "['/home/yu/anaconda3/envs/torch_env/lib/python3.9/site-packages/ipykernel_launcher.py', '-f', '/home/yu/.local/share/jupyter/runtime/kernel-09968bc4-c336-43ae-ab00-2ed2b484f66b.json']\n"
     ]
    }
   ],
   "execution_count": 3
  },
  {
   "metadata": {
    "ExecuteTime": {
     "end_time": "2025-03-30T06:51:22.800706Z",
     "start_time": "2025-03-30T06:51:22.790913Z"
    }
   },
   "cell_type": "code",
   "source": "type(data)",
   "id": "7ecf73493b25fbee",
   "outputs": [
    {
     "data": {
      "text/plain": [
       "numpy.ndarray"
      ]
     },
     "execution_count": 4,
     "metadata": {},
     "output_type": "execute_result"
    }
   ],
   "execution_count": 4
  },
  {
   "metadata": {
    "ExecuteTime": {
     "end_time": "2025-03-30T06:51:23.375681Z",
     "start_time": "2025-03-30T06:51:23.368313Z"
    }
   },
   "cell_type": "code",
   "source": [
    "# show the dimension of the data\n",
    "data.shape"
   ],
   "id": "fa91510bea768343",
   "outputs": [
    {
     "data": {
      "text/plain": [
       "(6000, 181, 6)"
      ]
     },
     "execution_count": 5,
     "metadata": {},
     "output_type": "execute_result"
    }
   ],
   "execution_count": 5
  },
  {
   "metadata": {
    "ExecuteTime": {
     "end_time": "2025-03-30T06:51:40.679547Z",
     "start_time": "2025-03-30T06:51:40.672825Z"
    }
   },
   "cell_type": "code",
   "source": "data[0, 0]",
   "id": "571c193a99015a82",
   "outputs": [
    {
     "data": {
      "text/plain": [
       "array([0., 1., 0., 0., 0., 0.])"
      ]
     },
     "execution_count": 6,
     "metadata": {},
     "output_type": "execute_result"
    }
   ],
   "execution_count": 6
  },
  {
   "metadata": {
    "ExecuteTime": {
     "end_time": "2025-03-30T06:52:30.197513Z",
     "start_time": "2025-03-30T06:52:30.190069Z"
    }
   },
   "cell_type": "code",
   "source": "data[5000, 0]",
   "id": "4ad50ee4e24060eb",
   "outputs": [
    {
     "data": {
      "text/plain": [
       "array([ 4., 17.,  0.,  0.,  0.,  0.])"
      ]
     },
     "execution_count": 11,
     "metadata": {},
     "output_type": "execute_result"
    }
   ],
   "execution_count": 11
  }
 ],
 "metadata": {
  "kernelspec": {
   "display_name": "Python 3 (ipykernel)",
   "language": "python",
   "name": "python3"
  },
  "language_info": {
   "codemirror_mode": {
    "name": "ipython",
    "version": 2
   },
   "file_extension": ".py",
   "mimetype": "text/x-python",
   "name": "python",
   "nbconvert_exporter": "python",
   "pygments_lexer": "ipython2",
   "version": "2.7.6"
  }
 },
 "nbformat": 4,
 "nbformat_minor": 5
}
