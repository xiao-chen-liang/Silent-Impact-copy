{
 "cells": [
  {
   "cell_type": "code",
   "id": "initial_id",
   "metadata": {
    "collapsed": true,
    "ExecuteTime": {
     "end_time": "2025-03-14T09:10:42.558034Z",
     "start_time": "2025-03-14T09:10:40.274646Z"
    }
   },
   "source": [
    "import sys\n",
    "\n",
    "# Check if running in a Jupyter notebook\n",
    "if 'ipykernel_launcher' in sys.argv[0]:\n",
    "    sys.argv = sys.argv[:1]\n",
    "\n",
    "# Now import the train_detection.py file\n",
    "sys.path.append(\"/\")\n",
    "from train_detection import *"
   ],
   "outputs": [
    {
     "name": "stderr",
     "output_type": "stream",
     "text": [
      "/home/yu/anaconda3/envs/torch_env/lib/python3.9/site-packages/tqdm/auto.py:21: TqdmWarning: IProgress not found. Please update jupyter and ipywidgets. See https://ipywidgets.readthedocs.io/en/stable/user_install.html\n",
      "  from .autonotebook import tqdm as notebook_tqdm\n"
     ]
    }
   ],
   "execution_count": 1
  },
  {
   "metadata": {
    "ExecuteTime": {
     "end_time": "2025-03-14T09:10:42.581458Z",
     "start_time": "2025-03-14T09:10:42.572285Z"
    }
   },
   "cell_type": "code",
   "source": "print(data_path)",
   "id": "f2a9ec8979d6ac72",
   "outputs": [
    {
     "name": "stdout",
     "output_type": "stream",
     "text": [
      "data/Detection_Passive.pkl\n"
     ]
    }
   ],
   "execution_count": 2
  },
  {
   "metadata": {
    "ExecuteTime": {
     "end_time": "2025-03-14T09:10:42.802402Z",
     "start_time": "2025-03-14T09:10:42.789101Z"
    }
   },
   "cell_type": "code",
   "source": [
    "print(\"hello world\")\n",
    "# print the python location\n",
    "print(sys.executable)\n",
    "# print the location of the script\n",
    "print(sys.argv[0])\n",
    "# print hello world\n",
    "print(\"hello world\")"
   ],
   "id": "dde8cbdf11fa3e0f",
   "outputs": [
    {
     "name": "stdout",
     "output_type": "stream",
     "text": [
      "hello world\n",
      "/home/yu/anaconda3/envs/torch_env/bin/python3.9\n",
      "/home/yu/anaconda3/envs/torch_env/lib/python3.9/site-packages/ipykernel_launcher.py\n",
      "hello world\n"
     ]
    }
   ],
   "execution_count": 3
  },
  {
   "metadata": {
    "ExecuteTime": {
     "end_time": "2025-03-14T09:12:09.869919Z",
     "start_time": "2025-03-14T09:12:08.289827Z"
    }
   },
   "cell_type": "code",
   "source": "data_x, data_y, data_subj = load_pickle(\"data/Detection_Passive.pkl\")",
   "id": "e0b6c35304894acd",
   "outputs": [],
   "execution_count": 4
  },
  {
   "metadata": {
    "ExecuteTime": {
     "end_time": "2025-03-14T09:12:28.996906Z",
     "start_time": "2025-03-14T09:12:28.980437Z"
    }
   },
   "cell_type": "code",
   "source": "type(data_x)",
   "id": "5dd8969707f33e03",
   "outputs": [
    {
     "data": {
      "text/plain": [
       "numpy.ndarray"
      ]
     },
     "execution_count": 5,
     "metadata": {},
     "output_type": "execute_result"
    }
   ],
   "execution_count": 5
  },
  {
   "metadata": {
    "ExecuteTime": {
     "end_time": "2025-03-14T09:13:49.923252Z",
     "start_time": "2025-03-14T09:13:49.914691Z"
    }
   },
   "cell_type": "code",
   "source": "data_y[0]",
   "id": "d13f60e8b765d663",
   "outputs": [
    {
     "data": {
      "text/plain": [
       "array([0, 0, 0, ..., 0, 0, 0])"
      ]
     },
     "execution_count": 6,
     "metadata": {},
     "output_type": "execute_result"
    }
   ],
   "execution_count": 6
  },
  {
   "metadata": {
    "ExecuteTime": {
     "end_time": "2025-03-14T09:16:04.732550Z",
     "start_time": "2025-03-14T09:16:04.719352Z"
    }
   },
   "cell_type": "code",
   "source": [
    "# show all the different values in data_y[0]\n",
    "import numpy as np\n",
    "np.unique(data_y[0], return_counts=True)\n"
   ],
   "id": "6d601932a7997681",
   "outputs": [
    {
     "data": {
      "text/plain": [
       "(array([0, 1]), array([68170, 14760]))"
      ]
     },
     "execution_count": 8,
     "metadata": {},
     "output_type": "execute_result"
    }
   ],
   "execution_count": 8
  },
  {
   "metadata": {},
   "cell_type": "code",
   "outputs": [],
   "execution_count": null,
   "source": "",
   "id": "8f3d6b1ccfed5f41"
  },
  {
   "metadata": {
    "ExecuteTime": {
     "end_time": "2025-03-14T02:57:49.307458Z",
     "start_time": "2025-03-14T02:57:49.291873Z"
    }
   },
   "cell_type": "code",
   "outputs": [
    {
     "data": {
      "text/plain": [
       "21"
      ]
     },
     "execution_count": 5,
     "metadata": {},
     "output_type": "execute_result"
    }
   ],
   "execution_count": 5,
   "source": "data_x.size",
   "id": "8341b01512a76be"
  },
  {
   "metadata": {
    "ExecuteTime": {
     "end_time": "2025-03-14T09:33:45.751589Z",
     "start_time": "2025-03-14T09:33:45.744698Z"
    }
   },
   "cell_type": "code",
   "source": "type(data_x[0])",
   "id": "28f63b851461cb71",
   "outputs": [
    {
     "data": {
      "text/plain": [
       "numpy.ndarray"
      ]
     },
     "execution_count": 13,
     "metadata": {},
     "output_type": "execute_result"
    }
   ],
   "execution_count": 13
  },
  {
   "metadata": {
    "ExecuteTime": {
     "end_time": "2025-03-14T09:34:07.586718Z",
     "start_time": "2025-03-14T09:34:07.576989Z"
    }
   },
   "cell_type": "code",
   "source": [
    "# show the range for the data in the data_x\n",
    "data_x[0].min(), data_x[0].max()"
   ],
   "id": "69bd6a94066ab7eb",
   "outputs": [
    {
     "data": {
      "text/plain": [
       "(0.018045718, 0.9859759)"
      ]
     },
     "execution_count": 14,
     "metadata": {},
     "output_type": "execute_result"
    }
   ],
   "execution_count": 14
  },
  {
   "metadata": {
    "ExecuteTime": {
     "end_time": "2025-03-14T02:58:04.384702Z",
     "start_time": "2025-03-14T02:58:04.378198Z"
    }
   },
   "cell_type": "code",
   "source": "data_x.shape",
   "id": "b93e86b83ebbb255",
   "outputs": [
    {
     "data": {
      "text/plain": [
       "(21,)"
      ]
     },
     "execution_count": 6,
     "metadata": {},
     "output_type": "execute_result"
    }
   ],
   "execution_count": 6
  },
  {
   "metadata": {
    "ExecuteTime": {
     "end_time": "2025-03-14T02:58:18.084374Z",
     "start_time": "2025-03-14T02:58:18.078292Z"
    }
   },
   "cell_type": "code",
   "source": "data_y.shape",
   "id": "d4c8dd1d5cadf63c",
   "outputs": [
    {
     "data": {
      "text/plain": [
       "(21,)"
      ]
     },
     "execution_count": 7,
     "metadata": {},
     "output_type": "execute_result"
    }
   ],
   "execution_count": 7
  },
  {
   "metadata": {
    "ExecuteTime": {
     "end_time": "2025-03-14T02:58:25.183956Z",
     "start_time": "2025-03-14T02:58:25.177030Z"
    }
   },
   "cell_type": "code",
   "source": "data_subj.shape",
   "id": "ac56c49ce62fcb61",
   "outputs": [
    {
     "data": {
      "text/plain": [
       "(21,)"
      ]
     },
     "execution_count": 8,
     "metadata": {},
     "output_type": "execute_result"
    }
   ],
   "execution_count": 8
  },
  {
   "metadata": {
    "ExecuteTime": {
     "end_time": "2025-03-14T03:02:23.567888Z",
     "start_time": "2025-03-14T03:02:23.561641Z"
    }
   },
   "cell_type": "code",
   "source": [
    "train_subjects, val_subjects, test_subjects = load_split(args.split)\n",
    "\n",
    "train_dataset = DetectionDataset(data_x, data_y, data_subj, train_subjects)\n",
    "val_dataset = DetectionDataset(data_x, data_y, data_subj, val_subjects)\n",
    "test_dataset = DetectionDataset(data_x, data_y, data_subj, test_subjects)"
   ],
   "id": "edf7146655c73a5e",
   "outputs": [],
   "execution_count": 9
  },
  {
   "metadata": {
    "ExecuteTime": {
     "end_time": "2025-03-14T03:03:14.770994Z",
     "start_time": "2025-03-14T03:03:14.759185Z"
    }
   },
   "cell_type": "code",
   "source": [
    "# print the first item in the train_dataset\n",
    "train_dataset[0]"
   ],
   "id": "cb7702dffbf723ac",
   "outputs": [
    {
     "data": {
      "text/plain": [
       "(array([[0.49099624, 0.49136534, 0.53177553, 0.49296564, 0.5030023 ,\n",
       "         0.51033264],\n",
       "        [0.4908631 , 0.4911624 , 0.53171724, 0.4934174 , 0.5025291 ,\n",
       "         0.5093043 ],\n",
       "        [0.4904063 , 0.491051  , 0.53172296, 0.49324882, 0.501987  ,\n",
       "         0.50812936],\n",
       "        ...,\n",
       "        [0.4818431 , 0.511539  , 0.51523894, 0.5246649 , 0.48808447,\n",
       "         0.5082532 ],\n",
       "        [0.48198977, 0.51097345, 0.51572204, 0.5250942 , 0.48652178,\n",
       "         0.50853   ],\n",
       "        [0.48230323, 0.51053846, 0.5161599 , 0.5254187 , 0.48503882,\n",
       "         0.50878364]], dtype=float32),\n",
       " array([0, 0, 0, ..., 0, 0, 0]))"
      ]
     },
     "execution_count": 10,
     "metadata": {},
     "output_type": "execute_result"
    }
   ],
   "execution_count": 10
  },
  {
   "metadata": {
    "ExecuteTime": {
     "end_time": "2025-03-14T03:22:52.814799Z",
     "start_time": "2025-03-14T03:22:52.807141Z"
    }
   },
   "cell_type": "code",
   "source": "train_dataset[0][0].shape",
   "id": "e6ee286c50cd8e62",
   "outputs": [
    {
     "data": {
      "text/plain": [
       "(82930, 6)"
      ]
     },
     "execution_count": 21,
     "metadata": {},
     "output_type": "execute_result"
    }
   ],
   "execution_count": 21
  },
  {
   "metadata": {
    "ExecuteTime": {
     "end_time": "2025-03-14T03:22:53.340901Z",
     "start_time": "2025-03-14T03:22:53.331865Z"
    }
   },
   "cell_type": "code",
   "source": "train_dataset[0][1].shape",
   "id": "6a133e961976a966",
   "outputs": [
    {
     "data": {
      "text/plain": [
       "(82930,)"
      ]
     },
     "execution_count": 22,
     "metadata": {},
     "output_type": "execute_result"
    }
   ],
   "execution_count": 22
  },
  {
   "metadata": {
    "ExecuteTime": {
     "end_time": "2025-03-14T03:22:55.626402Z",
     "start_time": "2025-03-14T03:22:55.617961Z"
    }
   },
   "cell_type": "code",
   "source": [
    "# count the different values in train_dataset[0][1]\n",
    "import numpy as np\n",
    "np.unique(train_dataset[0][1], return_counts=True)"
   ],
   "id": "2a979a4527eae3f9",
   "outputs": [
    {
     "data": {
      "text/plain": [
       "(array([0, 1]), array([68170, 14760]))"
      ]
     },
     "execution_count": 23,
     "metadata": {},
     "output_type": "execute_result"
    }
   ],
   "execution_count": 23
  },
  {
   "metadata": {
    "ExecuteTime": {
     "end_time": "2025-03-14T09:42:10.355352Z",
     "start_time": "2025-03-14T09:42:10.345486Z"
    }
   },
   "cell_type": "code",
   "source": [
    "import numpy as np\n",
    "from sklearn.preprocessing import MinMaxScaler\n",
    "\n",
    "# Example data\n",
    "data = np.array([[1, 2, 3],\n",
    "                 [4, 5, 6],\n",
    "                 [7, 8, 9]])\n",
    "\n",
    "# Initialize the MinMaxScaler\n",
    "scaler = MinMaxScaler()\n",
    "\n",
    "# Fit the scaler to the data and transform it\n",
    "scaled_data = scaler.fit_transform(data)\n",
    "\n",
    "print(\"Original data:\")\n",
    "print(data)\n",
    "\n",
    "print(\"\\nScaled data:\")\n",
    "print(scaled_data)"
   ],
   "id": "ed1c593c4a96c5bb",
   "outputs": [
    {
     "name": "stdout",
     "output_type": "stream",
     "text": [
      "Original data:\n",
      "[[1 2 3]\n",
      " [4 5 6]\n",
      " [7 8 9]]\n",
      "\n",
      "Scaled data:\n",
      "[[0.  0.  0. ]\n",
      " [0.5 0.5 0.5]\n",
      " [1.  1.  1. ]]\n"
     ]
    }
   ],
   "execution_count": 16
  },
  {
   "metadata": {
    "ExecuteTime": {
     "end_time": "2025-03-14T09:49:38.699269Z",
     "start_time": "2025-03-14T09:49:38.677680Z"
    }
   },
   "cell_type": "code",
   "source": [
    "import numpy as np\n",
    "from sklearn.preprocessing import MinMaxScaler\n",
    "\n",
    "# Example data\n",
    "data = np.array([[[0, 0, 0, 0, 0, 0],\n",
    "                  [1, 2, 3, 4, 5, 6],\n",
    "                  [7, 8, 9, 10, 11, 12]],\n",
    "                 [[0, 0, 0, 0, 0, 0],\n",
    "                  [13, 14, 15, 16, 17, 18],\n",
    "                  [19, 20, 21, 22, 23, 24]]])\n",
    "\n",
    "num_items, max_seq_len, _ = data.shape\n",
    "max_seq_len -= 1\n",
    "\n",
    "# Flatten the accelerometer data (first 3 columns after the first row)\n",
    "acc_flat = data[:, 1:, :3].reshape(num_items * max_seq_len * 3, 1)\n",
    "\n",
    "# Initialize the MinMaxScaler\n",
    "acc_scaler = MinMaxScaler()\n",
    "\n",
    "# Fit the scaler to the data and transform it\n",
    "acc_flat = acc_scaler.fit_transform(acc_flat)\n",
    "\n",
    "# Reshape the scaled data back to the original shape\n",
    "data[:, 1:, :3] = acc_flat.reshape(num_items, max_seq_len, 3)\n",
    "\n",
    "print(\"Scaled data:\")\n",
    "print(data)"
   ],
   "id": "14e7763a852d77e7",
   "outputs": [
    {
     "name": "stdout",
     "output_type": "stream",
     "text": [
      "Scaled data:\n",
      "[[[ 0  0  0  0  0  0]\n",
      "  [ 0  0  0  4  5  6]\n",
      "  [ 0  0  0 10 11 12]]\n",
      "\n",
      " [[ 0  0  0  0  0  0]\n",
      "  [ 0  0  0 16 17 18]\n",
      "  [ 0  0  1 22 23 24]]]\n"
     ]
    }
   ],
   "execution_count": 17
  },
  {
   "metadata": {},
   "cell_type": "code",
   "outputs": [],
   "execution_count": null,
   "source": "",
   "id": "73ea19f98c936d10"
  }
 ],
 "metadata": {
  "kernelspec": {
   "display_name": "Python 3",
   "language": "python",
   "name": "python3"
  },
  "language_info": {
   "codemirror_mode": {
    "name": "ipython",
    "version": 2
   },
   "file_extension": ".py",
   "mimetype": "text/x-python",
   "name": "python",
   "nbconvert_exporter": "python",
   "pygments_lexer": "ipython2",
   "version": "2.7.6"
  }
 },
 "nbformat": 4,
 "nbformat_minor": 5
}
